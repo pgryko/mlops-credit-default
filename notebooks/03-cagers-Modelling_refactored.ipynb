{
 "cells": [
  {
   "cell_type": "markdown",
   "id": "b0e9291a-2cb2-4c21-ba31-f362de7f300c",
   "metadata": {
    "editable": false,
    "slideshow": {
     "slide_type": "slide"
    },
    "tags": []
   },
   "source": [
    "## Version 3\n",
    "Okay we need to refactor this whole thing (version 02), to be more maintainable, and prepared for putting into production.\n",
    "Also the devops guys say they are now enforcing pull requests with code quality checking so our code needs to be less \"smelly\" or the pull request won't be accepted. Installing Ruff can help with that apparently.  \n",
    "Also DONT COMMIT DIRECTLY TO MAIN!"
   ]
  },
  {
   "cell_type": "markdown",
   "id": "f05f223c",
   "metadata": {},
   "source": [
    "Add autoreload since we are now modifying scripts in other folders."
   ]
  },
  {
   "cell_type": "code",
   "execution_count": 3,
   "id": "dde9a1d4",
   "metadata": {},
   "outputs": [
    {
     "name": "stdout",
     "output_type": "stream",
     "text": [
      "The autoreload extension is already loaded. To reload it, use:\n",
      "  %reload_ext autoreload\n"
     ]
    }
   ],
   "source": [
    "%load_ext autoreload\n",
    "%autoreload 2"
   ]
  },
  {
   "cell_type": "markdown",
   "id": "9e74b72a-4dd5-4a2d-8b23-58443dd4c862",
   "metadata": {
    "editable": false,
    "slideshow": {
     "slide_type": "slide"
    },
    "tags": []
   },
   "source": [
    "Getting the data again."
   ]
  },
  {
   "cell_type": "code",
   "execution_count": 4,
   "id": "33798031-5b84-404d-8934-ff0e9d243db4",
   "metadata": {
    "editable": true,
    "slideshow": {
     "slide_type": "subslide"
    },
    "tags": []
   },
   "outputs": [
    {
     "name": "stderr",
     "output_type": "stream",
     "text": [
      "\u001b[32m2025-03-08 08:26:15.310\u001b[0m | \u001b[1mINFO    \u001b[0m | \u001b[36mARISA_DSML.config\u001b[0m:\u001b[36m<module>\u001b[0m:\u001b[36m12\u001b[0m - \u001b[1mPROJ_ROOT path is: C:\\Users\\claus\\source\\repos\\ARISA-MLOps\u001b[0m\n"
     ]
    }
   ],
   "source": [
    "\n",
    "import os\n",
    "import sys\n",
    "\n",
    "sys.path.append(os.path.abspath(\"..\"))\n",
    "\n",
    "from ARISA_DSML.config import RAW_DATA_DIR, categorical, target\n",
    "from ARISA_DSML.preproc import get_raw_data"
   ]
  },
  {
   "cell_type": "code",
   "execution_count": 5,
   "id": "835577ef",
   "metadata": {},
   "outputs": [],
   "source": [
    "\n",
    "import os\n",
    "from pathlib import Path\n",
    "\n",
    "container_check = os.getenv(\"iscontainer\")\n",
    "if container_check==\"y\":\n",
    "    config_dir = Path(\"/home/vscode/.config/kaggle\")\n",
    "    config_dir.mkdir(parents=True, exist_ok=True)\n",
    "\n",
    "    with open(config_dir / \"kaggle.json\", \"w\") as dst:\n",
    "        with open(\"../kaggle.json\") as src:\n",
    "            dst.write(src.read())"
   ]
  },
  {
   "cell_type": "code",
   "execution_count": 6,
   "id": "0a42389d-e7af-4a9c-bf0d-58017bf9688b",
   "metadata": {
    "editable": true,
    "slideshow": {
     "slide_type": "subslide"
    },
    "tags": []
   },
   "outputs": [
    {
     "name": "stderr",
     "output_type": "stream",
     "text": [
      "\u001b[32m2025-03-08 08:26:19.229\u001b[0m | \u001b[1mINFO    \u001b[0m | \u001b[36mARISA_DSML.preproc\u001b[0m:\u001b[36mget_raw_data\u001b[0m:\u001b[36m22\u001b[0m - \u001b[1mRAW_DATA_DIR is: C:\\Users\\claus\\source\\repos\\ARISA-MLOps\\data\\raw\u001b[0m\n"
     ]
    },
    {
     "name": "stdout",
     "output_type": "stream",
     "text": [
      "Dataset URL: https://www.kaggle.com/datasets/wesleyhowe/titanic-labelled-test-set\n",
      " Volume in drive C is Windows\n",
      " Volume Serial Number is 9AF9-C650\n",
      "\n",
      " Directory of C:\\Users\\claus\\source\\repos\\ARISA-MLOps\\data\\raw\n",
      "\n",
      "08/03/2025  08:26 am    <DIR>          .\n",
      "08/03/2025  08:26 am    <DIR>          ..\n",
      "08/03/2025  08:26 am             3,258 gender_submission.csv\n",
      "08/03/2025  08:26 am            28,629 test.csv\n",
      "08/03/2025  08:26 am            30,234 test_augmented.csv\n",
      "08/03/2025  08:26 am            61,194 train.csv\n",
      "               4 File(s)        123,315 bytes\n",
      "               2 Dir(s)  146,675,965,952 bytes free\n"
     ]
    }
   ],
   "source": [
    "get_raw_data()\n",
    "!dir \"{RAW_DATA_DIR}\""
   ]
  },
  {
   "cell_type": "markdown",
   "id": "890bca88-b545-4226-ae7f-64b1388190fd",
   "metadata": {
    "editable": false,
    "slideshow": {
     "slide_type": "slide"
    },
    "tags": []
   },
   "source": [
    "Load preproc from preproc.py and run on train data:"
   ]
  },
  {
   "cell_type": "code",
   "execution_count": 7,
   "id": "9b6f248e",
   "metadata": {},
   "outputs": [],
   "source": [
    "from ARISA_DSML.preproc import preprocess_df\n",
    "\n",
    "train_path = preprocess_df(RAW_DATA_DIR / \"train.csv\")"
   ]
  },
  {
   "cell_type": "code",
   "execution_count": 8,
   "id": "dc30e56d",
   "metadata": {},
   "outputs": [
    {
     "data": {
      "text/plain": [
       "WindowsPath('C:/Users/claus/source/repos/ARISA-MLOps/data/processed/train.csv')"
      ]
     },
     "execution_count": 8,
     "metadata": {},
     "output_type": "execute_result"
    }
   ],
   "source": [
    "train_path"
   ]
  },
  {
   "cell_type": "code",
   "execution_count": 9,
   "id": "9fdfb560-31d7-42e8-8f6a-8a1f206bad56",
   "metadata": {
    "editable": true,
    "slideshow": {
     "slide_type": "subslide"
    },
    "tags": []
   },
   "outputs": [
    {
     "data": {
      "text/plain": [
       "array(['Mr', 'Mrs', 'Miss', 'Master', 'Don', 'Rev', 'Dr', 'Mme', 'Ms',\n",
       "       'Major', 'Lady', 'Sir', 'Mlle', 'Col', 'Capt', 'the Countess',\n",
       "       'Jonkheer'], dtype=object)"
      ]
     },
     "execution_count": 9,
     "metadata": {},
     "output_type": "execute_result"
    }
   ],
   "source": [
    "import pandas as pd\n",
    "\n",
    "df_train = pd.read_csv(train_path)\n",
    "df_train[\"Title\"].unique()"
   ]
  },
  {
   "cell_type": "code",
   "execution_count": 10,
   "id": "ff0bf760-97b2-4e78-8eb3-d4e8c118f1fd",
   "metadata": {
    "editable": true,
    "slideshow": {
     "slide_type": "subslide"
    },
    "tags": []
   },
   "outputs": [
    {
     "name": "stdout",
     "output_type": "stream",
     "text": [
      "<class 'pandas.core.frame.DataFrame'>\n",
      "RangeIndex: 891 entries, 0 to 890\n",
      "Data columns (total 12 columns):\n",
      " #   Column       Non-Null Count  Dtype  \n",
      "---  ------       --------------  -----  \n",
      " 0   PassengerId  891 non-null    int64  \n",
      " 1   Survived     891 non-null    int64  \n",
      " 2   Pclass       891 non-null    int64  \n",
      " 3   Sex          891 non-null    object \n",
      " 4   Age          891 non-null    float64\n",
      " 5   SibSp        891 non-null    int64  \n",
      " 6   Parch        891 non-null    int64  \n",
      " 7   Fare         891 non-null    float64\n",
      " 8   Embarked     891 non-null    object \n",
      " 9   Title        891 non-null    object \n",
      " 10  Deck         891 non-null    object \n",
      " 11  CabinNumber  891 non-null    int64  \n",
      "dtypes: float64(2), int64(6), object(4)\n",
      "memory usage: 83.7+ KB\n"
     ]
    }
   ],
   "source": [
    "df_train.info()"
   ]
  },
  {
   "cell_type": "markdown",
   "id": "b2145d99",
   "metadata": {},
   "source": [
    "Split into X and y, get categorical indices:"
   ]
  },
  {
   "cell_type": "code",
   "execution_count": 11,
   "id": "25939d38-d8f1-409d-99a5-5422918d46b6",
   "metadata": {
    "editable": true,
    "slideshow": {
     "slide_type": "subslide"
    },
    "tags": []
   },
   "outputs": [
    {
     "data": {
      "text/plain": [
       "[1, 2, 7, 9, 8]"
      ]
     },
     "execution_count": 11,
     "metadata": {},
     "output_type": "execute_result"
    }
   ],
   "source": [
    "y_train = df_train.pop(target)\n",
    "X_train = df_train\n",
    "\n",
    "categorical_indices = [X_train.columns.get_loc(col) for col in categorical if col in X_train.columns]\n",
    "categorical_indices"
   ]
  },
  {
   "cell_type": "markdown",
   "id": "37229885-44d0-479e-81d0-0dcae5bfd507",
   "metadata": {
    "editable": false,
    "slideshow": {
     "slide_type": "slide"
    },
    "tags": []
   },
   "source": [
    "And run the hyperparameter optimization (if ):"
   ]
  },
  {
   "cell_type": "code",
   "execution_count": 20,
   "id": "4891bf8c-64b0-4735-8d2f-03425d886925",
   "metadata": {
    "editable": true,
    "slideshow": {
     "slide_type": "subslide"
    },
    "tags": []
   },
   "outputs": [
    {
     "name": "stderr",
     "output_type": "stream",
     "text": [
      "\u001b[32m2025-03-08 08:31:26.692\u001b[0m | \u001b[1mINFO    \u001b[0m | \u001b[36mARISA_DSML.train\u001b[0m:\u001b[36mrun_hyperopt\u001b[0m:\u001b[36m55\u001b[0m - \u001b[1mBest Parameters: {\"depth\": 3, \"learning_rate\": 0.2847856453953337, \"iterations\": 101, \"l2_leaf_reg\": 0.08064725446361332, \"bagging_temperature\": 0.4441828029429478, \"random_strength\": 9.931197047043607}\u001b[0m\n"
     ]
    }
   ],
   "source": [
    "from ARISA_DSML.train import run_hyperopt\n",
    "\n",
    "best_params_path = run_hyperopt(X_train, y_train, categorical_indices)"
   ]
  },
  {
   "cell_type": "markdown",
   "id": "8af73d1c-bb53-47e5-bc84-293972e6837c",
   "metadata": {
    "editable": false,
    "slideshow": {
     "slide_type": "slide"
    },
    "tags": []
   },
   "source": [
    "Do cross validation again:"
   ]
  },
  {
   "cell_type": "code",
   "execution_count": 15,
   "id": "f54fd995-ebc1-4adc-86c9-595fe90243cc",
   "metadata": {
    "editable": true,
    "scrolled": true,
    "slideshow": {
     "slide_type": "subslide"
    },
    "tags": []
   },
   "outputs": [
    {
     "data": {
      "text/plain": [
       "{'depth': 3,\n",
       " 'learning_rate': 0.2847856453953337,\n",
       " 'iterations': 101,\n",
       " 'l2_leaf_reg': 0.08064725446361332,\n",
       " 'bagging_temperature': 0.4441828029429478,\n",
       " 'random_strength': 9.931197047043607}"
      ]
     },
     "metadata": {},
     "output_type": "display_data"
    },
    {
     "data": {
      "application/vnd.jupyter.widget-view+json": {
       "model_id": "3e6bed0820ab481ea75d0a9158e45321",
       "version_major": 2,
       "version_minor": 0
      },
      "text/plain": [
       "MetricVisualizer(layout=Layout(align_self='stretch', height='500px'))"
      ]
     },
     "metadata": {},
     "output_type": "display_data"
    },
    {
     "name": "stdout",
     "output_type": "stream",
     "text": [
      "Training on fold [0/5]\n",
      "0:\tlearn: 0.7145359\ttest: 0.7857143\tbest: 0.7857143 (0)\ttotal: 12.9ms\tremaining: 1.29s\n",
      "1:\tlearn: 0.6951673\ttest: 0.7575758\tbest: 0.7857143 (0)\ttotal: 29.1ms\tremaining: 1.44s\n",
      "2:\tlearn: 0.6962963\ttest: 0.7851852\tbest: 0.7857143 (0)\ttotal: 45.1ms\tremaining: 1.47s\n",
      "3:\tlearn: 0.7091932\ttest: 0.7851852\tbest: 0.7857143 (0)\ttotal: 60.2ms\tremaining: 1.46s\n",
      "4:\tlearn: 0.7091932\ttest: 0.7851852\tbest: 0.7857143 (0)\ttotal: 74.9ms\tremaining: 1.44s\n",
      "5:\tlearn: 0.7091932\ttest: 0.7851852\tbest: 0.7857143 (0)\ttotal: 81.3ms\tremaining: 1.29s\n",
      "6:\tlearn: 0.7129456\ttest: 0.7851852\tbest: 0.7857143 (0)\ttotal: 96.7ms\tremaining: 1.3s\n",
      "7:\tlearn: 0.7142857\ttest: 0.7851852\tbest: 0.7857143 (0)\ttotal: 112ms\tremaining: 1.31s\n",
      "8:\tlearn: 0.7249071\ttest: 0.7969925\tbest: 0.7969925 (8)\ttotal: 128ms\tremaining: 1.3s\n",
      "9:\tlearn: 0.7221172\ttest: 0.7938931\tbest: 0.7969925 (8)\ttotal: 143ms\tremaining: 1.3s\n",
      "10:\tlearn: 0.7221172\ttest: 0.7938931\tbest: 0.7969925 (8)\ttotal: 158ms\tremaining: 1.29s\n",
      "11:\tlearn: 0.7293233\ttest: 0.8030303\tbest: 0.8030303 (11)\ttotal: 176ms\tremaining: 1.31s\n",
      "12:\tlearn: 0.7350746\ttest: 0.8030303\tbest: 0.8030303 (11)\ttotal: 192ms\tremaining: 1.3s\n",
      "13:\tlearn: 0.7350746\ttest: 0.8030303\tbest: 0.8030303 (11)\ttotal: 203ms\tremaining: 1.26s\n",
      "14:\tlearn: 0.7364486\ttest: 0.8030303\tbest: 0.8030303 (11)\ttotal: 219ms\tremaining: 1.25s\n",
      "15:\tlearn: 0.7344633\ttest: 0.8120301\tbest: 0.8120301 (15)\ttotal: 233ms\tremaining: 1.24s\n",
      "16:\tlearn: 0.7344633\ttest: 0.8120301\tbest: 0.8120301 (15)\ttotal: 248ms\tremaining: 1.23s\n",
      "17:\tlearn: 0.7372401\ttest: 0.8120301\tbest: 0.8120301 (15)\ttotal: 263ms\tremaining: 1.21s\n",
      "18:\tlearn: 0.7358491\ttest: 0.8030303\tbest: 0.8120301 (15)\ttotal: 273ms\tremaining: 1.18s\n",
      "19:\tlearn: 0.7358491\ttest: 0.8030303\tbest: 0.8120301 (15)\ttotal: 279ms\tremaining: 1.13s\n",
      "20:\tlearn: 0.7348485\ttest: 0.8030303\tbest: 0.8120301 (15)\ttotal: 295ms\tremaining: 1.12s\n",
      "21:\tlearn: 0.7443609\ttest: 0.7910448\tbest: 0.8120301 (15)\ttotal: 310ms\tremaining: 1.11s\n",
      "22:\tlearn: 0.7476281\ttest: 0.8059701\tbest: 0.8120301 (15)\ttotal: 325ms\tremaining: 1.1s\n",
      "23:\tlearn: 0.7476281\ttest: 0.8059701\tbest: 0.8120301 (15)\ttotal: 331ms\tremaining: 1.06s\n",
      "24:\tlearn: 0.7490494\ttest: 0.8059701\tbest: 0.8120301 (15)\ttotal: 346ms\tremaining: 1.05s\n",
      "25:\tlearn: 0.7462121\ttest: 0.8059701\tbest: 0.8120301 (15)\ttotal: 361ms\tremaining: 1.04s\n",
      "26:\tlearn: 0.7519084\ttest: 0.8120301\tbest: 0.8120301 (15)\ttotal: 377ms\tremaining: 1.03s\n",
      "27:\tlearn: 0.7580952\ttest: 0.8059701\tbest: 0.8120301 (15)\ttotal: 394ms\tremaining: 1.03s\n",
      "28:\tlearn: 0.7580952\ttest: 0.8059701\tbest: 0.8120301 (15)\ttotal: 402ms\tremaining: 998ms\n",
      "29:\tlearn: 0.7537879\ttest: 0.8000000\tbest: 0.8120301 (15)\ttotal: 418ms\tremaining: 989ms\n",
      "30:\tlearn: 0.7570621\ttest: 0.7941176\tbest: 0.8120301 (15)\ttotal: 434ms\tremaining: 981ms\n",
      "31:\tlearn: 0.7599244\ttest: 0.8000000\tbest: 0.8120301 (15)\ttotal: 455ms\tremaining: 982ms\n",
      "32:\tlearn: 0.7642586\ttest: 0.7910448\tbest: 0.8120301 (15)\ttotal: 473ms\tremaining: 975ms\n",
      "33:\tlearn: 0.7671756\ttest: 0.7910448\tbest: 0.8120301 (15)\ttotal: 490ms\tremaining: 965ms\n",
      "34:\tlearn: 0.7709924\ttest: 0.8000000\tbest: 0.8120301 (15)\ttotal: 507ms\tremaining: 956ms\n",
      "35:\tlearn: 0.7762906\ttest: 0.7910448\tbest: 0.8120301 (15)\ttotal: 523ms\tremaining: 944ms\n",
      "36:\tlearn: 0.7762906\ttest: 0.7910448\tbest: 0.8120301 (15)\ttotal: 538ms\tremaining: 930ms\n",
      "37:\tlearn: 0.7754319\ttest: 0.7969925\tbest: 0.8120301 (15)\ttotal: 553ms\tremaining: 917ms\n",
      "38:\tlearn: 0.7754319\ttest: 0.7969925\tbest: 0.8120301 (15)\ttotal: 568ms\tremaining: 903ms\n",
      "39:\tlearn: 0.7769231\ttest: 0.7969925\tbest: 0.8120301 (15)\ttotal: 584ms\tremaining: 891ms\n",
      "40:\tlearn: 0.7893738\ttest: 0.8030303\tbest: 0.8120301 (15)\ttotal: 602ms\tremaining: 880ms\n",
      "41:\tlearn: 0.7939509\ttest: 0.8030303\tbest: 0.8120301 (15)\ttotal: 620ms\tremaining: 871ms\n",
      "42:\tlearn: 0.7954545\ttest: 0.8120301\tbest: 0.8120301 (15)\ttotal: 638ms\tremaining: 860ms\n",
      "43:\tlearn: 0.7977316\ttest: 0.8120301\tbest: 0.8120301 (15)\ttotal: 654ms\tremaining: 847ms\n",
      "44:\tlearn: 0.7962264\ttest: 0.8120301\tbest: 0.8120301 (15)\ttotal: 672ms\tremaining: 836ms\n",
      "45:\tlearn: 0.8022599\ttest: 0.8059701\tbest: 0.8120301 (15)\ttotal: 686ms\tremaining: 821ms\n",
      "46:\tlearn: 0.8045113\ttest: 0.8059701\tbest: 0.8120301 (15)\ttotal: 702ms\tremaining: 807ms\n",
      "47:\tlearn: 0.8089888\ttest: 0.8059701\tbest: 0.8120301 (15)\ttotal: 719ms\tremaining: 793ms\n",
      "48:\tlearn: 0.8089888\ttest: 0.8059701\tbest: 0.8120301 (15)\ttotal: 734ms\tremaining: 779ms\n",
      "49:\tlearn: 0.8134328\ttest: 0.8148148\tbest: 0.8148148 (49)\ttotal: 750ms\tremaining: 765ms\n",
      "50:\tlearn: 0.8156425\ttest: 0.8148148\tbest: 0.8148148 (49)\ttotal: 765ms\tremaining: 750ms\n",
      "51:\tlearn: 0.8224299\ttest: 0.8148148\tbest: 0.8148148 (49)\ttotal: 781ms\tremaining: 736ms\n",
      "52:\tlearn: 0.8224299\ttest: 0.8148148\tbest: 0.8148148 (49)\ttotal: 807ms\tremaining: 731ms\n",
      "53:\tlearn: 0.8246269\ttest: 0.8148148\tbest: 0.8148148 (49)\ttotal: 829ms\tremaining: 721ms\n",
      "54:\tlearn: 0.8246269\ttest: 0.8148148\tbest: 0.8148148 (49)\ttotal: 850ms\tremaining: 711ms\n",
      "55:\tlearn: 0.8283582\ttest: 0.8148148\tbest: 0.8148148 (49)\ttotal: 865ms\tremaining: 695ms\n",
      "56:\tlearn: 0.8246269\ttest: 0.7969925\tbest: 0.8148148 (49)\ttotal: 881ms\tremaining: 680ms\n",
      "57:\tlearn: 0.8299065\ttest: 0.8270677\tbest: 0.8270677 (57)\ttotal: 898ms\tremaining: 666ms\n",
      "58:\tlearn: 0.8292683\ttest: 0.8270677\tbest: 0.8270677 (57)\ttotal: 915ms\tremaining: 651ms\n",
      "59:\tlearn: 0.8308271\ttest: 0.8091603\tbest: 0.8270677 (57)\ttotal: 932ms\tremaining: 637ms\n",
      "60:\tlearn: 0.8345865\ttest: 0.7794118\tbest: 0.8270677 (57)\ttotal: 950ms\tremaining: 623ms\n",
      "61:\tlearn: 0.8323917\ttest: 0.7826087\tbest: 0.8270677 (57)\ttotal: 967ms\tremaining: 608ms\n",
      "62:\tlearn: 0.8345865\ttest: 0.7769784\tbest: 0.8270677 (57)\ttotal: 986ms\tremaining: 595ms\n",
      "63:\tlearn: 0.8345865\ttest: 0.7769784\tbest: 0.8270677 (57)\ttotal: 1s\tremaining: 580ms\n",
      "64:\tlearn: 0.8345865\ttest: 0.7769784\tbest: 0.8270677 (57)\ttotal: 1.02s\tremaining: 564ms\n",
      "65:\tlearn: 0.8345865\ttest: 0.7659574\tbest: 0.8270677 (57)\ttotal: 1.03s\tremaining: 549ms\n",
      "66:\tlearn: 0.8393195\ttest: 0.7714286\tbest: 0.8270677 (57)\ttotal: 1.05s\tremaining: 533ms\n",
      "67:\tlearn: 0.8405253\ttest: 0.7714286\tbest: 0.8270677 (57)\ttotal: 1.07s\tremaining: 518ms\n",
      "68:\tlearn: 0.8458647\ttest: 0.7826087\tbest: 0.8270677 (57)\ttotal: 1.08s\tremaining: 502ms\n",
      "69:\tlearn: 0.8442777\ttest: 0.7826087\tbest: 0.8270677 (57)\ttotal: 1.1s\tremaining: 486ms\n",
      "70:\tlearn: 0.8464419\ttest: 0.7971014\tbest: 0.8270677 (57)\ttotal: 1.11s\tremaining: 471ms\n",
      "71:\tlearn: 0.8480300\ttest: 0.7971014\tbest: 0.8270677 (57)\ttotal: 1.13s\tremaining: 455ms\n",
      "72:\tlearn: 0.8448598\ttest: 0.7913669\tbest: 0.8270677 (57)\ttotal: 1.15s\tremaining: 439ms\n",
      "73:\tlearn: 0.8470149\ttest: 0.7913669\tbest: 0.8270677 (57)\ttotal: 1.16s\tremaining: 423ms\n",
      "74:\tlearn: 0.8485981\ttest: 0.7647059\tbest: 0.8270677 (57)\ttotal: 1.18s\tremaining: 407ms\n",
      "75:\tlearn: 0.8533835\ttest: 0.7794118\tbest: 0.8270677 (57)\ttotal: 1.19s\tremaining: 392ms\n",
      "76:\tlearn: 0.8484848\ttest: 0.7647059\tbest: 0.8270677 (57)\ttotal: 1.21s\tremaining: 376ms\n",
      "77:\tlearn: 0.8462998\ttest: 0.7647059\tbest: 0.8270677 (57)\ttotal: 1.22s\tremaining: 360ms\n",
      "78:\tlearn: 0.8506616\ttest: 0.7703704\tbest: 0.8270677 (57)\ttotal: 1.24s\tremaining: 344ms\n",
      "79:\tlearn: 0.8506616\ttest: 0.7647059\tbest: 0.8270677 (57)\ttotal: 1.25s\tremaining: 329ms\n",
      "80:\tlearn: 0.8522727\ttest: 0.7591241\tbest: 0.8270677 (57)\ttotal: 1.27s\tremaining: 313ms\n",
      "81:\tlearn: 0.8522727\ttest: 0.7500000\tbest: 0.8270677 (57)\ttotal: 1.28s\tremaining: 297ms\n",
      "82:\tlearn: 0.8522727\ttest: 0.7500000\tbest: 0.8270677 (57)\ttotal: 1.3s\tremaining: 282ms\n",
      "83:\tlearn: 0.8522727\ttest: 0.7681159\tbest: 0.8270677 (57)\ttotal: 1.32s\tremaining: 266ms\n",
      "84:\tlearn: 0.8538899\ttest: 0.7681159\tbest: 0.8270677 (57)\ttotal: 1.33s\tremaining: 251ms\n",
      "85:\tlearn: 0.8560606\ttest: 0.7794118\tbest: 0.8270677 (57)\ttotal: 1.34s\tremaining: 235ms\n",
      "86:\tlearn: 0.8560606\ttest: 0.7794118\tbest: 0.8270677 (57)\ttotal: 1.36s\tremaining: 219ms\n",
      "87:\tlearn: 0.8544423\ttest: 0.7794118\tbest: 0.8270677 (57)\ttotal: 1.38s\tremaining: 204ms\n",
      "88:\tlearn: 0.8544423\ttest: 0.7794118\tbest: 0.8270677 (57)\ttotal: 1.4s\tremaining: 188ms\n",
      "89:\tlearn: 0.8592871\ttest: 0.7737226\tbest: 0.8270677 (57)\ttotal: 1.42s\tremaining: 173ms\n",
      "90:\tlearn: 0.8592871\ttest: 0.7737226\tbest: 0.8270677 (57)\ttotal: 1.43s\tremaining: 158ms\n",
      "91:\tlearn: 0.8592871\ttest: 0.7737226\tbest: 0.8270677 (57)\ttotal: 1.45s\tremaining: 142ms\n",
      "92:\tlearn: 0.8592871\ttest: 0.7737226\tbest: 0.8270677 (57)\ttotal: 1.47s\tremaining: 126ms\n",
      "93:\tlearn: 0.8641509\ttest: 0.7703704\tbest: 0.8270677 (57)\ttotal: 1.48s\tremaining: 111ms\n",
      "94:\tlearn: 0.8641509\ttest: 0.7703704\tbest: 0.8270677 (57)\ttotal: 1.5s\tremaining: 94.8ms\n",
      "95:\tlearn: 0.8700565\ttest: 0.7761194\tbest: 0.8270677 (57)\ttotal: 1.52s\tremaining: 79ms\n",
      "96:\tlearn: 0.8733459\ttest: 0.7761194\tbest: 0.8270677 (57)\ttotal: 1.53s\tremaining: 63.2ms\n",
      "97:\tlearn: 0.8750000\ttest: 0.7703704\tbest: 0.8270677 (57)\ttotal: 1.55s\tremaining: 47.4ms\n",
      "98:\tlearn: 0.8750000\ttest: 0.7703704\tbest: 0.8270677 (57)\ttotal: 1.56s\tremaining: 31.6ms\n",
      "99:\tlearn: 0.8750000\ttest: 0.7703704\tbest: 0.8270677 (57)\ttotal: 1.58s\tremaining: 15.8ms\n",
      "100:\tlearn: 0.8733459\ttest: 0.7703704\tbest: 0.8270677 (57)\ttotal: 1.6s\tremaining: 0us\n",
      "\n",
      "bestTest = 0.8270676692\n",
      "bestIteration = 57\n",
      "\n",
      "Training on fold [1/5]\n",
      "0:\tlearn: 0.7442681\ttest: 0.6805556\tbest: 0.6805556 (0)\ttotal: 13.1ms\tremaining: 1.31s\n",
      "1:\tlearn: 0.7464789\ttest: 0.6805556\tbest: 0.6805556 (0)\ttotal: 28.9ms\tremaining: 1.43s\n",
      "2:\tlearn: 0.7442681\ttest: 0.6805556\tbest: 0.6805556 (0)\ttotal: 44.1ms\tremaining: 1.44s\n",
      "3:\tlearn: 0.7442681\ttest: 0.6805556\tbest: 0.6805556 (0)\ttotal: 61.5ms\tremaining: 1.49s\n",
      "4:\tlearn: 0.7508897\ttest: 0.6760563\tbest: 0.6805556 (0)\ttotal: 76.3ms\tremaining: 1.47s\n",
      "5:\tlearn: 0.7508897\ttest: 0.6760563\tbest: 0.6805556 (0)\ttotal: 91.3ms\tremaining: 1.45s\n",
      "6:\tlearn: 0.7545788\ttest: 0.6666667\tbest: 0.6805556 (0)\ttotal: 107ms\tremaining: 1.43s\n",
      "7:\tlearn: 0.7587549\ttest: 0.6614173\tbest: 0.6805556 (0)\ttotal: 123ms\tremaining: 1.43s\n",
      "8:\tlearn: 0.7463918\ttest: 0.6451613\tbest: 0.6805556 (0)\ttotal: 139ms\tremaining: 1.42s\n",
      "9:\tlearn: 0.7642586\ttest: 0.6821705\tbest: 0.6821705 (9)\ttotal: 156ms\tremaining: 1.42s\n",
      "10:\tlearn: 0.7642586\ttest: 0.6821705\tbest: 0.6821705 (9)\ttotal: 164ms\tremaining: 1.34s\n",
      "11:\tlearn: 0.7642586\ttest: 0.6717557\tbest: 0.6821705 (9)\ttotal: 181ms\tremaining: 1.35s\n",
      "12:\tlearn: 0.7727273\ttest: 0.6917293\tbest: 0.6917293 (12)\ttotal: 198ms\tremaining: 1.34s\n",
      "13:\tlearn: 0.7706767\ttest: 0.6865672\tbest: 0.6917293 (12)\ttotal: 215ms\tremaining: 1.33s\n",
      "14:\tlearn: 0.7706767\ttest: 0.6865672\tbest: 0.6917293 (12)\ttotal: 233ms\tremaining: 1.33s\n",
      "15:\tlearn: 0.7741935\ttest: 0.6865672\tbest: 0.6917293 (12)\ttotal: 250ms\tremaining: 1.33s\n",
      "16:\tlearn: 0.7741935\ttest: 0.6865672\tbest: 0.6917293 (12)\ttotal: 256ms\tremaining: 1.27s\n",
      "17:\tlearn: 0.7765152\ttest: 0.6865672\tbest: 0.6917293 (12)\ttotal: 278ms\tremaining: 1.28s\n",
      "18:\tlearn: 0.7788280\ttest: 0.6865672\tbest: 0.6917293 (12)\ttotal: 296ms\tremaining: 1.28s\n",
      "19:\tlearn: 0.7847619\ttest: 0.6969697\tbest: 0.6969697 (19)\ttotal: 312ms\tremaining: 1.26s\n",
      "20:\tlearn: 0.7847619\ttest: 0.6969697\tbest: 0.6969697 (19)\ttotal: 319ms\tremaining: 1.22s\n",
      "21:\tlearn: 0.7847619\ttest: 0.6969697\tbest: 0.6969697 (19)\ttotal: 331ms\tremaining: 1.19s\n",
      "22:\tlearn: 0.7847619\ttest: 0.6969697\tbest: 0.6969697 (19)\ttotal: 348ms\tremaining: 1.18s\n",
      "23:\tlearn: 0.7832700\ttest: 0.7067669\tbest: 0.7067669 (23)\ttotal: 365ms\tremaining: 1.17s\n",
      "24:\tlearn: 0.7832700\ttest: 0.6917293\tbest: 0.7067669 (23)\ttotal: 383ms\tremaining: 1.16s\n",
      "25:\tlearn: 0.7817837\ttest: 0.6917293\tbest: 0.7067669 (23)\ttotal: 402ms\tremaining: 1.16s\n",
      "26:\tlearn: 0.7817837\ttest: 0.6870229\tbest: 0.7067669 (23)\ttotal: 418ms\tremaining: 1.14s\n",
      "27:\tlearn: 0.7839388\ttest: 0.6870229\tbest: 0.7067669 (23)\ttotal: 434ms\tremaining: 1.13s\n",
      "28:\tlearn: 0.7862595\ttest: 0.6870229\tbest: 0.7067669 (23)\ttotal: 449ms\tremaining: 1.11s\n",
      "29:\tlearn: 0.7862595\ttest: 0.7022901\tbest: 0.7067669 (23)\ttotal: 464ms\tremaining: 1.1s\n",
      "30:\tlearn: 0.7892720\ttest: 0.6923077\tbest: 0.7067669 (23)\ttotal: 479ms\tremaining: 1.08s\n",
      "31:\tlearn: 0.7938931\ttest: 0.6821705\tbest: 0.7067669 (23)\ttotal: 495ms\tremaining: 1.07s\n",
      "32:\tlearn: 0.8007590\ttest: 0.6821705\tbest: 0.7067669 (23)\ttotal: 511ms\tremaining: 1.05s\n",
      "33:\tlearn: 0.8052930\ttest: 0.6821705\tbest: 0.7067669 (23)\ttotal: 527ms\tremaining: 1.04s\n",
      "34:\tlearn: 0.8106061\ttest: 0.6821705\tbest: 0.7067669 (23)\ttotal: 544ms\tremaining: 1.02s\n",
      "35:\tlearn: 0.8128544\ttest: 0.6821705\tbest: 0.7067669 (23)\ttotal: 560ms\tremaining: 1.01s\n",
      "36:\tlearn: 0.8113208\ttest: 0.6821705\tbest: 0.7067669 (23)\ttotal: 579ms\tremaining: 1s\n",
      "37:\tlearn: 0.8159393\ttest: 0.6821705\tbest: 0.7067669 (23)\ttotal: 595ms\tremaining: 987ms\n",
      "38:\tlearn: 0.8159393\ttest: 0.6821705\tbest: 0.7067669 (23)\ttotal: 613ms\tremaining: 974ms\n",
      "39:\tlearn: 0.8160920\ttest: 0.6821705\tbest: 0.7067669 (23)\ttotal: 631ms\tremaining: 962ms\n",
      "40:\tlearn: 0.8145315\ttest: 0.6821705\tbest: 0.7067669 (23)\ttotal: 648ms\tremaining: 948ms\n",
      "41:\tlearn: 0.8228571\ttest: 0.6923077\tbest: 0.7067669 (23)\ttotal: 665ms\tremaining: 934ms\n",
      "42:\tlearn: 0.8273245\ttest: 0.6923077\tbest: 0.7067669 (23)\ttotal: 682ms\tremaining: 920ms\n",
      "43:\tlearn: 0.8301887\ttest: 0.6976744\tbest: 0.7067669 (23)\ttotal: 699ms\tremaining: 906ms\n",
      "44:\tlearn: 0.8301887\ttest: 0.6976744\tbest: 0.7067669 (23)\ttotal: 715ms\tremaining: 889ms\n",
      "45:\tlearn: 0.8270677\ttest: 0.6976744\tbest: 0.7067669 (23)\ttotal: 731ms\tremaining: 875ms\n",
      "46:\tlearn: 0.8336449\ttest: 0.6923077\tbest: 0.7067669 (23)\ttotal: 746ms\tremaining: 857ms\n",
      "47:\tlearn: 0.8367730\ttest: 0.6923077\tbest: 0.7067669 (23)\ttotal: 763ms\tremaining: 842ms\n",
      "48:\tlearn: 0.8383459\ttest: 0.6923077\tbest: 0.7067669 (23)\ttotal: 779ms\tremaining: 827ms\n",
      "49:\tlearn: 0.8405253\ttest: 0.6976744\tbest: 0.7067669 (23)\ttotal: 797ms\tremaining: 813ms\n",
      "50:\tlearn: 0.8452830\ttest: 0.7031250\tbest: 0.7067669 (23)\ttotal: 813ms\tremaining: 797ms\n",
      "51:\tlearn: 0.8490566\ttest: 0.7031250\tbest: 0.7067669 (23)\ttotal: 829ms\tremaining: 781ms\n",
      "52:\tlearn: 0.8474576\ttest: 0.7031250\tbest: 0.7067669 (23)\ttotal: 845ms\tremaining: 765ms\n",
      "53:\tlearn: 0.8506616\ttest: 0.7031250\tbest: 0.7067669 (23)\ttotal: 863ms\tremaining: 751ms\n",
      "54:\tlearn: 0.8571429\ttest: 0.6923077\tbest: 0.7067669 (23)\ttotal: 878ms\tremaining: 735ms\n",
      "55:\tlearn: 0.8576850\ttest: 0.6923077\tbest: 0.7067669 (23)\ttotal: 893ms\tremaining: 717ms\n",
      "56:\tlearn: 0.8576850\ttest: 0.6923077\tbest: 0.7067669 (23)\ttotal: 909ms\tremaining: 702ms\n",
      "57:\tlearn: 0.8566038\ttest: 0.6923077\tbest: 0.7067669 (23)\ttotal: 926ms\tremaining: 686ms\n",
      "58:\tlearn: 0.8566038\ttest: 0.6821705\tbest: 0.7067669 (23)\ttotal: 941ms\tremaining: 670ms\n",
      "59:\tlearn: 0.8566038\ttest: 0.6821705\tbest: 0.7067669 (23)\ttotal: 956ms\tremaining: 654ms\n",
      "60:\tlearn: 0.8571429\ttest: 0.6821705\tbest: 0.7067669 (23)\ttotal: 972ms\tremaining: 637ms\n",
      "61:\tlearn: 0.8598848\ttest: 0.6821705\tbest: 0.7067669 (23)\ttotal: 987ms\tremaining: 621ms\n",
      "62:\tlearn: 0.8642447\ttest: 0.7022901\tbest: 0.7067669 (23)\ttotal: 1s\tremaining: 605ms\n",
      "63:\tlearn: 0.8754717\ttest: 0.6969697\tbest: 0.7067669 (23)\ttotal: 1.02s\tremaining: 589ms\n",
      "64:\tlearn: 0.8738230\ttest: 0.6969697\tbest: 0.7067669 (23)\ttotal: 1.03s\tremaining: 572ms\n",
      "65:\tlearn: 0.8754717\ttest: 0.6969697\tbest: 0.7067669 (23)\ttotal: 1.05s\tremaining: 556ms\n",
      "66:\tlearn: 0.8754717\ttest: 0.6969697\tbest: 0.7067669 (23)\ttotal: 1.06s\tremaining: 539ms\n",
      "67:\tlearn: 0.8787879\ttest: 0.6969697\tbest: 0.7067669 (23)\ttotal: 1.08s\tremaining: 523ms\n",
      "68:\tlearn: 0.8787879\ttest: 0.6969697\tbest: 0.7067669 (23)\ttotal: 1.09s\tremaining: 507ms\n",
      "69:\tlearn: 0.8787879\ttest: 0.6969697\tbest: 0.7067669 (23)\ttotal: 1.11s\tremaining: 491ms\n",
      "70:\tlearn: 0.8787879\ttest: 0.7076923\tbest: 0.7076923 (70)\ttotal: 1.12s\tremaining: 475ms\n",
      "71:\tlearn: 0.8821293\ttest: 0.7175573\tbest: 0.7175573 (71)\ttotal: 1.14s\tremaining: 459ms\n",
      "72:\tlearn: 0.8825758\ttest: 0.6929134\tbest: 0.7175573 (71)\ttotal: 1.16s\tremaining: 443ms\n",
      "73:\tlearn: 0.8846881\ttest: 0.6929134\tbest: 0.7175573 (71)\ttotal: 1.17s\tremaining: 427ms\n",
      "74:\tlearn: 0.8880455\ttest: 0.7031250\tbest: 0.7175573 (71)\ttotal: 1.19s\tremaining: 411ms\n",
      "75:\tlearn: 0.8880455\ttest: 0.7031250\tbest: 0.7175573 (71)\ttotal: 1.2s\tremaining: 395ms\n",
      "76:\tlearn: 0.8901515\ttest: 0.7031250\tbest: 0.7175573 (71)\ttotal: 1.22s\tremaining: 380ms\n",
      "77:\tlearn: 0.8901515\ttest: 0.7031250\tbest: 0.7175573 (71)\ttotal: 1.23s\tremaining: 364ms\n",
      "78:\tlearn: 0.8918406\ttest: 0.7031250\tbest: 0.7175573 (71)\ttotal: 1.25s\tremaining: 348ms\n",
      "79:\tlearn: 0.8952381\ttest: 0.7031250\tbest: 0.7175573 (71)\ttotal: 1.27s\tremaining: 333ms\n",
      "80:\tlearn: 0.8952381\ttest: 0.7031250\tbest: 0.7175573 (71)\ttotal: 1.28s\tremaining: 317ms\n",
      "81:\tlearn: 0.8952381\ttest: 0.7031250\tbest: 0.7175573 (71)\ttotal: 1.3s\tremaining: 301ms\n",
      "82:\tlearn: 0.8927203\ttest: 0.6929134\tbest: 0.7175573 (71)\ttotal: 1.31s\tremaining: 285ms\n",
      "83:\tlearn: 0.8931298\ttest: 0.7086614\tbest: 0.7175573 (71)\ttotal: 1.33s\tremaining: 269ms\n",
      "84:\tlearn: 0.8914286\ttest: 0.7031250\tbest: 0.7175573 (71)\ttotal: 1.35s\tremaining: 253ms\n",
      "85:\tlearn: 0.8935361\ttest: 0.7031250\tbest: 0.7175573 (71)\ttotal: 1.36s\tremaining: 238ms\n",
      "86:\tlearn: 0.8893130\ttest: 0.7031250\tbest: 0.7175573 (71)\ttotal: 1.38s\tremaining: 222ms\n",
      "87:\tlearn: 0.8914286\ttest: 0.7230769\tbest: 0.7230769 (87)\ttotal: 1.39s\tremaining: 206ms\n",
      "88:\tlearn: 0.8914286\ttest: 0.7230769\tbest: 0.7230769 (87)\ttotal: 1.41s\tremaining: 190ms\n",
      "89:\tlearn: 0.8931298\ttest: 0.7230769\tbest: 0.7230769 (87)\ttotal: 1.43s\tremaining: 174ms\n",
      "90:\tlearn: 0.8969466\ttest: 0.7230769\tbest: 0.7230769 (87)\ttotal: 1.44s\tremaining: 159ms\n",
      "91:\tlearn: 0.8969466\ttest: 0.7230769\tbest: 0.7230769 (87)\ttotal: 1.46s\tremaining: 143ms\n",
      "92:\tlearn: 0.8986616\ttest: 0.7424242\tbest: 0.7424242 (92)\ttotal: 1.47s\tremaining: 127ms\n",
      "93:\tlearn: 0.8986616\ttest: 0.7424242\tbest: 0.7424242 (92)\ttotal: 1.49s\tremaining: 111ms\n",
      "94:\tlearn: 0.9024857\ttest: 0.7424242\tbest: 0.7424242 (92)\ttotal: 1.5s\tremaining: 95ms\n",
      "95:\tlearn: 0.9042146\ttest: 0.7424242\tbest: 0.7424242 (92)\ttotal: 1.52s\tremaining: 79.1ms\n",
      "96:\tlearn: 0.9045802\ttest: 0.7424242\tbest: 0.7424242 (92)\ttotal: 1.53s\tremaining: 63.3ms\n",
      "97:\tlearn: 0.9024857\ttest: 0.7424242\tbest: 0.7424242 (92)\ttotal: 1.55s\tremaining: 47.5ms\n",
      "98:\tlearn: 0.9007634\ttest: 0.7424242\tbest: 0.7424242 (92)\ttotal: 1.57s\tremaining: 31.7ms\n",
      "99:\tlearn: 0.9045802\ttest: 0.7480916\tbest: 0.7480916 (99)\ttotal: 1.59s\tremaining: 15.9ms\n",
      "100:\tlearn: 0.9045802\ttest: 0.7384615\tbest: 0.7480916 (99)\ttotal: 1.6s\tremaining: 0us\n",
      "\n",
      "bestTest = 0.7480916031\n",
      "bestIteration = 99\n",
      "\n",
      "Training on fold [2/5]\n",
      "0:\tlearn: 0.7203065\ttest: 0.6861314\tbest: 0.6861314 (0)\ttotal: 13.5ms\tremaining: 1.35s\n",
      "1:\tlearn: 0.6835443\ttest: 0.6890756\tbest: 0.6890756 (1)\ttotal: 29.2ms\tremaining: 1.44s\n",
      "2:\tlearn: 0.7262357\ttest: 0.7000000\tbest: 0.7000000 (2)\ttotal: 45.7ms\tremaining: 1.49s\n",
      "3:\tlearn: 0.7265774\ttest: 0.6956522\tbest: 0.7000000 (2)\ttotal: 60.6ms\tremaining: 1.47s\n",
      "4:\tlearn: 0.7310606\ttest: 0.6956522\tbest: 0.7000000 (2)\ttotal: 75.9ms\tremaining: 1.46s\n",
      "5:\tlearn: 0.7380497\ttest: 0.7050360\tbest: 0.7050360 (5)\ttotal: 91.9ms\tremaining: 1.45s\n",
      "6:\tlearn: 0.7394636\ttest: 0.7050360\tbest: 0.7050360 (5)\ttotal: 98.4ms\tremaining: 1.32s\n",
      "7:\tlearn: 0.7148594\ttest: 0.6896552\tbest: 0.7050360 (5)\ttotal: 115ms\tremaining: 1.33s\n",
      "8:\tlearn: 0.7448015\ttest: 0.6956522\tbest: 0.7050360 (5)\ttotal: 131ms\tremaining: 1.34s\n",
      "9:\tlearn: 0.7448015\ttest: 0.6956522\tbest: 0.7050360 (5)\ttotal: 137ms\tremaining: 1.25s\n",
      "10:\tlearn: 0.7509579\ttest: 0.6969697\tbest: 0.7050360 (5)\ttotal: 153ms\tremaining: 1.25s\n",
      "11:\tlearn: 0.7533461\ttest: 0.6969697\tbest: 0.7050360 (5)\ttotal: 164ms\tremaining: 1.21s\n",
      "12:\tlearn: 0.7490347\ttest: 0.6870229\tbest: 0.7050360 (5)\ttotal: 174ms\tremaining: 1.18s\n",
      "13:\tlearn: 0.7466151\ttest: 0.6969697\tbest: 0.7050360 (5)\ttotal: 190ms\tremaining: 1.18s\n",
      "14:\tlearn: 0.7466151\ttest: 0.6969697\tbest: 0.7050360 (5)\ttotal: 198ms\tremaining: 1.13s\n",
      "15:\tlearn: 0.7421875\ttest: 0.6969697\tbest: 0.7050360 (5)\ttotal: 213ms\tremaining: 1.13s\n",
      "16:\tlearn: 0.7456311\ttest: 0.6870229\tbest: 0.7050360 (5)\ttotal: 229ms\tremaining: 1.13s\n",
      "17:\tlearn: 0.7514451\ttest: 0.6969697\tbest: 0.7050360 (5)\ttotal: 240ms\tremaining: 1.11s\n",
      "18:\tlearn: 0.7338710\ttest: 0.6896552\tbest: 0.7050360 (5)\ttotal: 257ms\tremaining: 1.11s\n",
      "19:\tlearn: 0.7380952\ttest: 0.6666667\tbest: 0.7050360 (5)\ttotal: 273ms\tremaining: 1.11s\n",
      "20:\tlearn: 0.7547893\ttest: 0.6766917\tbest: 0.7050360 (5)\ttotal: 290ms\tremaining: 1.1s\n",
      "21:\tlearn: 0.7562380\ttest: 0.6666667\tbest: 0.7050360 (5)\ttotal: 309ms\tremaining: 1.11s\n",
      "22:\tlearn: 0.7633588\ttest: 0.6666667\tbest: 0.7050360 (5)\ttotal: 325ms\tremaining: 1.1s\n",
      "23:\tlearn: 0.7609943\ttest: 0.6769231\tbest: 0.7050360 (5)\ttotal: 341ms\tremaining: 1.09s\n",
      "24:\tlearn: 0.7648184\ttest: 0.6717557\tbest: 0.7050360 (5)\ttotal: 358ms\tremaining: 1.09s\n",
      "25:\tlearn: 0.7648184\ttest: 0.6717557\tbest: 0.7050360 (5)\ttotal: 373ms\tremaining: 1.07s\n",
      "26:\tlearn: 0.7633588\ttest: 0.6769231\tbest: 0.7050360 (5)\ttotal: 388ms\tremaining: 1.06s\n",
      "27:\tlearn: 0.7703985\ttest: 0.6769231\tbest: 0.7050360 (5)\ttotal: 405ms\tremaining: 1.06s\n",
      "28:\tlearn: 0.7709924\ttest: 0.6769231\tbest: 0.7050360 (5)\ttotal: 422ms\tremaining: 1.05s\n",
      "29:\tlearn: 0.7695238\ttest: 0.6769231\tbest: 0.7050360 (5)\ttotal: 439ms\tremaining: 1.04s\n",
      "30:\tlearn: 0.7695238\ttest: 0.6769231\tbest: 0.7050360 (5)\ttotal: 446ms\tremaining: 1.01s\n",
      "31:\tlearn: 0.7668593\ttest: 0.6984127\tbest: 0.7050360 (5)\ttotal: 462ms\tremaining: 995ms\n",
      "32:\tlearn: 0.7701149\ttest: 0.7086614\tbest: 0.7086614 (32)\ttotal: 477ms\tremaining: 984ms\n",
      "33:\tlearn: 0.7762906\ttest: 0.6875000\tbest: 0.7086614 (32)\ttotal: 493ms\tremaining: 972ms\n",
      "34:\tlearn: 0.7786260\ttest: 0.6875000\tbest: 0.7086614 (32)\ttotal: 509ms\tremaining: 960ms\n",
      "35:\tlearn: 0.7863894\ttest: 0.6929134\tbest: 0.7086614 (32)\ttotal: 526ms\tremaining: 950ms\n",
      "36:\tlearn: 0.7849057\ttest: 0.6984127\tbest: 0.7086614 (32)\ttotal: 543ms\tremaining: 939ms\n",
      "37:\tlearn: 0.7878788\ttest: 0.6929134\tbest: 0.7086614 (32)\ttotal: 572ms\tremaining: 949ms\n",
      "38:\tlearn: 0.7870722\ttest: 0.6929134\tbest: 0.7086614 (32)\ttotal: 590ms\tremaining: 937ms\n",
      "39:\tlearn: 0.7915870\ttest: 0.6666667\tbest: 0.7086614 (32)\ttotal: 606ms\tremaining: 924ms\n",
      "40:\tlearn: 0.8015123\ttest: 0.6929134\tbest: 0.7086614 (32)\ttotal: 623ms\tremaining: 911ms\n",
      "41:\tlearn: 0.8052434\ttest: 0.7086614\tbest: 0.7086614 (32)\ttotal: 656ms\tremaining: 921ms\n",
      "42:\tlearn: 0.8082707\ttest: 0.7086614\tbest: 0.7086614 (32)\ttotal: 671ms\tremaining: 905ms\n",
      "43:\tlearn: 0.8097928\ttest: 0.7086614\tbest: 0.7086614 (32)\ttotal: 686ms\tremaining: 889ms\n",
      "44:\tlearn: 0.8150943\ttest: 0.7086614\tbest: 0.7086614 (32)\ttotal: 704ms\tremaining: 876ms\n",
      "45:\tlearn: 0.8173258\ttest: 0.7200000\tbest: 0.7200000 (45)\ttotal: 722ms\tremaining: 863ms\n",
      "46:\tlearn: 0.8173258\ttest: 0.7301587\tbest: 0.7301587 (46)\ttotal: 743ms\tremaining: 854ms\n",
      "47:\tlearn: 0.8257576\ttest: 0.7200000\tbest: 0.7301587 (46)\ttotal: 760ms\tremaining: 839ms\n",
      "48:\tlearn: 0.8279773\ttest: 0.7301587\tbest: 0.7301587 (46)\ttotal: 778ms\tremaining: 826ms\n",
      "49:\tlearn: 0.8279773\ttest: 0.7301587\tbest: 0.7301587 (46)\ttotal: 797ms\tremaining: 813ms\n",
      "50:\tlearn: 0.8317580\ttest: 0.7301587\tbest: 0.7301587 (46)\ttotal: 818ms\tremaining: 802ms\n",
      "51:\tlearn: 0.8339623\ttest: 0.7244094\tbest: 0.7301587 (46)\ttotal: 843ms\tremaining: 795ms\n",
      "52:\tlearn: 0.8308271\ttest: 0.7187500\tbest: 0.7301587 (46)\ttotal: 865ms\tremaining: 783ms\n",
      "53:\tlearn: 0.8292683\ttest: 0.7187500\tbest: 0.7301587 (46)\ttotal: 887ms\tremaining: 772ms\n",
      "54:\tlearn: 0.8361582\ttest: 0.7187500\tbest: 0.7301587 (46)\ttotal: 905ms\tremaining: 757ms\n",
      "55:\tlearn: 0.8468809\ttest: 0.7187500\tbest: 0.7301587 (46)\ttotal: 924ms\tremaining: 742ms\n",
      "56:\tlearn: 0.8377358\ttest: 0.7441860\tbest: 0.7441860 (56)\ttotal: 942ms\tremaining: 727ms\n",
      "57:\tlearn: 0.8377358\ttest: 0.7384615\tbest: 0.7441860 (56)\ttotal: 963ms\tremaining: 714ms\n",
      "58:\tlearn: 0.8421053\ttest: 0.7384615\tbest: 0.7441860 (56)\ttotal: 981ms\tremaining: 699ms\n",
      "59:\tlearn: 0.8452830\ttest: 0.7384615\tbest: 0.7441860 (56)\ttotal: 1.01s\tremaining: 689ms\n",
      "60:\tlearn: 0.8496241\ttest: 0.7441860\tbest: 0.7441860 (56)\ttotal: 1.02s\tremaining: 672ms\n",
      "61:\tlearn: 0.8474576\ttest: 0.7441860\tbest: 0.7441860 (56)\ttotal: 1.04s\tremaining: 655ms\n",
      "62:\tlearn: 0.8512241\ttest: 0.7441860\tbest: 0.7441860 (56)\ttotal: 1.06s\tremaining: 638ms\n",
      "63:\tlearn: 0.8555347\ttest: 0.7538462\tbest: 0.7538462 (63)\ttotal: 1.07s\tremaining: 620ms\n",
      "64:\tlearn: 0.8571429\ttest: 0.7538462\tbest: 0.7538462 (63)\ttotal: 1.09s\tremaining: 603ms\n",
      "65:\tlearn: 0.8571429\ttest: 0.7538462\tbest: 0.7538462 (63)\ttotal: 1.1s\tremaining: 586ms\n",
      "66:\tlearn: 0.8587571\ttest: 0.7538462\tbest: 0.7538462 (63)\ttotal: 1.12s\tremaining: 568ms\n",
      "67:\tlearn: 0.8544423\ttest: 0.7441860\tbest: 0.7538462 (63)\ttotal: 1.14s\tremaining: 551ms\n",
      "68:\tlearn: 0.8528302\ttest: 0.7441860\tbest: 0.7538462 (63)\ttotal: 1.15s\tremaining: 534ms\n",
      "69:\tlearn: 0.8544423\ttest: 0.7441860\tbest: 0.7538462 (63)\ttotal: 1.17s\tremaining: 517ms\n",
      "70:\tlearn: 0.8544423\ttest: 0.7441860\tbest: 0.7538462 (63)\ttotal: 1.19s\tremaining: 501ms\n",
      "71:\tlearn: 0.8566038\ttest: 0.7384615\tbest: 0.7538462 (63)\ttotal: 1.2s\tremaining: 484ms\n",
      "72:\tlearn: 0.8522727\ttest: 0.7328244\tbest: 0.7538462 (63)\ttotal: 1.22s\tremaining: 467ms\n",
      "73:\tlearn: 0.8538899\ttest: 0.7328244\tbest: 0.7538462 (63)\ttotal: 1.23s\tremaining: 450ms\n",
      "74:\tlearn: 0.8582231\ttest: 0.7328244\tbest: 0.7538462 (63)\ttotal: 1.25s\tremaining: 434ms\n",
      "75:\tlearn: 0.8603774\ttest: 0.7328244\tbest: 0.7538462 (63)\ttotal: 1.27s\tremaining: 417ms\n",
      "76:\tlearn: 0.8603774\ttest: 0.7328244\tbest: 0.7538462 (63)\ttotal: 1.28s\tremaining: 400ms\n",
      "77:\tlearn: 0.8582231\ttest: 0.7328244\tbest: 0.7538462 (63)\ttotal: 1.3s\tremaining: 382ms\n",
      "78:\tlearn: 0.8603774\ttest: 0.7328244\tbest: 0.7538462 (63)\ttotal: 1.31s\tremaining: 366ms\n",
      "79:\tlearn: 0.8587571\ttest: 0.7328244\tbest: 0.7538462 (63)\ttotal: 1.33s\tremaining: 349ms\n",
      "80:\tlearn: 0.8625235\ttest: 0.7328244\tbest: 0.7538462 (63)\ttotal: 1.34s\tremaining: 332ms\n",
      "81:\tlearn: 0.8620038\ttest: 0.7328244\tbest: 0.7538462 (63)\ttotal: 1.36s\tremaining: 315ms\n",
      "82:\tlearn: 0.8674242\ttest: 0.7328244\tbest: 0.7538462 (63)\ttotal: 1.38s\tremaining: 299ms\n",
      "83:\tlearn: 0.8641509\ttest: 0.7328244\tbest: 0.7538462 (63)\ttotal: 1.39s\tremaining: 282ms\n",
      "84:\tlearn: 0.8641509\ttest: 0.7328244\tbest: 0.7538462 (63)\ttotal: 1.41s\tremaining: 265ms\n",
      "85:\tlearn: 0.8641509\ttest: 0.7328244\tbest: 0.7538462 (63)\ttotal: 1.42s\tremaining: 248ms\n",
      "86:\tlearn: 0.8674242\ttest: 0.7328244\tbest: 0.7538462 (63)\ttotal: 1.44s\tremaining: 231ms\n",
      "87:\tlearn: 0.8712121\ttest: 0.7384615\tbest: 0.7538462 (63)\ttotal: 1.45s\tremaining: 215ms\n",
      "88:\tlearn: 0.8695652\ttest: 0.7384615\tbest: 0.7538462 (63)\ttotal: 1.47s\tremaining: 198ms\n",
      "89:\tlearn: 0.8733459\ttest: 0.7441860\tbest: 0.7538462 (63)\ttotal: 1.49s\tremaining: 182ms\n",
      "90:\tlearn: 0.8771267\ttest: 0.7441860\tbest: 0.7538462 (63)\ttotal: 1.5s\tremaining: 165ms\n",
      "91:\tlearn: 0.8754717\ttest: 0.7441860\tbest: 0.7538462 (63)\ttotal: 1.52s\tremaining: 148ms\n",
      "92:\tlearn: 0.8792453\ttest: 0.7538462\tbest: 0.7538462 (63)\ttotal: 1.53s\tremaining: 132ms\n",
      "93:\tlearn: 0.8830189\ttest: 0.7343750\tbest: 0.7538462 (63)\ttotal: 1.55s\tremaining: 115ms\n",
      "94:\tlearn: 0.8830189\ttest: 0.7343750\tbest: 0.7538462 (63)\ttotal: 1.56s\tremaining: 98.7ms\n",
      "95:\tlearn: 0.8867925\ttest: 0.7441860\tbest: 0.7538462 (63)\ttotal: 1.58s\tremaining: 82.2ms\n",
      "96:\tlearn: 0.8851224\ttest: 0.7441860\tbest: 0.7538462 (63)\ttotal: 1.59s\tremaining: 65.7ms\n",
      "97:\tlearn: 0.8855535\ttest: 0.7441860\tbest: 0.7538462 (63)\ttotal: 1.61s\tremaining: 49.2ms\n",
      "98:\tlearn: 0.8872180\ttest: 0.7441860\tbest: 0.7538462 (63)\ttotal: 1.62s\tremaining: 32.8ms\n",
      "99:\tlearn: 0.8872180\ttest: 0.7343750\tbest: 0.7538462 (63)\ttotal: 1.64s\tremaining: 16.4ms\n",
      "100:\tlearn: 0.8813559\ttest: 0.7441860\tbest: 0.7538462 (63)\ttotal: 1.66s\tremaining: 0us\n",
      "\n",
      "bestTest = 0.7538461538\n",
      "bestIteration = 63\n",
      "\n",
      "Training on fold [3/5]\n",
      "0:\tlearn: 0.6280193\ttest: 0.6857143\tbest: 0.6857143 (0)\ttotal: 13ms\tremaining: 1.3s\n",
      "1:\tlearn: 0.6348449\ttest: 0.6792453\tbest: 0.6857143 (0)\ttotal: 35ms\tremaining: 1.73s\n",
      "2:\tlearn: 0.6348449\ttest: 0.6792453\tbest: 0.6857143 (0)\ttotal: 45.1ms\tremaining: 1.47s\n",
      "3:\tlearn: 0.6494118\ttest: 0.7155963\tbest: 0.7155963 (3)\ttotal: 69.3ms\tremaining: 1.68s\n",
      "4:\tlearn: 0.6681034\ttest: 0.7288136\tbest: 0.7288136 (4)\ttotal: 85.7ms\tremaining: 1.65s\n",
      "5:\tlearn: 0.6697248\ttest: 0.7090909\tbest: 0.7288136 (4)\ttotal: 101ms\tremaining: 1.61s\n",
      "6:\tlearn: 0.7223382\ttest: 0.7666667\tbest: 0.7666667 (6)\ttotal: 117ms\tremaining: 1.57s\n",
      "7:\tlearn: 0.7284211\ttest: 0.7768595\tbest: 0.7768595 (7)\ttotal: 133ms\tremaining: 1.55s\n",
      "8:\tlearn: 0.7268908\ttest: 0.7768595\tbest: 0.7768595 (7)\ttotal: 148ms\tremaining: 1.51s\n",
      "9:\tlearn: 0.7348643\ttest: 0.7768595\tbest: 0.7768595 (7)\ttotal: 164ms\tremaining: 1.49s\n",
      "10:\tlearn: 0.7396694\ttest: 0.7768595\tbest: 0.7768595 (7)\ttotal: 179ms\tremaining: 1.46s\n",
      "11:\tlearn: 0.7412008\ttest: 0.7768595\tbest: 0.7768595 (7)\ttotal: 185ms\tremaining: 1.37s\n",
      "12:\tlearn: 0.7448560\ttest: 0.7768595\tbest: 0.7768595 (7)\ttotal: 201ms\tremaining: 1.36s\n",
      "13:\tlearn: 0.7500000\ttest: 0.7768595\tbest: 0.7768595 (7)\ttotal: 218ms\tremaining: 1.35s\n",
      "14:\tlearn: 0.7505155\ttest: 0.7768595\tbest: 0.7768595 (7)\ttotal: 233ms\tremaining: 1.33s\n",
      "15:\tlearn: 0.7572016\ttest: 0.7768595\tbest: 0.7768595 (7)\ttotal: 249ms\tremaining: 1.32s\n",
      "16:\tlearn: 0.7546392\ttest: 0.7768595\tbest: 0.7768595 (7)\ttotal: 265ms\tremaining: 1.31s\n",
      "17:\tlearn: 0.7587629\ttest: 0.7768595\tbest: 0.7768595 (7)\ttotal: 280ms\tremaining: 1.29s\n",
      "18:\tlearn: 0.7587629\ttest: 0.7768595\tbest: 0.7768595 (7)\ttotal: 296ms\tremaining: 1.28s\n",
      "19:\tlearn: 0.7587629\ttest: 0.7768595\tbest: 0.7768595 (7)\ttotal: 312ms\tremaining: 1.26s\n",
      "20:\tlearn: 0.7682927\ttest: 0.7768595\tbest: 0.7768595 (7)\ttotal: 329ms\tremaining: 1.25s\n",
      "21:\tlearn: 0.7723577\ttest: 0.7768595\tbest: 0.7768595 (7)\ttotal: 345ms\tremaining: 1.24s\n",
      "22:\tlearn: 0.7698574\ttest: 0.7768595\tbest: 0.7768595 (7)\ttotal: 360ms\tremaining: 1.22s\n",
      "23:\tlearn: 0.7663934\ttest: 0.7768595\tbest: 0.7768595 (7)\ttotal: 377ms\tremaining: 1.21s\n",
      "24:\tlearn: 0.7663934\ttest: 0.7768595\tbest: 0.7768595 (7)\ttotal: 394ms\tremaining: 1.2s\n",
      "25:\tlearn: 0.7689162\ttest: 0.7768595\tbest: 0.7768595 (7)\ttotal: 409ms\tremaining: 1.18s\n",
      "26:\tlearn: 0.7714286\ttest: 0.7768595\tbest: 0.7768595 (7)\ttotal: 424ms\tremaining: 1.16s\n",
      "27:\tlearn: 0.7739308\ttest: 0.7868852\tbest: 0.7868852 (27)\ttotal: 441ms\tremaining: 1.15s\n",
      "28:\tlearn: 0.7714286\ttest: 0.7868852\tbest: 0.7868852 (27)\ttotal: 454ms\tremaining: 1.13s\n",
      "29:\tlearn: 0.7714286\ttest: 0.7868852\tbest: 0.7868852 (27)\ttotal: 466ms\tremaining: 1.1s\n",
      "30:\tlearn: 0.7698574\ttest: 0.7933884\tbest: 0.7933884 (30)\ttotal: 482ms\tremaining: 1.09s\n",
      "31:\tlearn: 0.7773279\ttest: 0.8032787\tbest: 0.8032787 (31)\ttotal: 496ms\tremaining: 1.07s\n",
      "32:\tlearn: 0.7797980\ttest: 0.8032787\tbest: 0.8032787 (31)\ttotal: 512ms\tremaining: 1.05s\n",
      "33:\tlearn: 0.7806841\ttest: 0.8032787\tbest: 0.8032787 (31)\ttotal: 527ms\tremaining: 1.04s\n",
      "34:\tlearn: 0.7895792\ttest: 0.8099174\tbest: 0.8099174 (34)\ttotal: 543ms\tremaining: 1.02s\n",
      "35:\tlearn: 0.7920000\ttest: 0.7967480\tbest: 0.8099174 (34)\ttotal: 559ms\tremaining: 1.01s\n",
      "36:\tlearn: 0.7935872\ttest: 0.7967480\tbest: 0.8099174 (34)\ttotal: 575ms\tremaining: 994ms\n",
      "37:\tlearn: 0.7911647\ttest: 0.7967480\tbest: 0.8099174 (34)\ttotal: 590ms\tremaining: 977ms\n",
      "38:\tlearn: 0.8118812\ttest: 0.7967480\tbest: 0.8099174 (34)\ttotal: 605ms\tremaining: 961ms\n",
      "39:\tlearn: 0.8134921\ttest: 0.8160000\tbest: 0.8160000 (39)\ttotal: 620ms\tremaining: 945ms\n",
      "40:\tlearn: 0.8134921\ttest: 0.7967480\tbest: 0.8160000 (39)\ttotal: 635ms\tremaining: 929ms\n",
      "41:\tlearn: 0.8142292\ttest: 0.8032787\tbest: 0.8160000 (39)\ttotal: 650ms\tremaining: 913ms\n",
      "42:\tlearn: 0.8165680\ttest: 0.8130081\tbest: 0.8160000 (39)\ttotal: 666ms\tremaining: 898ms\n",
      "43:\tlearn: 0.8149606\ttest: 0.8064516\tbest: 0.8160000 (39)\ttotal: 681ms\tremaining: 883ms\n",
      "44:\tlearn: 0.8172888\ttest: 0.8064516\tbest: 0.8160000 (39)\ttotal: 696ms\tremaining: 866ms\n",
      "45:\tlearn: 0.8251473\ttest: 0.8064516\tbest: 0.8160000 (39)\ttotal: 712ms\tremaining: 851ms\n",
      "46:\tlearn: 0.8251473\ttest: 0.8064516\tbest: 0.8160000 (39)\ttotal: 727ms\tremaining: 835ms\n",
      "47:\tlearn: 0.8251473\ttest: 0.8160000\tbest: 0.8160000 (39)\ttotal: 741ms\tremaining: 818ms\n",
      "48:\tlearn: 0.8297456\ttest: 0.8160000\tbest: 0.8160000 (39)\ttotal: 757ms\tremaining: 803ms\n",
      "49:\tlearn: 0.8274510\ttest: 0.8160000\tbest: 0.8160000 (39)\ttotal: 774ms\tremaining: 789ms\n",
      "50:\tlearn: 0.8326848\ttest: 0.8160000\tbest: 0.8160000 (39)\ttotal: 789ms\tremaining: 774ms\n",
      "51:\tlearn: 0.8326848\ttest: 0.8160000\tbest: 0.8160000 (39)\ttotal: 805ms\tremaining: 758ms\n",
      "52:\tlearn: 0.8394584\ttest: 0.8125000\tbest: 0.8160000 (39)\ttotal: 820ms\tremaining: 743ms\n",
      "53:\tlearn: 0.8394584\ttest: 0.8217054\tbest: 0.8217054 (53)\ttotal: 835ms\tremaining: 727ms\n",
      "54:\tlearn: 0.8394584\ttest: 0.8217054\tbest: 0.8217054 (53)\ttotal: 850ms\tremaining: 711ms\n",
      "55:\tlearn: 0.8416988\ttest: 0.8125000\tbest: 0.8217054 (53)\ttotal: 869ms\tremaining: 699ms\n",
      "56:\tlearn: 0.8433269\ttest: 0.8125000\tbest: 0.8217054 (53)\ttotal: 886ms\tremaining: 684ms\n",
      "57:\tlearn: 0.8466019\ttest: 0.8188976\tbest: 0.8217054 (53)\ttotal: 901ms\tremaining: 668ms\n",
      "58:\tlearn: 0.8466019\ttest: 0.8188976\tbest: 0.8217054 (53)\ttotal: 917ms\tremaining: 653ms\n",
      "59:\tlearn: 0.8482490\ttest: 0.8125000\tbest: 0.8217054 (53)\ttotal: 933ms\tremaining: 637ms\n",
      "60:\tlearn: 0.8466019\ttest: 0.8125000\tbest: 0.8217054 (53)\ttotal: 947ms\tremaining: 621ms\n",
      "61:\tlearn: 0.8466019\ttest: 0.8125000\tbest: 0.8217054 (53)\ttotal: 962ms\tremaining: 605ms\n",
      "62:\tlearn: 0.8494208\ttest: 0.8153846\tbest: 0.8217054 (53)\ttotal: 977ms\tremaining: 590ms\n",
      "63:\tlearn: 0.8494208\ttest: 0.8153846\tbest: 0.8217054 (53)\ttotal: 994ms\tremaining: 574ms\n",
      "64:\tlearn: 0.8510638\ttest: 0.8062016\tbest: 0.8217054 (53)\ttotal: 1.01s\tremaining: 559ms\n",
      "65:\tlearn: 0.8510638\ttest: 0.8062016\tbest: 0.8217054 (53)\ttotal: 1.02s\tremaining: 543ms\n",
      "66:\tlearn: 0.8488372\ttest: 0.8062016\tbest: 0.8217054 (53)\ttotal: 1.04s\tremaining: 528ms\n",
      "67:\tlearn: 0.8516378\ttest: 0.8062016\tbest: 0.8217054 (53)\ttotal: 1.06s\tremaining: 514ms\n",
      "68:\tlearn: 0.8554913\ttest: 0.8062016\tbest: 0.8217054 (53)\ttotal: 1.07s\tremaining: 499ms\n",
      "69:\tlearn: 0.8527132\ttest: 0.8062016\tbest: 0.8217054 (53)\ttotal: 1.09s\tremaining: 483ms\n",
      "70:\tlearn: 0.8527132\ttest: 0.8062016\tbest: 0.8217054 (53)\ttotal: 1.1s\tremaining: 467ms\n",
      "71:\tlearn: 0.8527132\ttest: 0.8062016\tbest: 0.8217054 (53)\ttotal: 1.12s\tremaining: 452ms\n",
      "72:\tlearn: 0.8582524\ttest: 0.8062016\tbest: 0.8217054 (53)\ttotal: 1.14s\tremaining: 436ms\n",
      "73:\tlearn: 0.8604651\ttest: 0.8062016\tbest: 0.8217054 (53)\ttotal: 1.15s\tremaining: 420ms\n",
      "74:\tlearn: 0.8604651\ttest: 0.8062016\tbest: 0.8217054 (53)\ttotal: 1.16s\tremaining: 404ms\n",
      "75:\tlearn: 0.8604651\ttest: 0.8062016\tbest: 0.8217054 (53)\ttotal: 1.18s\tremaining: 389ms\n",
      "76:\tlearn: 0.8588008\ttest: 0.8062016\tbest: 0.8217054 (53)\ttotal: 1.2s\tremaining: 374ms\n",
      "77:\tlearn: 0.8610039\ttest: 0.8062016\tbest: 0.8217054 (53)\ttotal: 1.22s\tremaining: 360ms\n",
      "78:\tlearn: 0.8670520\ttest: 0.8062016\tbest: 0.8217054 (53)\ttotal: 1.24s\tremaining: 345ms\n",
      "79:\tlearn: 0.8670520\ttest: 0.8062016\tbest: 0.8217054 (53)\ttotal: 1.25s\tremaining: 329ms\n",
      "80:\tlearn: 0.8692308\ttest: 0.8062016\tbest: 0.8217054 (53)\ttotal: 1.27s\tremaining: 313ms\n",
      "81:\tlearn: 0.8692308\ttest: 0.8062016\tbest: 0.8217054 (53)\ttotal: 1.28s\tremaining: 297ms\n",
      "82:\tlearn: 0.8709056\ttest: 0.8062016\tbest: 0.8217054 (53)\ttotal: 1.3s\tremaining: 282ms\n",
      "83:\tlearn: 0.8687259\ttest: 0.8062016\tbest: 0.8217054 (53)\ttotal: 1.32s\tremaining: 267ms\n",
      "84:\tlearn: 0.8754864\ttest: 0.8125000\tbest: 0.8217054 (53)\ttotal: 1.33s\tremaining: 251ms\n",
      "85:\tlearn: 0.8810916\ttest: 0.7936508\tbest: 0.8217054 (53)\ttotal: 1.35s\tremaining: 235ms\n",
      "86:\tlearn: 0.8793774\ttest: 0.7936508\tbest: 0.8217054 (53)\ttotal: 1.36s\tremaining: 219ms\n",
      "87:\tlearn: 0.8793774\ttest: 0.7936508\tbest: 0.8217054 (53)\ttotal: 1.38s\tremaining: 203ms\n",
      "88:\tlearn: 0.8793774\ttest: 0.7936508\tbest: 0.8217054 (53)\ttotal: 1.39s\tremaining: 188ms\n",
      "89:\tlearn: 0.8793774\ttest: 0.8031496\tbest: 0.8217054 (53)\ttotal: 1.41s\tremaining: 172ms\n",
      "90:\tlearn: 0.8793774\ttest: 0.8031496\tbest: 0.8217054 (53)\ttotal: 1.42s\tremaining: 156ms\n",
      "91:\tlearn: 0.8837209\ttest: 0.8031496\tbest: 0.8217054 (53)\ttotal: 1.44s\tremaining: 141ms\n",
      "92:\tlearn: 0.8837209\ttest: 0.8031496\tbest: 0.8217054 (53)\ttotal: 1.47s\tremaining: 126ms\n",
      "93:\tlearn: 0.8798450\ttest: 0.8031496\tbest: 0.8217054 (53)\ttotal: 1.49s\tremaining: 111ms\n",
      "94:\tlearn: 0.8798450\ttest: 0.8031496\tbest: 0.8217054 (53)\ttotal: 1.5s\tremaining: 95ms\n",
      "95:\tlearn: 0.8841699\ttest: 0.8031496\tbest: 0.8217054 (53)\ttotal: 1.52s\tremaining: 79.5ms\n",
      "96:\tlearn: 0.8824663\ttest: 0.8031496\tbest: 0.8217054 (53)\ttotal: 1.54s\tremaining: 63.6ms\n",
      "97:\tlearn: 0.8846154\ttest: 0.7968750\tbest: 0.8217054 (53)\ttotal: 1.56s\tremaining: 47.7ms\n",
      "98:\tlearn: 0.8867562\ttest: 0.8031496\tbest: 0.8217054 (53)\ttotal: 1.57s\tremaining: 31.8ms\n",
      "99:\tlearn: 0.8884615\ttest: 0.8031496\tbest: 0.8217054 (53)\ttotal: 1.59s\tremaining: 15.9ms\n",
      "100:\tlearn: 0.8884615\ttest: 0.8031496\tbest: 0.8217054 (53)\ttotal: 1.61s\tremaining: 0us\n",
      "\n",
      "bestTest = 0.8217054264\n",
      "bestIteration = 53\n",
      "\n",
      "Training on fold [4/5]\n",
      "0:\tlearn: 0.7123810\ttest: 0.7022901\tbest: 0.7022901 (0)\ttotal: 6.88ms\tremaining: 688ms\n",
      "1:\tlearn: 0.7123810\ttest: 0.7022901\tbest: 0.7022901 (0)\ttotal: 22.5ms\tremaining: 1.11s\n",
      "2:\tlearn: 0.7134725\ttest: 0.7022901\tbest: 0.7022901 (0)\ttotal: 37.2ms\tremaining: 1.22s\n",
      "3:\tlearn: 0.7159091\ttest: 0.7022901\tbest: 0.7022901 (0)\ttotal: 52ms\tremaining: 1.26s\n",
      "4:\tlearn: 0.7249071\ttest: 0.7022901\tbest: 0.7022901 (0)\ttotal: 68.3ms\tremaining: 1.31s\n",
      "5:\tlearn: 0.7366483\ttest: 0.6962963\tbest: 0.7022901 (0)\ttotal: 83.3ms\tremaining: 1.32s\n",
      "6:\tlearn: 0.7343173\ttest: 0.6962963\tbest: 0.7022901 (0)\ttotal: 98.7ms\tremaining: 1.33s\n",
      "7:\tlearn: 0.7343173\ttest: 0.6962963\tbest: 0.7022901 (0)\ttotal: 114ms\tremaining: 1.32s\n",
      "8:\tlearn: 0.7356747\ttest: 0.6962963\tbest: 0.7022901 (0)\ttotal: 128ms\tremaining: 1.31s\n",
      "9:\tlearn: 0.7346939\ttest: 0.6962963\tbest: 0.7022901 (0)\ttotal: 134ms\tremaining: 1.22s\n",
      "10:\tlearn: 0.7518519\ttest: 0.7121212\tbest: 0.7121212 (10)\ttotal: 150ms\tremaining: 1.23s\n",
      "11:\tlearn: 0.7504621\ttest: 0.7121212\tbest: 0.7121212 (10)\ttotal: 164ms\tremaining: 1.22s\n",
      "12:\tlearn: 0.7527675\ttest: 0.7121212\tbest: 0.7121212 (10)\ttotal: 180ms\tremaining: 1.22s\n",
      "13:\tlearn: 0.7518519\ttest: 0.7121212\tbest: 0.7121212 (10)\ttotal: 196ms\tremaining: 1.22s\n",
      "14:\tlearn: 0.7532468\ttest: 0.7121212\tbest: 0.7121212 (10)\ttotal: 211ms\tremaining: 1.21s\n",
      "15:\tlearn: 0.7532468\ttest: 0.7121212\tbest: 0.7121212 (10)\ttotal: 226ms\tremaining: 1.2s\n",
      "16:\tlearn: 0.7620818\ttest: 0.7121212\tbest: 0.7121212 (10)\ttotal: 242ms\tremaining: 1.19s\n",
      "17:\tlearn: 0.7675277\ttest: 0.7121212\tbest: 0.7121212 (10)\ttotal: 257ms\tremaining: 1.18s\n",
      "18:\tlearn: 0.7675277\ttest: 0.7121212\tbest: 0.7121212 (10)\ttotal: 263ms\tremaining: 1.13s\n",
      "19:\tlearn: 0.7652495\ttest: 0.7121212\tbest: 0.7121212 (10)\ttotal: 280ms\tremaining: 1.13s\n",
      "20:\tlearn: 0.7792208\ttest: 0.7121212\tbest: 0.7121212 (10)\ttotal: 297ms\tremaining: 1.13s\n",
      "21:\tlearn: 0.7761194\ttest: 0.7218045\tbest: 0.7218045 (21)\ttotal: 314ms\tremaining: 1.13s\n",
      "22:\tlearn: 0.7769517\ttest: 0.7218045\tbest: 0.7218045 (21)\ttotal: 328ms\tremaining: 1.11s\n",
      "23:\tlearn: 0.7792208\ttest: 0.7218045\tbest: 0.7218045 (21)\ttotal: 344ms\tremaining: 1.1s\n",
      "24:\tlearn: 0.7792208\ttest: 0.7218045\tbest: 0.7218045 (21)\ttotal: 350ms\tremaining: 1.06s\n",
      "25:\tlearn: 0.7813084\ttest: 0.7218045\tbest: 0.7218045 (21)\ttotal: 367ms\tremaining: 1.06s\n",
      "26:\tlearn: 0.7850467\ttest: 0.7164179\tbest: 0.7218045 (21)\ttotal: 384ms\tremaining: 1.05s\n",
      "27:\tlearn: 0.7850467\ttest: 0.7164179\tbest: 0.7218045 (21)\ttotal: 400ms\tremaining: 1.04s\n",
      "28:\tlearn: 0.7835821\ttest: 0.7218045\tbest: 0.7218045 (21)\ttotal: 419ms\tremaining: 1.04s\n",
      "29:\tlearn: 0.7873134\ttest: 0.7164179\tbest: 0.7218045 (21)\ttotal: 437ms\tremaining: 1.03s\n",
      "30:\tlearn: 0.7873134\ttest: 0.7111111\tbest: 0.7218045 (21)\ttotal: 454ms\tremaining: 1.02s\n",
      "31:\tlearn: 0.7925234\ttest: 0.7111111\tbest: 0.7218045 (21)\ttotal: 470ms\tremaining: 1.01s\n",
      "32:\tlearn: 0.7910448\ttest: 0.7164179\tbest: 0.7218045 (21)\ttotal: 486ms\tremaining: 1s\n",
      "33:\tlearn: 0.8022388\ttest: 0.7164179\tbest: 0.7218045 (21)\ttotal: 504ms\tremaining: 994ms\n",
      "34:\tlearn: 0.7970480\ttest: 0.7164179\tbest: 0.7218045 (21)\ttotal: 520ms\tremaining: 981ms\n",
      "35:\tlearn: 0.8000000\ttest: 0.7164179\tbest: 0.7218045 (21)\ttotal: 537ms\tremaining: 969ms\n",
      "36:\tlearn: 0.8044280\ttest: 0.7164179\tbest: 0.7218045 (21)\ttotal: 552ms\tremaining: 954ms\n",
      "37:\tlearn: 0.8111111\ttest: 0.7218045\tbest: 0.7218045 (21)\ttotal: 568ms\tremaining: 941ms\n",
      "38:\tlearn: 0.8111111\ttest: 0.7218045\tbest: 0.7218045 (21)\ttotal: 584ms\tremaining: 928ms\n",
      "39:\tlearn: 0.8111111\ttest: 0.7218045\tbest: 0.7218045 (21)\ttotal: 601ms\tremaining: 917ms\n",
      "40:\tlearn: 0.8111111\ttest: 0.7218045\tbest: 0.7218045 (21)\ttotal: 616ms\tremaining: 901ms\n",
      "41:\tlearn: 0.8126160\ttest: 0.7218045\tbest: 0.7218045 (21)\ttotal: 631ms\tremaining: 886ms\n",
      "42:\tlearn: 0.8141264\ttest: 0.7218045\tbest: 0.7218045 (21)\ttotal: 648ms\tremaining: 874ms\n",
      "43:\tlearn: 0.8141264\ttest: 0.7218045\tbest: 0.7218045 (21)\ttotal: 663ms\tremaining: 859ms\n",
      "44:\tlearn: 0.8119181\ttest: 0.7272727\tbest: 0.7272727 (44)\ttotal: 678ms\tremaining: 844ms\n",
      "45:\tlearn: 0.8119181\ttest: 0.7272727\tbest: 0.7272727 (44)\ttotal: 693ms\tremaining: 829ms\n",
      "46:\tlearn: 0.8239700\ttest: 0.7218045\tbest: 0.7272727 (44)\ttotal: 708ms\tremaining: 813ms\n",
      "47:\tlearn: 0.8224299\ttest: 0.7218045\tbest: 0.7272727 (44)\ttotal: 723ms\tremaining: 798ms\n",
      "48:\tlearn: 0.8246269\ttest: 0.7218045\tbest: 0.7272727 (44)\ttotal: 738ms\tremaining: 784ms\n",
      "49:\tlearn: 0.8289963\ttest: 0.7218045\tbest: 0.7272727 (44)\ttotal: 755ms\tremaining: 770ms\n",
      "50:\tlearn: 0.8289963\ttest: 0.7218045\tbest: 0.7272727 (44)\ttotal: 770ms\tremaining: 755ms\n",
      "51:\tlearn: 0.8320896\ttest: 0.7218045\tbest: 0.7272727 (44)\ttotal: 785ms\tremaining: 740ms\n",
      "52:\tlearn: 0.8352060\ttest: 0.7259259\tbest: 0.7272727 (44)\ttotal: 800ms\tremaining: 725ms\n",
      "53:\tlearn: 0.8367730\ttest: 0.7259259\tbest: 0.7272727 (44)\ttotal: 815ms\tremaining: 709ms\n",
      "54:\tlearn: 0.8421053\ttest: 0.7259259\tbest: 0.7272727 (44)\ttotal: 831ms\tremaining: 695ms\n",
      "55:\tlearn: 0.8405253\ttest: 0.7313433\tbest: 0.7313433 (55)\ttotal: 847ms\tremaining: 681ms\n",
      "56:\tlearn: 0.8442777\ttest: 0.7313433\tbest: 0.7313433 (55)\ttotal: 864ms\tremaining: 667ms\n",
      "57:\tlearn: 0.8474576\ttest: 0.7205882\tbest: 0.7313433 (55)\ttotal: 881ms\tremaining: 653ms\n",
      "58:\tlearn: 0.8474576\ttest: 0.7205882\tbest: 0.7313433 (55)\ttotal: 895ms\tremaining: 637ms\n",
      "59:\tlearn: 0.8452830\ttest: 0.7299270\tbest: 0.7313433 (55)\ttotal: 910ms\tremaining: 622ms\n",
      "60:\tlearn: 0.8431002\ttest: 0.7205882\tbest: 0.7313433 (55)\ttotal: 926ms\tremaining: 607ms\n",
      "61:\tlearn: 0.8431002\ttest: 0.7205882\tbest: 0.7313433 (55)\ttotal: 940ms\tremaining: 591ms\n",
      "62:\tlearn: 0.8431002\ttest: 0.7205882\tbest: 0.7313433 (55)\ttotal: 956ms\tremaining: 577ms\n",
      "63:\tlearn: 0.8474576\ttest: 0.7205882\tbest: 0.7313433 (55)\ttotal: 971ms\tremaining: 562ms\n",
      "64:\tlearn: 0.8517824\ttest: 0.7111111\tbest: 0.7313433 (55)\ttotal: 988ms\tremaining: 547ms\n",
      "65:\tlearn: 0.8533835\ttest: 0.7164179\tbest: 0.7313433 (55)\ttotal: 1s\tremaining: 533ms\n",
      "66:\tlearn: 0.8490566\ttest: 0.7230769\tbest: 0.7313433 (55)\ttotal: 1.02s\tremaining: 517ms\n",
      "67:\tlearn: 0.8592871\ttest: 0.7121212\tbest: 0.7313433 (55)\ttotal: 1.03s\tremaining: 502ms\n",
      "68:\tlearn: 0.8667917\ttest: 0.7272727\tbest: 0.7313433 (55)\ttotal: 1.05s\tremaining: 487ms\n",
      "69:\tlearn: 0.8646617\ttest: 0.7272727\tbest: 0.7313433 (55)\ttotal: 1.06s\tremaining: 472ms\n",
      "70:\tlearn: 0.8742964\ttest: 0.7328244\tbest: 0.7328244 (70)\ttotal: 1.09s\tremaining: 459ms\n",
      "71:\tlearn: 0.8742964\ttest: 0.7328244\tbest: 0.7328244 (70)\ttotal: 1.11s\tremaining: 446ms\n",
      "72:\tlearn: 0.8738230\ttest: 0.7286822\tbest: 0.7328244 (70)\ttotal: 1.12s\tremaining: 431ms\n",
      "73:\tlearn: 0.8766603\ttest: 0.7244094\tbest: 0.7328244 (70)\ttotal: 1.14s\tremaining: 416ms\n",
      "74:\tlearn: 0.8773946\ttest: 0.7187500\tbest: 0.7328244 (70)\ttotal: 1.16s\tremaining: 401ms\n",
      "75:\tlearn: 0.8778626\ttest: 0.7401575\tbest: 0.7401575 (75)\ttotal: 1.17s\tremaining: 386ms\n",
      "76:\tlearn: 0.8800000\ttest: 0.7343750\tbest: 0.7401575 (75)\ttotal: 1.19s\tremaining: 370ms\n",
      "77:\tlearn: 0.8800000\ttest: 0.7343750\tbest: 0.7401575 (75)\ttotal: 1.2s\tremaining: 354ms\n",
      "78:\tlearn: 0.8795411\ttest: 0.7187500\tbest: 0.7401575 (75)\ttotal: 1.22s\tremaining: 339ms\n",
      "79:\tlearn: 0.8816794\ttest: 0.7131783\tbest: 0.7401575 (75)\ttotal: 1.24s\tremaining: 324ms\n",
      "80:\tlearn: 0.8816794\ttest: 0.7131783\tbest: 0.7401575 (75)\ttotal: 1.25s\tremaining: 309ms\n",
      "81:\tlearn: 0.8795411\ttest: 0.7384615\tbest: 0.7401575 (75)\ttotal: 1.27s\tremaining: 294ms\n",
      "82:\tlearn: 0.8783270\ttest: 0.7384615\tbest: 0.7401575 (75)\ttotal: 1.29s\tremaining: 279ms\n",
      "83:\tlearn: 0.8825758\ttest: 0.7441860\tbest: 0.7441860 (83)\ttotal: 1.3s\tremaining: 264ms\n",
      "84:\tlearn: 0.8842505\ttest: 0.7328244\tbest: 0.7441860 (83)\ttotal: 1.32s\tremaining: 248ms\n",
      "85:\tlearn: 0.8863636\ttest: 0.7328244\tbest: 0.7441860 (83)\ttotal: 1.33s\tremaining: 232ms\n",
      "86:\tlearn: 0.8884688\ttest: 0.7328244\tbest: 0.7441860 (83)\ttotal: 1.35s\tremaining: 217ms\n",
      "87:\tlearn: 0.8884688\ttest: 0.7328244\tbest: 0.7441860 (83)\ttotal: 1.37s\tremaining: 202ms\n",
      "88:\tlearn: 0.8922495\ttest: 0.7328244\tbest: 0.7441860 (83)\ttotal: 1.38s\tremaining: 187ms\n",
      "89:\tlearn: 0.8922495\ttest: 0.7328244\tbest: 0.7441860 (83)\ttotal: 1.4s\tremaining: 172ms\n",
      "90:\tlearn: 0.8960302\ttest: 0.7328244\tbest: 0.7441860 (83)\ttotal: 1.42s\tremaining: 156ms\n",
      "91:\tlearn: 0.8960302\ttest: 0.7328244\tbest: 0.7441860 (83)\ttotal: 1.44s\tremaining: 141ms\n",
      "92:\tlearn: 0.8960302\ttest: 0.7328244\tbest: 0.7441860 (83)\ttotal: 1.47s\tremaining: 126ms\n",
      "93:\tlearn: 0.9018868\ttest: 0.7384615\tbest: 0.7441860 (83)\ttotal: 1.49s\tremaining: 111ms\n",
      "94:\tlearn: 0.8977273\ttest: 0.7384615\tbest: 0.7441860 (83)\ttotal: 1.51s\tremaining: 95.6ms\n",
      "95:\tlearn: 0.9015152\ttest: 0.7384615\tbest: 0.7441860 (83)\ttotal: 1.53s\tremaining: 80ms\n",
      "96:\tlearn: 0.9015152\ttest: 0.7384615\tbest: 0.7441860 (83)\ttotal: 1.55s\tremaining: 64ms\n",
      "97:\tlearn: 0.9015152\ttest: 0.7384615\tbest: 0.7441860 (83)\ttotal: 1.56s\tremaining: 47.9ms\n",
      "98:\tlearn: 0.9032258\ttest: 0.7384615\tbest: 0.7441860 (83)\ttotal: 1.58s\tremaining: 31.9ms\n",
      "99:\tlearn: 0.9028571\ttest: 0.7384615\tbest: 0.7441860 (83)\ttotal: 1.6s\tremaining: 16ms\n",
      "100:\tlearn: 0.9045802\ttest: 0.7384615\tbest: 0.7441860 (83)\ttotal: 1.62s\tremaining: 0us\n",
      "\n",
      "bestTest = 0.7441860465\n",
      "bestIteration = 83\n",
      "\n"
     ]
    }
   ],
   "source": [
    "from ARISA_DSML.train import train_cv\n",
    "import joblib\n",
    "\n",
    "params = joblib.load(best_params_path)\n",
    "display(params)\n",
    "n_folds = 5\n",
    "cv_output_path = train_cv(X_train, y_train, categorical_indices, params, n=n_folds)"
   ]
  },
  {
   "cell_type": "markdown",
   "id": "9c2f4247-6cbf-4528-ba59-bf4f375dad64",
   "metadata": {
    "editable": false,
    "slideshow": {
     "slide_type": "slide"
    },
    "tags": []
   },
   "source": [
    "And get the performance plots:"
   ]
  },
  {
   "cell_type": "code",
   "execution_count": 22,
   "id": "64beb22b",
   "metadata": {},
   "outputs": [
    {
     "data": {
      "application/vnd.plotly.v1+json": {
       "config": {
        "plotlyServerURL": "https://plot.ly"
       },
       "data": [
        {
         "line": {
          "color": "blue"
         },
         "mode": "lines",
         "name": "Mean F1 Score",
         "type": "scatter",
         "x": {
          "bdata": "AAECAwQFBgcICQoLDA0ODxAREhMUFRYXGBkaGxwdHh8gISIjJCUmJygpKissLS4vMDEyMzQ1Njc4OTo7PD0+P0BBQkNERUZHSElKS0xNTk9QUVJTVFVWV1hZWltcXV5fYGFiY2Q=",
          "dtype": "i1"
         },
         "y": {
          "bdata": "EzCcu5mo5j/tQAIwuXTmPxis/m7bs+Y/M7mzjkro5j/7ow8ok/bmP91T88DQ2+Y/PpGPdsMq5z8MfHO9qRnnP7bhIyEzHOc/qcQF+cFT5z+AvGEI2G/nP33IYSbAbec/qwwKsi1+5z9Qk4iEBIbnP1CTiIQEhuc/U/G1S8OU5z81vplOd4TnP1PxtUvDlOc/wI1wlQh65z82PeKkaWXnPz4+ynXWdec/z5sPBaRh5z9hXMwsGHrnP75n/Ebzmuc/Bop1tdh55z8GinW12HnnP4MWFnO0e+c/lrJR1TOC5z/+4C0jB4vnP5I660lvkec/FBmR72Z55z8uxjsF2KXnP1jVcWKosOc/naqPpPyN5z9FG9QxiafnP/0Nm/8njOc/MmHMkyqV5z+gr2/zuZ7nP6Cvb/O5nuc/3VutKkST5z8nU55lnqjnP7aGnZy63ec/S/qfNmr85z96RM0td/rnPzf/BbdsA+g/sbF5vhIM6D+vH8Ae9wroP/LIqR/3Ceg/5xsCAZwa6D+e+pax5DHoP4CJT9XSOug/sWztaGcx6D/GnSBOJinoPxaPQVc7OOg/+9WvO4Im6D83Q+hmTSDoPy7cGtPGLOg/hisQnIhN6D9Tv+fH7DzoPyN7PH1nJOg/4tteHb7t5z81kzcB+/LnP4LlYCJyD+g/BfYeWY4W6D9rdpCy+/fnPyKyHACf7uc/Ln+uv34C6D9KVwzZt+DnP+kfTCPcC+g/6R9MI9wL6D+h3bLHRD7oP46UpWcNReg/uh4yA0ID6D+5rjHnQfznP1pjj8YI2Oc/oaxZ0TMT6D/z/ChgovHnP/P8KGCi8ec/8GZUolDh5z9K0T7V587nP3a1mKjCxec/E8rKTDzg5z9ivhE9gc/nP68w6dldEOg/CmfzDwD/5z/K+43xn/LnP8r7jfGf8uc/rzoqw4wc6D+vOirDjBzoP5EJWbArLOg/kQlZsCss6D+RCVmwKyzoP0dAEkmyW+g/8qYi1Ik/6D/ypiLUiT/oP3Pd6DIIWeg/c93oMghZ6D+mA4MeVUXoPyKoO+GcT+g/w2pZ5NJI6D/NiyLNHknoPw==",
          "dtype": "f8"
         }
        },
        {
         "fill": "toself",
         "fillcolor": "rgba(0, 0, 255, 0.2)",
         "line": {
          "color": "rgba(255, 255, 255, 0)"
         },
         "showlegend": false,
         "type": "scatter",
         "x": {
          "bdata": "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",
          "dtype": "f8"
         },
         "y": {
          "bdata": "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",
          "dtype": "f8"
         }
        }
       ],
       "layout": {
        "template": {
         "data": {
          "bar": [
           {
            "error_x": {
             "color": "#2a3f5f"
            },
            "error_y": {
             "color": "#2a3f5f"
            },
            "marker": {
             "line": {
              "color": "white",
              "width": 0.5
             },
             "pattern": {
              "fillmode": "overlay",
              "size": 10,
              "solidity": 0.2
             }
            },
            "type": "bar"
           }
          ],
          "barpolar": [
           {
            "marker": {
             "line": {
              "color": "white",
              "width": 0.5
             },
             "pattern": {
              "fillmode": "overlay",
              "size": 10,
              "solidity": 0.2
             }
            },
            "type": "barpolar"
           }
          ],
          "carpet": [
           {
            "aaxis": {
             "endlinecolor": "#2a3f5f",
             "gridcolor": "#C8D4E3",
             "linecolor": "#C8D4E3",
             "minorgridcolor": "#C8D4E3",
             "startlinecolor": "#2a3f5f"
            },
            "baxis": {
             "endlinecolor": "#2a3f5f",
             "gridcolor": "#C8D4E3",
             "linecolor": "#C8D4E3",
             "minorgridcolor": "#C8D4E3",
             "startlinecolor": "#2a3f5f"
            },
            "type": "carpet"
           }
          ],
          "choropleth": [
           {
            "colorbar": {
             "outlinewidth": 0,
             "ticks": ""
            },
            "type": "choropleth"
           }
          ],
          "contour": [
           {
            "colorbar": {
             "outlinewidth": 0,
             "ticks": ""
            },
            "colorscale": [
             [
              0,
              "#0d0887"
             ],
             [
              0.1111111111111111,
              "#46039f"
             ],
             [
              0.2222222222222222,
              "#7201a8"
             ],
             [
              0.3333333333333333,
              "#9c179e"
             ],
             [
              0.4444444444444444,
              "#bd3786"
             ],
             [
              0.5555555555555556,
              "#d8576b"
             ],
             [
              0.6666666666666666,
              "#ed7953"
             ],
             [
              0.7777777777777778,
              "#fb9f3a"
             ],
             [
              0.8888888888888888,
              "#fdca26"
             ],
             [
              1,
              "#f0f921"
             ]
            ],
            "type": "contour"
           }
          ],
          "contourcarpet": [
           {
            "colorbar": {
             "outlinewidth": 0,
             "ticks": ""
            },
            "type": "contourcarpet"
           }
          ],
          "heatmap": [
           {
            "colorbar": {
             "outlinewidth": 0,
             "ticks": ""
            },
            "colorscale": [
             [
              0,
              "#0d0887"
             ],
             [
              0.1111111111111111,
              "#46039f"
             ],
             [
              0.2222222222222222,
              "#7201a8"
             ],
             [
              0.3333333333333333,
              "#9c179e"
             ],
             [
              0.4444444444444444,
              "#bd3786"
             ],
             [
              0.5555555555555556,
              "#d8576b"
             ],
             [
              0.6666666666666666,
              "#ed7953"
             ],
             [
              0.7777777777777778,
              "#fb9f3a"
             ],
             [
              0.8888888888888888,
              "#fdca26"
             ],
             [
              1,
              "#f0f921"
             ]
            ],
            "type": "heatmap"
           }
          ],
          "histogram": [
           {
            "marker": {
             "pattern": {
              "fillmode": "overlay",
              "size": 10,
              "solidity": 0.2
             }
            },
            "type": "histogram"
           }
          ],
          "histogram2d": [
           {
            "colorbar": {
             "outlinewidth": 0,
             "ticks": ""
            },
            "colorscale": [
             [
              0,
              "#0d0887"
             ],
             [
              0.1111111111111111,
              "#46039f"
             ],
             [
              0.2222222222222222,
              "#7201a8"
             ],
             [
              0.3333333333333333,
              "#9c179e"
             ],
             [
              0.4444444444444444,
              "#bd3786"
             ],
             [
              0.5555555555555556,
              "#d8576b"
             ],
             [
              0.6666666666666666,
              "#ed7953"
             ],
             [
              0.7777777777777778,
              "#fb9f3a"
             ],
             [
              0.8888888888888888,
              "#fdca26"
             ],
             [
              1,
              "#f0f921"
             ]
            ],
            "type": "histogram2d"
           }
          ],
          "histogram2dcontour": [
           {
            "colorbar": {
             "outlinewidth": 0,
             "ticks": ""
            },
            "colorscale": [
             [
              0,
              "#0d0887"
             ],
             [
              0.1111111111111111,
              "#46039f"
             ],
             [
              0.2222222222222222,
              "#7201a8"
             ],
             [
              0.3333333333333333,
              "#9c179e"
             ],
             [
              0.4444444444444444,
              "#bd3786"
             ],
             [
              0.5555555555555556,
              "#d8576b"
             ],
             [
              0.6666666666666666,
              "#ed7953"
             ],
             [
              0.7777777777777778,
              "#fb9f3a"
             ],
             [
              0.8888888888888888,
              "#fdca26"
             ],
             [
              1,
              "#f0f921"
             ]
            ],
            "type": "histogram2dcontour"
           }
          ],
          "mesh3d": [
           {
            "colorbar": {
             "outlinewidth": 0,
             "ticks": ""
            },
            "type": "mesh3d"
           }
          ],
          "parcoords": [
           {
            "line": {
             "colorbar": {
              "outlinewidth": 0,
              "ticks": ""
             }
            },
            "type": "parcoords"
           }
          ],
          "pie": [
           {
            "automargin": true,
            "type": "pie"
           }
          ],
          "scatter": [
           {
            "fillpattern": {
             "fillmode": "overlay",
             "size": 10,
             "solidity": 0.2
            },
            "type": "scatter"
           }
          ],
          "scatter3d": [
           {
            "line": {
             "colorbar": {
              "outlinewidth": 0,
              "ticks": ""
             }
            },
            "marker": {
             "colorbar": {
              "outlinewidth": 0,
              "ticks": ""
             }
            },
            "type": "scatter3d"
           }
          ],
          "scattercarpet": [
           {
            "marker": {
             "colorbar": {
              "outlinewidth": 0,
              "ticks": ""
             }
            },
            "type": "scattercarpet"
           }
          ],
          "scattergeo": [
           {
            "marker": {
             "colorbar": {
              "outlinewidth": 0,
              "ticks": ""
             }
            },
            "type": "scattergeo"
           }
          ],
          "scattergl": [
           {
            "marker": {
             "colorbar": {
              "outlinewidth": 0,
              "ticks": ""
             }
            },
            "type": "scattergl"
           }
          ],
          "scattermap": [
           {
            "marker": {
             "colorbar": {
              "outlinewidth": 0,
              "ticks": ""
             }
            },
            "type": "scattermap"
           }
          ],
          "scattermapbox": [
           {
            "marker": {
             "colorbar": {
              "outlinewidth": 0,
              "ticks": ""
             }
            },
            "type": "scattermapbox"
           }
          ],
          "scatterpolar": [
           {
            "marker": {
             "colorbar": {
              "outlinewidth": 0,
              "ticks": ""
             }
            },
            "type": "scatterpolar"
           }
          ],
          "scatterpolargl": [
           {
            "marker": {
             "colorbar": {
              "outlinewidth": 0,
              "ticks": ""
             }
            },
            "type": "scatterpolargl"
           }
          ],
          "scatterternary": [
           {
            "marker": {
             "colorbar": {
              "outlinewidth": 0,
              "ticks": ""
             }
            },
            "type": "scatterternary"
           }
          ],
          "surface": [
           {
            "colorbar": {
             "outlinewidth": 0,
             "ticks": ""
            },
            "colorscale": [
             [
              0,
              "#0d0887"
             ],
             [
              0.1111111111111111,
              "#46039f"
             ],
             [
              0.2222222222222222,
              "#7201a8"
             ],
             [
              0.3333333333333333,
              "#9c179e"
             ],
             [
              0.4444444444444444,
              "#bd3786"
             ],
             [
              0.5555555555555556,
              "#d8576b"
             ],
             [
              0.6666666666666666,
              "#ed7953"
             ],
             [
              0.7777777777777778,
              "#fb9f3a"
             ],
             [
              0.8888888888888888,
              "#fdca26"
             ],
             [
              1,
              "#f0f921"
             ]
            ],
            "type": "surface"
           }
          ],
          "table": [
           {
            "cells": {
             "fill": {
              "color": "#EBF0F8"
             },
             "line": {
              "color": "white"
             }
            },
            "header": {
             "fill": {
              "color": "#C8D4E3"
             },
             "line": {
              "color": "white"
             }
            },
            "type": "table"
           }
          ]
         },
         "layout": {
          "annotationdefaults": {
           "arrowcolor": "#2a3f5f",
           "arrowhead": 0,
           "arrowwidth": 1
          },
          "autotypenumbers": "strict",
          "coloraxis": {
           "colorbar": {
            "outlinewidth": 0,
            "ticks": ""
           }
          },
          "colorscale": {
           "diverging": [
            [
             0,
             "#8e0152"
            ],
            [
             0.1,
             "#c51b7d"
            ],
            [
             0.2,
             "#de77ae"
            ],
            [
             0.3,
             "#f1b6da"
            ],
            [
             0.4,
             "#fde0ef"
            ],
            [
             0.5,
             "#f7f7f7"
            ],
            [
             0.6,
             "#e6f5d0"
            ],
            [
             0.7,
             "#b8e186"
            ],
            [
             0.8,
             "#7fbc41"
            ],
            [
             0.9,
             "#4d9221"
            ],
            [
             1,
             "#276419"
            ]
           ],
           "sequential": [
            [
             0,
             "#0d0887"
            ],
            [
             0.1111111111111111,
             "#46039f"
            ],
            [
             0.2222222222222222,
             "#7201a8"
            ],
            [
             0.3333333333333333,
             "#9c179e"
            ],
            [
             0.4444444444444444,
             "#bd3786"
            ],
            [
             0.5555555555555556,
             "#d8576b"
            ],
            [
             0.6666666666666666,
             "#ed7953"
            ],
            [
             0.7777777777777778,
             "#fb9f3a"
            ],
            [
             0.8888888888888888,
             "#fdca26"
            ],
            [
             1,
             "#f0f921"
            ]
           ],
           "sequentialminus": [
            [
             0,
             "#0d0887"
            ],
            [
             0.1111111111111111,
             "#46039f"
            ],
            [
             0.2222222222222222,
             "#7201a8"
            ],
            [
             0.3333333333333333,
             "#9c179e"
            ],
            [
             0.4444444444444444,
             "#bd3786"
            ],
            [
             0.5555555555555556,
             "#d8576b"
            ],
            [
             0.6666666666666666,
             "#ed7953"
            ],
            [
             0.7777777777777778,
             "#fb9f3a"
            ],
            [
             0.8888888888888888,
             "#fdca26"
            ],
            [
             1,
             "#f0f921"
            ]
           ]
          },
          "colorway": [
           "#636efa",
           "#EF553B",
           "#00cc96",
           "#ab63fa",
           "#FFA15A",
           "#19d3f3",
           "#FF6692",
           "#B6E880",
           "#FF97FF",
           "#FECB52"
          ],
          "font": {
           "color": "#2a3f5f"
          },
          "geo": {
           "bgcolor": "white",
           "lakecolor": "white",
           "landcolor": "white",
           "showlakes": true,
           "showland": true,
           "subunitcolor": "#C8D4E3"
          },
          "hoverlabel": {
           "align": "left"
          },
          "hovermode": "closest",
          "mapbox": {
           "style": "light"
          },
          "paper_bgcolor": "white",
          "plot_bgcolor": "white",
          "polar": {
           "angularaxis": {
            "gridcolor": "#EBF0F8",
            "linecolor": "#EBF0F8",
            "ticks": ""
           },
           "bgcolor": "white",
           "radialaxis": {
            "gridcolor": "#EBF0F8",
            "linecolor": "#EBF0F8",
            "ticks": ""
           }
          },
          "scene": {
           "xaxis": {
            "backgroundcolor": "white",
            "gridcolor": "#DFE8F3",
            "gridwidth": 2,
            "linecolor": "#EBF0F8",
            "showbackground": true,
            "ticks": "",
            "zerolinecolor": "#EBF0F8"
           },
           "yaxis": {
            "backgroundcolor": "white",
            "gridcolor": "#DFE8F3",
            "gridwidth": 2,
            "linecolor": "#EBF0F8",
            "showbackground": true,
            "ticks": "",
            "zerolinecolor": "#EBF0F8"
           },
           "zaxis": {
            "backgroundcolor": "white",
            "gridcolor": "#DFE8F3",
            "gridwidth": 2,
            "linecolor": "#EBF0F8",
            "showbackground": true,
            "ticks": "",
            "zerolinecolor": "#EBF0F8"
           }
          },
          "shapedefaults": {
           "line": {
            "color": "#2a3f5f"
           }
          },
          "ternary": {
           "aaxis": {
            "gridcolor": "#DFE8F3",
            "linecolor": "#A2B1C6",
            "ticks": ""
           },
           "baxis": {
            "gridcolor": "#DFE8F3",
            "linecolor": "#A2B1C6",
            "ticks": ""
           },
           "bgcolor": "white",
           "caxis": {
            "gridcolor": "#DFE8F3",
            "linecolor": "#A2B1C6",
            "ticks": ""
           }
          },
          "title": {
           "x": 0.05
          },
          "xaxis": {
           "automargin": true,
           "gridcolor": "#EBF0F8",
           "linecolor": "#EBF0F8",
           "ticks": "",
           "title": {
            "standoff": 15
           },
           "zerolinecolor": "#EBF0F8",
           "zerolinewidth": 2
          },
          "yaxis": {
           "automargin": true,
           "gridcolor": "#EBF0F8",
           "linecolor": "#EBF0F8",
           "ticks": "",
           "title": {
            "standoff": 15
           },
           "zerolinecolor": "#EBF0F8",
           "zerolinewidth": 2
          }
         }
        },
        "title": {
         "text": "Cross-Validation (N=5) Mean F1 score with Error Bands"
        },
        "xaxis": {
         "title": {
          "text": "Training Steps"
         }
        },
        "yaxis": {
         "range": [
          0.5,
          1
         ],
         "title": {
          "text": "Performance Score"
         }
        }
       }
      }
     },
     "metadata": {},
     "output_type": "display_data"
    }
   ],
   "source": [
    "from ARISA_DSML.train import plot_error_scatter\n",
    "\n",
    "cv_results = pd.read_csv(cv_output_path)\n",
    "plot_error_scatter(\n",
    "    df_plot=cv_results,\n",
    "    name=\"Mean F1 Score\",\n",
    "    title=\"Cross-Validation (N=5) Mean F1 score with Error Bands\",\n",
    "    xtitle=\"Training Steps\",\n",
    "    ytitle=\"Performance Score\",\n",
    "    yaxis_range=[0.5, 1],\n",
    ")"
   ]
  },
  {
   "cell_type": "code",
   "execution_count": 23,
   "id": "d77edfd5",
   "metadata": {},
   "outputs": [
    {
     "data": {
      "application/vnd.plotly.v1+json": {
       "config": {
        "plotlyServerURL": "https://plot.ly"
       },
       "data": [
        {
         "line": {
          "color": "blue"
         },
         "mode": "lines",
         "name": "Mean logloss",
         "type": "scatter",
         "x": {
          "bdata": "AAECAwQFBgcICQoLDA0ODxAREhMUFRYXGBkaGxwdHh8gISIjJCUmJygpKissLS4vMDEyMzQ1Njc4OTo7PD0+P0BBQkNERUZHSElKS0xNTk9QUVJTVFVWV1hZWltcXV5fYGFiY2Q=",
          "dtype": "i1"
         },
         "y": {
          "bdata": "XaJjYJRt4j/2LhZl1iHhPw8SCsT9VeA/tStIuCbo3j/1at/lLwXeP7qbLDbHzt0/Qj/Mi7xh3T/zpFnd0vHcP5WqOhUPpNw/meQhlQqa3D+93QPjV3zcP30IBT5cZdw/57QydBNW3D+vlS7ggUDcP5bAC+6cYNw/B6+UkMtW3D/xdv5TGkncPzgZy4IfTdw/wPGdc2tK3D9jNbORAzfcPwWfYjfgENw/2USd7Soa3D+rmTyVORncP0Gw+ddTB9w/oKUbRN8a3D8Vbj/Ml+3bPzu/HrFD8ts/MNNNP/fB2z/Ve9nK66LbP5p1nUmctds/O4qC49y92z/fYOLlNabbP/8CrrTkZNs/siy9Nkhr2z/Nx7FB3V3bP/PfoidPYNs/nZmtxxV32z9VvtosmHjbP3VS8NSESts/u239NR9i2z/9HI0HSWrbP8hjp/eNjds/G0VrEqJ92z9qVW+NBobbPyVq4Aovjds/Mir0n6qN2z83XsKE7qnbP8i1/Vkus9s/Ta62LE+m2z+hhIOUGrHbP3Co495Vhds/M/es4RmL2z8w4LWhop7bP60F3yrRmds/P/MWIFCU2z+F3/3Xml/bP4wYVQBvUds/BZOiO9tT2z9FLXKugmLbP/WhQov6YNs/9bukswGc2z84XKSzDJnbPzXwYbkKfNs/NVONi15x2z9U5gZsiIvbP9jT6EJHkds/d2Zy5DJv2z+uiNjitXbbP6HtTnPhc9s/xipieXt92z9ZJJVCvXbbP0h2LnYAmNs/4JROtHim2z+Z7oy32rPbP2XIYU5mq9s/dT/UT0Ke2z9W1zGJdb/bP/2OU5otyds/qicFO9DA2z/hiHDqVLDbPwnwD8Yiwds/NRyMUxK12z/LBT4rAK7bP/XSCYUBsNs/+qx+wuWm2z+lmE78aMbbP8135Mwjxds/OqE5Zfzb2z/vZCBKRr3bP3W4zw88tts/B3lkHSXC2z+n/hF9yLPbP51my5hMrts/JpqCrOOx2z8VcxH0nanbP+lBFJUmrts/CC3xRi232z9R/X+KGNnbP5V0vHE/1Ns/ylKX+yzy2z/C2wKHmgzcPw==",
          "dtype": "f8"
         }
        },
        {
         "fill": "toself",
         "fillcolor": "rgba(0, 0, 255, 0.2)",
         "line": {
          "color": "rgba(255, 255, 255, 0)"
         },
         "showlegend": false,
         "type": "scatter",
         "x": {
          "bdata": "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",
          "dtype": "f8"
         },
         "y": {
          "bdata": "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",
          "dtype": "f8"
         }
        }
       ],
       "layout": {
        "template": {
         "data": {
          "bar": [
           {
            "error_x": {
             "color": "#2a3f5f"
            },
            "error_y": {
             "color": "#2a3f5f"
            },
            "marker": {
             "line": {
              "color": "white",
              "width": 0.5
             },
             "pattern": {
              "fillmode": "overlay",
              "size": 10,
              "solidity": 0.2
             }
            },
            "type": "bar"
           }
          ],
          "barpolar": [
           {
            "marker": {
             "line": {
              "color": "white",
              "width": 0.5
             },
             "pattern": {
              "fillmode": "overlay",
              "size": 10,
              "solidity": 0.2
             }
            },
            "type": "barpolar"
           }
          ],
          "carpet": [
           {
            "aaxis": {
             "endlinecolor": "#2a3f5f",
             "gridcolor": "#C8D4E3",
             "linecolor": "#C8D4E3",
             "minorgridcolor": "#C8D4E3",
             "startlinecolor": "#2a3f5f"
            },
            "baxis": {
             "endlinecolor": "#2a3f5f",
             "gridcolor": "#C8D4E3",
             "linecolor": "#C8D4E3",
             "minorgridcolor": "#C8D4E3",
             "startlinecolor": "#2a3f5f"
            },
            "type": "carpet"
           }
          ],
          "choropleth": [
           {
            "colorbar": {
             "outlinewidth": 0,
             "ticks": ""
            },
            "type": "choropleth"
           }
          ],
          "contour": [
           {
            "colorbar": {
             "outlinewidth": 0,
             "ticks": ""
            },
            "colorscale": [
             [
              0,
              "#0d0887"
             ],
             [
              0.1111111111111111,
              "#46039f"
             ],
             [
              0.2222222222222222,
              "#7201a8"
             ],
             [
              0.3333333333333333,
              "#9c179e"
             ],
             [
              0.4444444444444444,
              "#bd3786"
             ],
             [
              0.5555555555555556,
              "#d8576b"
             ],
             [
              0.6666666666666666,
              "#ed7953"
             ],
             [
              0.7777777777777778,
              "#fb9f3a"
             ],
             [
              0.8888888888888888,
              "#fdca26"
             ],
             [
              1,
              "#f0f921"
             ]
            ],
            "type": "contour"
           }
          ],
          "contourcarpet": [
           {
            "colorbar": {
             "outlinewidth": 0,
             "ticks": ""
            },
            "type": "contourcarpet"
           }
          ],
          "heatmap": [
           {
            "colorbar": {
             "outlinewidth": 0,
             "ticks": ""
            },
            "colorscale": [
             [
              0,
              "#0d0887"
             ],
             [
              0.1111111111111111,
              "#46039f"
             ],
             [
              0.2222222222222222,
              "#7201a8"
             ],
             [
              0.3333333333333333,
              "#9c179e"
             ],
             [
              0.4444444444444444,
              "#bd3786"
             ],
             [
              0.5555555555555556,
              "#d8576b"
             ],
             [
              0.6666666666666666,
              "#ed7953"
             ],
             [
              0.7777777777777778,
              "#fb9f3a"
             ],
             [
              0.8888888888888888,
              "#fdca26"
             ],
             [
              1,
              "#f0f921"
             ]
            ],
            "type": "heatmap"
           }
          ],
          "histogram": [
           {
            "marker": {
             "pattern": {
              "fillmode": "overlay",
              "size": 10,
              "solidity": 0.2
             }
            },
            "type": "histogram"
           }
          ],
          "histogram2d": [
           {
            "colorbar": {
             "outlinewidth": 0,
             "ticks": ""
            },
            "colorscale": [
             [
              0,
              "#0d0887"
             ],
             [
              0.1111111111111111,
              "#46039f"
             ],
             [
              0.2222222222222222,
              "#7201a8"
             ],
             [
              0.3333333333333333,
              "#9c179e"
             ],
             [
              0.4444444444444444,
              "#bd3786"
             ],
             [
              0.5555555555555556,
              "#d8576b"
             ],
             [
              0.6666666666666666,
              "#ed7953"
             ],
             [
              0.7777777777777778,
              "#fb9f3a"
             ],
             [
              0.8888888888888888,
              "#fdca26"
             ],
             [
              1,
              "#f0f921"
             ]
            ],
            "type": "histogram2d"
           }
          ],
          "histogram2dcontour": [
           {
            "colorbar": {
             "outlinewidth": 0,
             "ticks": ""
            },
            "colorscale": [
             [
              0,
              "#0d0887"
             ],
             [
              0.1111111111111111,
              "#46039f"
             ],
             [
              0.2222222222222222,
              "#7201a8"
             ],
             [
              0.3333333333333333,
              "#9c179e"
             ],
             [
              0.4444444444444444,
              "#bd3786"
             ],
             [
              0.5555555555555556,
              "#d8576b"
             ],
             [
              0.6666666666666666,
              "#ed7953"
             ],
             [
              0.7777777777777778,
              "#fb9f3a"
             ],
             [
              0.8888888888888888,
              "#fdca26"
             ],
             [
              1,
              "#f0f921"
             ]
            ],
            "type": "histogram2dcontour"
           }
          ],
          "mesh3d": [
           {
            "colorbar": {
             "outlinewidth": 0,
             "ticks": ""
            },
            "type": "mesh3d"
           }
          ],
          "parcoords": [
           {
            "line": {
             "colorbar": {
              "outlinewidth": 0,
              "ticks": ""
             }
            },
            "type": "parcoords"
           }
          ],
          "pie": [
           {
            "automargin": true,
            "type": "pie"
           }
          ],
          "scatter": [
           {
            "fillpattern": {
             "fillmode": "overlay",
             "size": 10,
             "solidity": 0.2
            },
            "type": "scatter"
           }
          ],
          "scatter3d": [
           {
            "line": {
             "colorbar": {
              "outlinewidth": 0,
              "ticks": ""
             }
            },
            "marker": {
             "colorbar": {
              "outlinewidth": 0,
              "ticks": ""
             }
            },
            "type": "scatter3d"
           }
          ],
          "scattercarpet": [
           {
            "marker": {
             "colorbar": {
              "outlinewidth": 0,
              "ticks": ""
             }
            },
            "type": "scattercarpet"
           }
          ],
          "scattergeo": [
           {
            "marker": {
             "colorbar": {
              "outlinewidth": 0,
              "ticks": ""
             }
            },
            "type": "scattergeo"
           }
          ],
          "scattergl": [
           {
            "marker": {
             "colorbar": {
              "outlinewidth": 0,
              "ticks": ""
             }
            },
            "type": "scattergl"
           }
          ],
          "scattermap": [
           {
            "marker": {
             "colorbar": {
              "outlinewidth": 0,
              "ticks": ""
             }
            },
            "type": "scattermap"
           }
          ],
          "scattermapbox": [
           {
            "marker": {
             "colorbar": {
              "outlinewidth": 0,
              "ticks": ""
             }
            },
            "type": "scattermapbox"
           }
          ],
          "scatterpolar": [
           {
            "marker": {
             "colorbar": {
              "outlinewidth": 0,
              "ticks": ""
             }
            },
            "type": "scatterpolar"
           }
          ],
          "scatterpolargl": [
           {
            "marker": {
             "colorbar": {
              "outlinewidth": 0,
              "ticks": ""
             }
            },
            "type": "scatterpolargl"
           }
          ],
          "scatterternary": [
           {
            "marker": {
             "colorbar": {
              "outlinewidth": 0,
              "ticks": ""
             }
            },
            "type": "scatterternary"
           }
          ],
          "surface": [
           {
            "colorbar": {
             "outlinewidth": 0,
             "ticks": ""
            },
            "colorscale": [
             [
              0,
              "#0d0887"
             ],
             [
              0.1111111111111111,
              "#46039f"
             ],
             [
              0.2222222222222222,
              "#7201a8"
             ],
             [
              0.3333333333333333,
              "#9c179e"
             ],
             [
              0.4444444444444444,
              "#bd3786"
             ],
             [
              0.5555555555555556,
              "#d8576b"
             ],
             [
              0.6666666666666666,
              "#ed7953"
             ],
             [
              0.7777777777777778,
              "#fb9f3a"
             ],
             [
              0.8888888888888888,
              "#fdca26"
             ],
             [
              1,
              "#f0f921"
             ]
            ],
            "type": "surface"
           }
          ],
          "table": [
           {
            "cells": {
             "fill": {
              "color": "#EBF0F8"
             },
             "line": {
              "color": "white"
             }
            },
            "header": {
             "fill": {
              "color": "#C8D4E3"
             },
             "line": {
              "color": "white"
             }
            },
            "type": "table"
           }
          ]
         },
         "layout": {
          "annotationdefaults": {
           "arrowcolor": "#2a3f5f",
           "arrowhead": 0,
           "arrowwidth": 1
          },
          "autotypenumbers": "strict",
          "coloraxis": {
           "colorbar": {
            "outlinewidth": 0,
            "ticks": ""
           }
          },
          "colorscale": {
           "diverging": [
            [
             0,
             "#8e0152"
            ],
            [
             0.1,
             "#c51b7d"
            ],
            [
             0.2,
             "#de77ae"
            ],
            [
             0.3,
             "#f1b6da"
            ],
            [
             0.4,
             "#fde0ef"
            ],
            [
             0.5,
             "#f7f7f7"
            ],
            [
             0.6,
             "#e6f5d0"
            ],
            [
             0.7,
             "#b8e186"
            ],
            [
             0.8,
             "#7fbc41"
            ],
            [
             0.9,
             "#4d9221"
            ],
            [
             1,
             "#276419"
            ]
           ],
           "sequential": [
            [
             0,
             "#0d0887"
            ],
            [
             0.1111111111111111,
             "#46039f"
            ],
            [
             0.2222222222222222,
             "#7201a8"
            ],
            [
             0.3333333333333333,
             "#9c179e"
            ],
            [
             0.4444444444444444,
             "#bd3786"
            ],
            [
             0.5555555555555556,
             "#d8576b"
            ],
            [
             0.6666666666666666,
             "#ed7953"
            ],
            [
             0.7777777777777778,
             "#fb9f3a"
            ],
            [
             0.8888888888888888,
             "#fdca26"
            ],
            [
             1,
             "#f0f921"
            ]
           ],
           "sequentialminus": [
            [
             0,
             "#0d0887"
            ],
            [
             0.1111111111111111,
             "#46039f"
            ],
            [
             0.2222222222222222,
             "#7201a8"
            ],
            [
             0.3333333333333333,
             "#9c179e"
            ],
            [
             0.4444444444444444,
             "#bd3786"
            ],
            [
             0.5555555555555556,
             "#d8576b"
            ],
            [
             0.6666666666666666,
             "#ed7953"
            ],
            [
             0.7777777777777778,
             "#fb9f3a"
            ],
            [
             0.8888888888888888,
             "#fdca26"
            ],
            [
             1,
             "#f0f921"
            ]
           ]
          },
          "colorway": [
           "#636efa",
           "#EF553B",
           "#00cc96",
           "#ab63fa",
           "#FFA15A",
           "#19d3f3",
           "#FF6692",
           "#B6E880",
           "#FF97FF",
           "#FECB52"
          ],
          "font": {
           "color": "#2a3f5f"
          },
          "geo": {
           "bgcolor": "white",
           "lakecolor": "white",
           "landcolor": "white",
           "showlakes": true,
           "showland": true,
           "subunitcolor": "#C8D4E3"
          },
          "hoverlabel": {
           "align": "left"
          },
          "hovermode": "closest",
          "mapbox": {
           "style": "light"
          },
          "paper_bgcolor": "white",
          "plot_bgcolor": "white",
          "polar": {
           "angularaxis": {
            "gridcolor": "#EBF0F8",
            "linecolor": "#EBF0F8",
            "ticks": ""
           },
           "bgcolor": "white",
           "radialaxis": {
            "gridcolor": "#EBF0F8",
            "linecolor": "#EBF0F8",
            "ticks": ""
           }
          },
          "scene": {
           "xaxis": {
            "backgroundcolor": "white",
            "gridcolor": "#DFE8F3",
            "gridwidth": 2,
            "linecolor": "#EBF0F8",
            "showbackground": true,
            "ticks": "",
            "zerolinecolor": "#EBF0F8"
           },
           "yaxis": {
            "backgroundcolor": "white",
            "gridcolor": "#DFE8F3",
            "gridwidth": 2,
            "linecolor": "#EBF0F8",
            "showbackground": true,
            "ticks": "",
            "zerolinecolor": "#EBF0F8"
           },
           "zaxis": {
            "backgroundcolor": "white",
            "gridcolor": "#DFE8F3",
            "gridwidth": 2,
            "linecolor": "#EBF0F8",
            "showbackground": true,
            "ticks": "",
            "zerolinecolor": "#EBF0F8"
           }
          },
          "shapedefaults": {
           "line": {
            "color": "#2a3f5f"
           }
          },
          "ternary": {
           "aaxis": {
            "gridcolor": "#DFE8F3",
            "linecolor": "#A2B1C6",
            "ticks": ""
           },
           "baxis": {
            "gridcolor": "#DFE8F3",
            "linecolor": "#A2B1C6",
            "ticks": ""
           },
           "bgcolor": "white",
           "caxis": {
            "gridcolor": "#DFE8F3",
            "linecolor": "#A2B1C6",
            "ticks": ""
           }
          },
          "title": {
           "x": 0.05
          },
          "xaxis": {
           "automargin": true,
           "gridcolor": "#EBF0F8",
           "linecolor": "#EBF0F8",
           "ticks": "",
           "title": {
            "standoff": 15
           },
           "zerolinecolor": "#EBF0F8",
           "zerolinewidth": 2
          },
          "yaxis": {
           "automargin": true,
           "gridcolor": "#EBF0F8",
           "linecolor": "#EBF0F8",
           "ticks": "",
           "title": {
            "standoff": 15
           },
           "zerolinecolor": "#EBF0F8",
           "zerolinewidth": 2
          }
         }
        },
        "title": {
         "text": "Cross-Validation (N=5) Mean Logloss with Error Bands"
        },
        "xaxis": {
         "title": {
          "text": "Training Steps"
         }
        },
        "yaxis": {
         "title": {
          "text": "Logloss"
         }
        }
       }
      }
     },
     "metadata": {},
     "output_type": "display_data"
    }
   ],
   "source": [
    "plot_error_scatter(\n",
    "    df_plot=cv_results,\n",
    "    x=\"iterations\",\n",
    "    y=\"test-Logloss-mean\",\n",
    "    err=\"test-Logloss-std\",\n",
    "    name=\"Mean logloss\",\n",
    "    title=\"Cross-Validation (N=5) Mean Logloss with Error Bands\",\n",
    "    xtitle=\"Training Steps\",\n",
    "    ytitle=\"Logloss\",\n",
    ")\n"
   ]
  },
  {
   "cell_type": "markdown",
   "id": "660b208e-b2b8-4bd2-ae70-6f75b550d65d",
   "metadata": {
    "editable": false,
    "slideshow": {
     "slide_type": "slide"
    },
    "tags": []
   },
   "source": [
    "Fit model on full dataset:"
   ]
  },
  {
   "cell_type": "code",
   "execution_count": 24,
   "id": "a8059c1d-ee28-4580-9d5d-9a9c4eb91a4b",
   "metadata": {
    "editable": true,
    "scrolled": true,
    "slideshow": {
     "slide_type": "subslide"
    },
    "tags": []
   },
   "outputs": [
    {
     "data": {
      "application/vnd.jupyter.widget-view+json": {
       "model_id": "1436e9278ba348eca80a056e5b7b7774",
       "version_major": 2,
       "version_minor": 0
      },
      "text/plain": [
       "MetricVisualizer(layout=Layout(align_self='stretch', height='500px'))"
      ]
     },
     "metadata": {},
     "output_type": "display_data"
    },
    {
     "name": "stdout",
     "output_type": "stream",
     "text": [
      "0:\tlearn: 0.7044776\ttotal: 12ms\tremaining: 1.2s\n",
      "50:\tlearn: 0.7968750\ttotal: 684ms\tremaining: 671ms\n",
      "100:\tlearn: 0.8452012\ttotal: 1.44s\tremaining: 0us\n"
     ]
    }
   ],
   "source": [
    "from ARISA_DSML.train import train\n",
    "\n",
    "model_path, model_params_path = train(X_train, y_train, categorical_indices, params)"
   ]
  },
  {
   "cell_type": "markdown",
   "id": "11d6658f-ac2b-4a8f-a872-b66bbcf4b19b",
   "metadata": {
    "editable": false,
    "slideshow": {
     "slide_type": "slide"
    },
    "tags": []
   },
   "source": [
    "And now for the test set, because of our refactor, we don't need to copy paste anymore:"
   ]
  },
  {
   "cell_type": "code",
   "execution_count": 25,
   "id": "ea7b6f53-6b16-453f-b0b8-336f0b8ceee1",
   "metadata": {
    "editable": true,
    "slideshow": {
     "slide_type": "subslide"
    },
    "tags": []
   },
   "outputs": [
    {
     "data": {
      "text/html": [
       "<div>\n",
       "<style scoped>\n",
       "    .dataframe tbody tr th:only-of-type {\n",
       "        vertical-align: middle;\n",
       "    }\n",
       "\n",
       "    .dataframe tbody tr th {\n",
       "        vertical-align: top;\n",
       "    }\n",
       "\n",
       "    .dataframe thead th {\n",
       "        text-align: right;\n",
       "    }\n",
       "</style>\n",
       "<table border=\"1\" class=\"dataframe\">\n",
       "  <thead>\n",
       "    <tr style=\"text-align: right;\">\n",
       "      <th></th>\n",
       "      <th>PassengerId</th>\n",
       "      <th>Pclass</th>\n",
       "      <th>Sex</th>\n",
       "      <th>Age</th>\n",
       "      <th>SibSp</th>\n",
       "      <th>Parch</th>\n",
       "      <th>Fare</th>\n",
       "      <th>Embarked</th>\n",
       "      <th>Title</th>\n",
       "      <th>Deck</th>\n",
       "      <th>CabinNumber</th>\n",
       "    </tr>\n",
       "  </thead>\n",
       "  <tbody>\n",
       "    <tr>\n",
       "      <th>0</th>\n",
       "      <td>892</td>\n",
       "      <td>3</td>\n",
       "      <td>male</td>\n",
       "      <td>34.5</td>\n",
       "      <td>0</td>\n",
       "      <td>0</td>\n",
       "      <td>7.8292</td>\n",
       "      <td>Q</td>\n",
       "      <td>Mr</td>\n",
       "      <td>N</td>\n",
       "      <td>47</td>\n",
       "    </tr>\n",
       "    <tr>\n",
       "      <th>1</th>\n",
       "      <td>893</td>\n",
       "      <td>3</td>\n",
       "      <td>female</td>\n",
       "      <td>47.0</td>\n",
       "      <td>1</td>\n",
       "      <td>0</td>\n",
       "      <td>7.0000</td>\n",
       "      <td>S</td>\n",
       "      <td>Mrs</td>\n",
       "      <td>N</td>\n",
       "      <td>47</td>\n",
       "    </tr>\n",
       "    <tr>\n",
       "      <th>2</th>\n",
       "      <td>894</td>\n",
       "      <td>2</td>\n",
       "      <td>male</td>\n",
       "      <td>62.0</td>\n",
       "      <td>0</td>\n",
       "      <td>0</td>\n",
       "      <td>9.6875</td>\n",
       "      <td>Q</td>\n",
       "      <td>Mr</td>\n",
       "      <td>N</td>\n",
       "      <td>47</td>\n",
       "    </tr>\n",
       "    <tr>\n",
       "      <th>3</th>\n",
       "      <td>895</td>\n",
       "      <td>3</td>\n",
       "      <td>male</td>\n",
       "      <td>27.0</td>\n",
       "      <td>0</td>\n",
       "      <td>0</td>\n",
       "      <td>8.6625</td>\n",
       "      <td>S</td>\n",
       "      <td>Mr</td>\n",
       "      <td>N</td>\n",
       "      <td>47</td>\n",
       "    </tr>\n",
       "    <tr>\n",
       "      <th>4</th>\n",
       "      <td>896</td>\n",
       "      <td>3</td>\n",
       "      <td>female</td>\n",
       "      <td>22.0</td>\n",
       "      <td>1</td>\n",
       "      <td>1</td>\n",
       "      <td>12.2875</td>\n",
       "      <td>S</td>\n",
       "      <td>Mrs</td>\n",
       "      <td>N</td>\n",
       "      <td>47</td>\n",
       "    </tr>\n",
       "  </tbody>\n",
       "</table>\n",
       "</div>"
      ],
      "text/plain": [
       "   PassengerId  Pclass     Sex   Age  SibSp  Parch     Fare Embarked Title  \\\n",
       "0          892       3    male  34.5      0      0   7.8292        Q    Mr   \n",
       "1          893       3  female  47.0      1      0   7.0000        S   Mrs   \n",
       "2          894       2    male  62.0      0      0   9.6875        Q    Mr   \n",
       "3          895       3    male  27.0      0      0   8.6625        S    Mr   \n",
       "4          896       3  female  22.0      1      1  12.2875        S   Mrs   \n",
       "\n",
       "  Deck  CabinNumber  \n",
       "0    N           47  \n",
       "1    N           47  \n",
       "2    N           47  \n",
       "3    N           47  \n",
       "4    N           47  "
      ]
     },
     "execution_count": 25,
     "metadata": {},
     "output_type": "execute_result"
    }
   ],
   "source": [
    "dataset_test_path = RAW_DATA_DIR / \"test.csv\"\n",
    "preprocced_test_path = preprocess_df(dataset_test_path)\n",
    "df_test = pd.read_csv(preprocced_test_path)\n",
    "df_test[\"Title\"].unique()\n",
    "\n",
    "df_test.head()"
   ]
  },
  {
   "cell_type": "code",
   "execution_count": 26,
   "id": "c0576580",
   "metadata": {},
   "outputs": [
    {
     "data": {
      "text/html": [
       "<div>\n",
       "<style scoped>\n",
       "    .dataframe tbody tr th:only-of-type {\n",
       "        vertical-align: middle;\n",
       "    }\n",
       "\n",
       "    .dataframe tbody tr th {\n",
       "        vertical-align: top;\n",
       "    }\n",
       "\n",
       "    .dataframe thead th {\n",
       "        text-align: right;\n",
       "    }\n",
       "</style>\n",
       "<table border=\"1\" class=\"dataframe\">\n",
       "  <thead>\n",
       "    <tr style=\"text-align: right;\">\n",
       "      <th></th>\n",
       "      <th>PassengerId</th>\n",
       "      <th>Pclass</th>\n",
       "      <th>Sex</th>\n",
       "      <th>Age</th>\n",
       "      <th>SibSp</th>\n",
       "      <th>Parch</th>\n",
       "      <th>Fare</th>\n",
       "      <th>Embarked</th>\n",
       "      <th>Title</th>\n",
       "      <th>Deck</th>\n",
       "      <th>CabinNumber</th>\n",
       "    </tr>\n",
       "  </thead>\n",
       "  <tbody>\n",
       "    <tr>\n",
       "      <th>0</th>\n",
       "      <td>1</td>\n",
       "      <td>3</td>\n",
       "      <td>male</td>\n",
       "      <td>22.0</td>\n",
       "      <td>1</td>\n",
       "      <td>0</td>\n",
       "      <td>7.2500</td>\n",
       "      <td>S</td>\n",
       "      <td>Mr</td>\n",
       "      <td>N</td>\n",
       "      <td>50</td>\n",
       "    </tr>\n",
       "    <tr>\n",
       "      <th>1</th>\n",
       "      <td>2</td>\n",
       "      <td>1</td>\n",
       "      <td>female</td>\n",
       "      <td>38.0</td>\n",
       "      <td>1</td>\n",
       "      <td>0</td>\n",
       "      <td>71.2833</td>\n",
       "      <td>C</td>\n",
       "      <td>Mrs</td>\n",
       "      <td>C</td>\n",
       "      <td>85</td>\n",
       "    </tr>\n",
       "    <tr>\n",
       "      <th>2</th>\n",
       "      <td>3</td>\n",
       "      <td>3</td>\n",
       "      <td>female</td>\n",
       "      <td>26.0</td>\n",
       "      <td>0</td>\n",
       "      <td>0</td>\n",
       "      <td>7.9250</td>\n",
       "      <td>S</td>\n",
       "      <td>Miss</td>\n",
       "      <td>N</td>\n",
       "      <td>50</td>\n",
       "    </tr>\n",
       "    <tr>\n",
       "      <th>3</th>\n",
       "      <td>4</td>\n",
       "      <td>1</td>\n",
       "      <td>female</td>\n",
       "      <td>35.0</td>\n",
       "      <td>1</td>\n",
       "      <td>0</td>\n",
       "      <td>53.1000</td>\n",
       "      <td>S</td>\n",
       "      <td>Mrs</td>\n",
       "      <td>C</td>\n",
       "      <td>123</td>\n",
       "    </tr>\n",
       "    <tr>\n",
       "      <th>4</th>\n",
       "      <td>5</td>\n",
       "      <td>3</td>\n",
       "      <td>male</td>\n",
       "      <td>35.0</td>\n",
       "      <td>0</td>\n",
       "      <td>0</td>\n",
       "      <td>8.0500</td>\n",
       "      <td>S</td>\n",
       "      <td>Mr</td>\n",
       "      <td>N</td>\n",
       "      <td>50</td>\n",
       "    </tr>\n",
       "  </tbody>\n",
       "</table>\n",
       "</div>"
      ],
      "text/plain": [
       "   PassengerId  Pclass     Sex   Age  SibSp  Parch     Fare Embarked Title  \\\n",
       "0            1       3    male  22.0      1      0   7.2500        S    Mr   \n",
       "1            2       1  female  38.0      1      0  71.2833        C   Mrs   \n",
       "2            3       3  female  26.0      0      0   7.9250        S  Miss   \n",
       "3            4       1  female  35.0      1      0  53.1000        S   Mrs   \n",
       "4            5       3    male  35.0      0      0   8.0500        S    Mr   \n",
       "\n",
       "  Deck  CabinNumber  \n",
       "0    N           50  \n",
       "1    C           85  \n",
       "2    N           50  \n",
       "3    C          123  \n",
       "4    N           50  "
      ]
     },
     "execution_count": 26,
     "metadata": {},
     "output_type": "execute_result"
    }
   ],
   "source": [
    "df_train.head()"
   ]
  },
  {
   "cell_type": "markdown",
   "id": "bae031a2",
   "metadata": {},
   "source": [
    "Get predictions and shap plot:"
   ]
  },
  {
   "cell_type": "code",
   "execution_count": 27,
   "id": "3f9e330a",
   "metadata": {},
   "outputs": [
    {
     "data": {
      "text/plain": [
       "{'depth': 3,\n",
       " 'learning_rate': 0.2847856453953337,\n",
       " 'iterations': 101,\n",
       " 'l2_leaf_reg': 0.08064725446361332,\n",
       " 'bagging_temperature': 0.4441828029429478,\n",
       " 'random_strength': 9.931197047043607,\n",
       " 'eval_metric': 'F1',\n",
       " 'loss_function': 'Logloss',\n",
       " 'ignored_features': [0],\n",
       " 'feature_columns': Index(['PassengerId', 'Pclass', 'Sex', 'Age', 'SibSp', 'Parch', 'Fare',\n",
       "        'Embarked', 'Title', 'Deck', 'CabinNumber'],\n",
       "       dtype='object')}"
      ]
     },
     "metadata": {},
     "output_type": "display_data"
    },
    {
     "data": {
      "image/png": "[encoded data removed]",
      "text/plain": [
       "<Figure size 800x590 with 2 Axes>"
      ]
     },
     "metadata": {},
     "output_type": "display_data"
    }
   ],
   "source": [
    "from ARISA_DSML.predict import predict\n",
    "from catboost import CatBoostClassifier\n",
    "\n",
    "params = joblib.load(model_params_path)\n",
    "display(params)\n",
    "from_file = CatBoostClassifier()\n",
    "model = from_file.load_model(str(model_path))\n",
    "preds_path = predict(model, df_test, params)\n"
   ]
  },
  {
   "cell_type": "markdown",
   "id": "75af8422",
   "metadata": {},
   "source": [
    "And that's it for the refactor.  \n",
    "As can be seen from the notebook, the goal is to have as little code as possible in the actual notebook cells,  \n",
    "which makes it much easier to maintain and, as we will see shortly, productionalize."
   ]
  }
 ],
 "metadata": {
  "kernelspec": {
   "display_name": ".venv",
   "language": "python",
   "name": "python3"
  },
  "language_info": {
   "codemirror_mode": {
    "name": "ipython",
    "version": 3
   },
   "file_extension": ".py",
   "mimetype": "text/x-python",
   "name": "python",
   "nbconvert_exporter": "python",
   "pygments_lexer": "ipython3",
   "version": "3.11.9"
  }
 },
 "nbformat": 4,
 "nbformat_minor": 5
}
