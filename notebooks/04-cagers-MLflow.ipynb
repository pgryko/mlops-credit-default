{
 "cells": [
  {
   "cell_type": "markdown",
   "id": "b0e9291a-2cb2-4c21-ba31-f362de7f300c",
   "metadata": {
    "editable": false,
    "slideshow": {
     "slide_type": "slide"
    },
    "tags": []
   },
   "source": [
    "## Version 4\n",
    "Getting started with MLflow."
   ]
  },
  {
   "cell_type": "markdown",
   "id": "f05f223c",
   "metadata": {},
   "source": [
    "Add autoreload since we are now modifying scripts in other folders."
   ]
  },
  {
   "cell_type": "code",
   "execution_count": 1,
   "id": "dde9a1d4",
   "metadata": {},
   "outputs": [],
   "source": [
    "%load_ext autoreload\n",
    "%autoreload 2"
   ]
  },
  {
   "cell_type": "markdown",
   "id": "9e74b72a-4dd5-4a2d-8b23-58443dd4c862",
   "metadata": {
    "editable": false,
    "slideshow": {
     "slide_type": "slide"
    },
    "tags": []
   },
   "source": [
    "Getting the data."
   ]
  },
  {
   "cell_type": "code",
   "execution_count": 2,
   "id": "3a6c9068",
   "metadata": {},
   "outputs": [],
   "source": [
    "\n",
    "import os\n",
    "from pathlib import Path\n",
    "\n",
    "container_check = os.getenv(\"iscontainer\")\n",
    "if container_check==\"y\":\n",
    "    config_dir = Path(\"/home/vscode/.config/kaggle\")\n",
    "    config_dir.mkdir(parents=True, exist_ok=True)\n",
    "\n",
    "    with open(config_dir / \"kaggle.json\", \"w\") as dst:\n",
    "        with open(\"../kaggle.json\") as src:\n",
    "            dst.write(src.read())"
   ]
  },
  {
   "cell_type": "code",
   "execution_count": 3,
   "id": "33798031-5b84-404d-8934-ff0e9d243db4",
   "metadata": {
    "editable": true,
    "slideshow": {
     "slide_type": "subslide"
    },
    "tags": []
   },
   "outputs": [
    {
     "name": "stderr",
     "output_type": "stream",
     "text": [
      "\u001b[32m2025-03-11 19:11:55.999\u001b[0m | \u001b[1mINFO    \u001b[0m | \u001b[36mARISA_DSML.config\u001b[0m:\u001b[36m<module>\u001b[0m:\u001b[36m12\u001b[0m - \u001b[1mPROJ_ROOT path is: /workspaces/ARISA-MLOps\u001b[0m\n"
     ]
    },
    {
     "name": "stdout",
     "output_type": "stream",
     "text": [
      "Warning: Your Kaggle API key is readable by other users on this system! To fix this, you can run 'chmod 600 /home/vscode/.config/kaggle/kaggle.json'\n"
     ]
    }
   ],
   "source": [
    "\n",
    "import os\n",
    "import sys\n",
    "\n",
    "sys.path.append(os.path.abspath(\"..\"))\n",
    "\n",
    "from ARISA_DSML.config import RAW_DATA_DIR, categorical, target\n",
    "from ARISA_DSML.preproc import get_raw_data\n"
   ]
  },
  {
   "cell_type": "code",
   "execution_count": 4,
   "id": "5300cae0",
   "metadata": {},
   "outputs": [
    {
     "data": {
      "text/plain": [
       "'ec75c17c36330a8acba7b5a2936e0829e520371c'"
      ]
     },
     "execution_count": 4,
     "metadata": {},
     "output_type": "execute_result"
    }
   ],
   "source": [
    "from ARISA_DSML.helpers import get_active_branch_name, get_git_commit_hash\n",
    "\n",
    "get_active_branch_name(\"..\")  # need \"..\" because we are not in root\n",
    "get_git_commit_hash()\n"
   ]
  },
  {
   "cell_type": "code",
   "execution_count": 5,
   "id": "0a42389d-e7af-4a9c-bf0d-58017bf9688b",
   "metadata": {
    "editable": true,
    "slideshow": {
     "slide_type": "subslide"
    },
    "tags": []
   },
   "outputs": [
    {
     "name": "stderr",
     "output_type": "stream",
     "text": [
      "\u001b[32m2025-03-11 19:11:59.529\u001b[0m | \u001b[1mINFO    \u001b[0m | \u001b[36mARISA_DSML.preproc\u001b[0m:\u001b[36mget_raw_data\u001b[0m:\u001b[36m22\u001b[0m - \u001b[1mRAW_DATA_DIR is: /workspaces/ARISA-MLOps/data/raw\u001b[0m\n"
     ]
    },
    {
     "name": "stdout",
     "output_type": "stream",
     "text": [
      "Warning: Your Kaggle API key is readable by other users on this system! To fix this, you can run 'chmod 600 /home/vscode/.config/kaggle/kaggle.json'\n"
     ]
    },
    {
     "name": "stdout",
     "output_type": "stream",
     "text": [
      "Dataset URL: https://www.kaggle.com/datasets/wesleyhowe/titanic-labelled-test-set\n",
      "gender_submission.csv  test.csv  test_augmented.csv  train.csv\n"
     ]
    }
   ],
   "source": [
    "get_raw_data()\n",
    "!dir \"{RAW_DATA_DIR}\""
   ]
  },
  {
   "cell_type": "markdown",
   "id": "890bca88-b545-4226-ae7f-64b1388190fd",
   "metadata": {
    "editable": false,
    "slideshow": {
     "slide_type": "slide"
    },
    "tags": []
   },
   "source": [
    "Load preproc from preproc.py and run on train data:"
   ]
  },
  {
   "cell_type": "code",
   "execution_count": 6,
   "id": "9b6f248e",
   "metadata": {},
   "outputs": [],
   "source": [
    "from ARISA_DSML.preproc import preprocess_df\n",
    "\n",
    "train_path = preprocess_df(RAW_DATA_DIR / \"train.csv\")"
   ]
  },
  {
   "cell_type": "code",
   "execution_count": 7,
   "id": "dc30e56d",
   "metadata": {},
   "outputs": [
    {
     "data": {
      "text/plain": [
       "PosixPath('/workspaces/ARISA-MLOps/data/processed/train.csv')"
      ]
     },
     "execution_count": 7,
     "metadata": {},
     "output_type": "execute_result"
    }
   ],
   "source": [
    "train_path"
   ]
  },
  {
   "cell_type": "code",
   "execution_count": 8,
   "id": "9fdfb560-31d7-42e8-8f6a-8a1f206bad56",
   "metadata": {
    "editable": true,
    "slideshow": {
     "slide_type": "subslide"
    },
    "tags": []
   },
   "outputs": [
    {
     "data": {
      "text/plain": [
       "array(['Mr', 'Mrs', 'Miss', 'Master', 'Don', 'Rev', 'Dr', 'Mme', 'Ms',\n",
       "       'Major', 'Lady', 'Sir', 'Mlle', 'Col', 'Capt', 'the Countess',\n",
       "       'Jonkheer'], dtype=object)"
      ]
     },
     "execution_count": 8,
     "metadata": {},
     "output_type": "execute_result"
    }
   ],
   "source": [
    "import pandas as pd\n",
    "\n",
    "df_train = pd.read_csv(train_path)\n",
    "df_train[\"Title\"].unique()"
   ]
  },
  {
   "cell_type": "code",
   "execution_count": 9,
   "id": "ff0bf760-97b2-4e78-8eb3-d4e8c118f1fd",
   "metadata": {
    "editable": true,
    "slideshow": {
     "slide_type": "subslide"
    },
    "tags": []
   },
   "outputs": [
    {
     "name": "stdout",
     "output_type": "stream",
     "text": [
      "<class 'pandas.core.frame.DataFrame'>\n",
      "RangeIndex: 891 entries, 0 to 890\n",
      "Data columns (total 12 columns):\n",
      " #   Column       Non-Null Count  Dtype  \n",
      "---  ------       --------------  -----  \n",
      " 0   PassengerId  891 non-null    int64  \n",
      " 1   Survived     891 non-null    int64  \n",
      " 2   Pclass       891 non-null    int64  \n",
      " 3   Sex          891 non-null    object \n",
      " 4   Age          891 non-null    float64\n",
      " 5   SibSp        891 non-null    int64  \n",
      " 6   Parch        891 non-null    int64  \n",
      " 7   Fare         891 non-null    float64\n",
      " 8   Embarked     891 non-null    object \n",
      " 9   Title        891 non-null    object \n",
      " 10  Deck         891 non-null    object \n",
      " 11  CabinNumber  891 non-null    int64  \n",
      "dtypes: float64(2), int64(6), object(4)\n",
      "memory usage: 83.7+ KB\n"
     ]
    }
   ],
   "source": [
    "df_train.info()"
   ]
  },
  {
   "cell_type": "markdown",
   "id": "b2145d99",
   "metadata": {},
   "source": [
    "Split into X and y, get categorical indices:"
   ]
  },
  {
   "cell_type": "code",
   "execution_count": 10,
   "id": "25939d38-d8f1-409d-99a5-5422918d46b6",
   "metadata": {
    "editable": true,
    "slideshow": {
     "slide_type": "subslide"
    },
    "tags": []
   },
   "outputs": [
    {
     "data": {
      "text/plain": [
       "[1, 2, 7, 9, 8]"
      ]
     },
     "execution_count": 10,
     "metadata": {},
     "output_type": "execute_result"
    }
   ],
   "source": [
    "y_train = df_train.pop(target)\n",
    "X_train = df_train\n",
    "\n",
    "categorical_indices = [X_train.columns.get_loc(col) for col in categorical if col in X_train.columns]\n",
    "categorical_indices"
   ]
  },
  {
   "cell_type": "markdown",
   "id": "37229885-44d0-479e-81d0-0dcae5bfd507",
   "metadata": {
    "editable": false,
    "slideshow": {
     "slide_type": "slide"
    },
    "tags": []
   },
   "source": [
    "And run the hyperparameter optimization (if ):"
   ]
  },
  {
   "cell_type": "code",
   "execution_count": 11,
   "id": "4891bf8c-64b0-4735-8d2f-03425d886925",
   "metadata": {
    "editable": true,
    "slideshow": {
     "slide_type": "subslide"
    },
    "tags": []
   },
   "outputs": [
    {
     "name": "stderr",
     "output_type": "stream",
     "text": [
      "/home/vscode/.local/lib/python3.11/site-packages/mlflow/protos/service_pb2.py:11: UserWarning: google.protobuf.service module is deprecated. RPC implementations should provide code generator plugins which generate code specific to the RPC implementation. service.py will be removed in Jan 2025\n",
      "  from google.protobuf import service as _service\n",
      "\u001b[32m2025-03-11 19:12:13.210\u001b[0m | \u001b[1mINFO    \u001b[0m | \u001b[36mARISA_DSML.train\u001b[0m:\u001b[36mrun_hyperopt\u001b[0m:\u001b[36m72\u001b[0m - \u001b[1mBest Parameters: {'depth': 3, 'learning_rate': 0.2847856453953337, 'iterations': 101, 'l2_leaf_reg': 0.08064725446361332, 'bagging_temperature': 0.4441828029429478, 'random_strength': 9.931197047043607}\u001b[0m\n"
     ]
    }
   ],
   "source": [
    "from ARISA_DSML.train import get_or_create_experiment, run_hyperopt\n",
    "import mlflow\n",
    "\n",
    "mlflow.set_tracking_uri(\"http://127.0.0.1:5000\")\n",
    "\n",
    "experiment_id = get_or_create_experiment(\"titanic_hyperparam_tuning\")\n",
    "mlflow.set_experiment(experiment_id=experiment_id)\n",
    "best_params_path = run_hyperopt(X_train, y_train, categorical_indices)\n"
   ]
  },
  {
   "cell_type": "markdown",
   "id": "8af73d1c-bb53-47e5-bc84-293972e6837c",
   "metadata": {
    "editable": false,
    "slideshow": {
     "slide_type": "slide"
    },
    "tags": []
   },
   "source": [
    "Do cross validation again:"
   ]
  },
  {
   "cell_type": "code",
   "execution_count": 12,
   "id": "f54fd995-ebc1-4adc-86c9-595fe90243cc",
   "metadata": {
    "editable": true,
    "scrolled": true,
    "slideshow": {
     "slide_type": "subslide"
    },
    "tags": []
   },
   "outputs": [
    {
     "data": {
      "application/vnd.jupyter.widget-view+json": {
       "model_id": "0b3613a5d3f34956b4e764d7973ce4fb",
       "version_major": 2,
       "version_minor": 0
      },
      "text/plain": [
       "MetricVisualizer(layout=Layout(align_self='stretch', height='500px'))"
      ]
     },
     "metadata": {},
     "output_type": "display_data"
    },
    {
     "name": "stdout",
     "output_type": "stream",
     "text": [
      "Training on fold [0/5]\n",
      "0:\tlearn: 0.7145359\ttest: 0.7857143\tbest: 0.7857143 (0)\ttotal: 51.1ms\tremaining: 5.11s\n",
      "1:\tlearn: 0.6951673\ttest: 0.7575758\tbest: 0.7857143 (0)\ttotal: 52.8ms\tremaining: 2.61s\n",
      "2:\tlearn: 0.6962963\ttest: 0.7851852\tbest: 0.7857143 (0)\ttotal: 54.3ms\tremaining: 1.77s\n",
      "3:\tlearn: 0.7091932\ttest: 0.7851852\tbest: 0.7857143 (0)\ttotal: 55.7ms\tremaining: 1.35s\n",
      "4:\tlearn: 0.7091932\ttest: 0.7851852\tbest: 0.7857143 (0)\ttotal: 56.9ms\tremaining: 1.09s\n",
      "5:\tlearn: 0.7091932\ttest: 0.7851852\tbest: 0.7857143 (0)\ttotal: 58ms\tremaining: 918ms\n",
      "6:\tlearn: 0.7129456\ttest: 0.7851852\tbest: 0.7857143 (0)\ttotal: 59.6ms\tremaining: 801ms\n",
      "7:\tlearn: 0.7142857\ttest: 0.7851852\tbest: 0.7857143 (0)\ttotal: 60.9ms\tremaining: 708ms\n",
      "8:\tlearn: 0.7249071\ttest: 0.7969925\tbest: 0.7969925 (8)\ttotal: 62.2ms\tremaining: 636ms\n",
      "9:\tlearn: 0.7221172\ttest: 0.7938931\tbest: 0.7969925 (8)\ttotal: 63.4ms\tremaining: 577ms\n",
      "10:\tlearn: 0.7221172\ttest: 0.7938931\tbest: 0.7969925 (8)\ttotal: 64.6ms\tremaining: 529ms\n",
      "11:\tlearn: 0.7293233\ttest: 0.8030303\tbest: 0.8030303 (11)\ttotal: 65.9ms\tremaining: 489ms\n",
      "12:\tlearn: 0.7350746\ttest: 0.8030303\tbest: 0.8030303 (11)\ttotal: 67.9ms\tremaining: 460ms\n",
      "13:\tlearn: 0.7350746\ttest: 0.8030303\tbest: 0.8030303 (11)\ttotal: 69.3ms\tremaining: 430ms\n",
      "14:\tlearn: 0.7364486\ttest: 0.8030303\tbest: 0.8030303 (11)\ttotal: 71ms\tremaining: 407ms\n",
      "15:\tlearn: 0.7344633\ttest: 0.8120301\tbest: 0.8120301 (15)\ttotal: 72.5ms\tremaining: 385ms\n",
      "16:\tlearn: 0.7344633\ttest: 0.8120301\tbest: 0.8120301 (15)\ttotal: 74.4ms\tremaining: 368ms\n",
      "17:\tlearn: 0.7372401\ttest: 0.8120301\tbest: 0.8120301 (15)\ttotal: 76.4ms\tremaining: 352ms\n",
      "18:\tlearn: 0.7358491\ttest: 0.8030303\tbest: 0.8120301 (15)\ttotal: 80.2ms\tremaining: 346ms\n",
      "19:\tlearn: 0.7358491\ttest: 0.8030303\tbest: 0.8120301 (15)\ttotal: 81.7ms\tremaining: 331ms\n",
      "20:\tlearn: 0.7348485\ttest: 0.8030303\tbest: 0.8120301 (15)\ttotal: 84.1ms\tremaining: 320ms\n",
      "21:\tlearn: 0.7443609\ttest: 0.7910448\tbest: 0.8120301 (15)\ttotal: 86.2ms\tremaining: 310ms\n",
      "22:\tlearn: 0.7476281\ttest: 0.8059701\tbest: 0.8120301 (15)\ttotal: 88ms\tremaining: 298ms\n",
      "23:\tlearn: 0.7476281\ttest: 0.8059701\tbest: 0.8120301 (15)\ttotal: 89.1ms\tremaining: 286ms\n",
      "24:\tlearn: 0.7490494\ttest: 0.8059701\tbest: 0.8120301 (15)\ttotal: 90.9ms\tremaining: 276ms\n",
      "25:\tlearn: 0.7462121\ttest: 0.8059701\tbest: 0.8120301 (15)\ttotal: 92.9ms\tremaining: 268ms\n",
      "26:\tlearn: 0.7519084\ttest: 0.8120301\tbest: 0.8120301 (15)\ttotal: 94.8ms\tremaining: 260ms\n",
      "27:\tlearn: 0.7580952\ttest: 0.8059701\tbest: 0.8120301 (15)\ttotal: 96.6ms\tremaining: 252ms\n",
      "28:\tlearn: 0.7580952\ttest: 0.8059701\tbest: 0.8120301 (15)\ttotal: 97.8ms\tremaining: 243ms\n",
      "29:\tlearn: 0.7537879\ttest: 0.8000000\tbest: 0.8120301 (15)\ttotal: 99.8ms\tremaining: 236ms\n",
      "30:\tlearn: 0.7570621\ttest: 0.7941176\tbest: 0.8120301 (15)\ttotal: 102ms\tremaining: 231ms\n",
      "31:\tlearn: 0.7599244\ttest: 0.8000000\tbest: 0.8120301 (15)\ttotal: 105ms\tremaining: 225ms\n",
      "32:\tlearn: 0.7642586\ttest: 0.7910448\tbest: 0.8120301 (15)\ttotal: 107ms\tremaining: 221ms\n",
      "33:\tlearn: 0.7671756\ttest: 0.7910448\tbest: 0.8120301 (15)\ttotal: 110ms\tremaining: 216ms\n",
      "34:\tlearn: 0.7709924\ttest: 0.8000000\tbest: 0.8120301 (15)\ttotal: 112ms\tremaining: 210ms\n",
      "35:\tlearn: 0.7762906\ttest: 0.7910448\tbest: 0.8120301 (15)\ttotal: 116ms\tremaining: 209ms\n",
      "36:\tlearn: 0.7762906\ttest: 0.7910448\tbest: 0.8120301 (15)\ttotal: 120ms\tremaining: 208ms\n",
      "37:\tlearn: 0.7754319\ttest: 0.7969925\tbest: 0.8120301 (15)\ttotal: 123ms\tremaining: 204ms\n",
      "38:\tlearn: 0.7754319\ttest: 0.7969925\tbest: 0.8120301 (15)\ttotal: 154ms\tremaining: 244ms\n",
      "39:\tlearn: 0.7769231\ttest: 0.7969925\tbest: 0.8120301 (15)\ttotal: 156ms\tremaining: 237ms\n",
      "40:\tlearn: 0.7893738\ttest: 0.8030303\tbest: 0.8120301 (15)\ttotal: 157ms\tremaining: 230ms\n",
      "41:\tlearn: 0.7939509\ttest: 0.8030303\tbest: 0.8120301 (15)\ttotal: 159ms\tremaining: 224ms\n",
      "42:\tlearn: 0.7954545\ttest: 0.8120301\tbest: 0.8120301 (15)\ttotal: 161ms\tremaining: 217ms\n",
      "43:\tlearn: 0.7977316\ttest: 0.8120301\tbest: 0.8120301 (15)\ttotal: 163ms\tremaining: 211ms\n",
      "44:\tlearn: 0.7962264\ttest: 0.8120301\tbest: 0.8120301 (15)\ttotal: 164ms\tremaining: 205ms\n",
      "45:\tlearn: 0.8022599\ttest: 0.8059701\tbest: 0.8120301 (15)\ttotal: 166ms\tremaining: 198ms\n",
      "46:\tlearn: 0.8045113\ttest: 0.8059701\tbest: 0.8120301 (15)\ttotal: 169ms\tremaining: 194ms\n",
      "47:\tlearn: 0.8089888\ttest: 0.8059701\tbest: 0.8120301 (15)\ttotal: 170ms\tremaining: 188ms\n",
      "48:\tlearn: 0.8089888\ttest: 0.8059701\tbest: 0.8120301 (15)\ttotal: 171ms\tremaining: 182ms\n",
      "49:\tlearn: 0.8134328\ttest: 0.8148148\tbest: 0.8148148 (49)\ttotal: 172ms\tremaining: 176ms\n",
      "50:\tlearn: 0.8156425\ttest: 0.8148148\tbest: 0.8148148 (49)\ttotal: 174ms\tremaining: 170ms\n",
      "51:\tlearn: 0.8224299\ttest: 0.8148148\tbest: 0.8148148 (49)\ttotal: 175ms\tremaining: 165ms\n",
      "52:\tlearn: 0.8224299\ttest: 0.8148148\tbest: 0.8148148 (49)\ttotal: 176ms\tremaining: 160ms\n",
      "53:\tlearn: 0.8246269\ttest: 0.8148148\tbest: 0.8148148 (49)\ttotal: 177ms\tremaining: 154ms\n",
      "54:\tlearn: 0.8246269\ttest: 0.8148148\tbest: 0.8148148 (49)\ttotal: 179ms\tremaining: 150ms\n",
      "55:\tlearn: 0.8283582\ttest: 0.8148148\tbest: 0.8148148 (49)\ttotal: 180ms\tremaining: 145ms\n",
      "56:\tlearn: 0.8246269\ttest: 0.7969925\tbest: 0.8148148 (49)\ttotal: 181ms\tremaining: 140ms\n",
      "57:\tlearn: 0.8299065\ttest: 0.8270677\tbest: 0.8270677 (57)\ttotal: 183ms\tremaining: 135ms\n",
      "58:\tlearn: 0.8292683\ttest: 0.8270677\tbest: 0.8270677 (57)\ttotal: 184ms\tremaining: 131ms\n",
      "59:\tlearn: 0.8308271\ttest: 0.8091603\tbest: 0.8270677 (57)\ttotal: 185ms\tremaining: 127ms\n",
      "60:\tlearn: 0.8345865\ttest: 0.7794118\tbest: 0.8270677 (57)\ttotal: 187ms\tremaining: 122ms\n",
      "61:\tlearn: 0.8323917\ttest: 0.7826087\tbest: 0.8270677 (57)\ttotal: 188ms\tremaining: 118ms\n",
      "62:\tlearn: 0.8345865\ttest: 0.7769784\tbest: 0.8270677 (57)\ttotal: 189ms\tremaining: 114ms\n",
      "63:\tlearn: 0.8345865\ttest: 0.7769784\tbest: 0.8270677 (57)\ttotal: 191ms\tremaining: 110ms\n",
      "64:\tlearn: 0.8345865\ttest: 0.7769784\tbest: 0.8270677 (57)\ttotal: 192ms\tremaining: 107ms\n",
      "65:\tlearn: 0.8345865\ttest: 0.7659574\tbest: 0.8270677 (57)\ttotal: 194ms\tremaining: 103ms\n",
      "66:\tlearn: 0.8393195\ttest: 0.7714286\tbest: 0.8270677 (57)\ttotal: 195ms\tremaining: 99.2ms\n",
      "67:\tlearn: 0.8405253\ttest: 0.7714286\tbest: 0.8270677 (57)\ttotal: 197ms\tremaining: 95.4ms\n",
      "68:\tlearn: 0.8458647\ttest: 0.7826087\tbest: 0.8270677 (57)\ttotal: 198ms\tremaining: 91.8ms\n",
      "69:\tlearn: 0.8442777\ttest: 0.7826087\tbest: 0.8270677 (57)\ttotal: 199ms\tremaining: 88.3ms\n",
      "70:\tlearn: 0.8464419\ttest: 0.7971014\tbest: 0.8270677 (57)\ttotal: 200ms\tremaining: 84.7ms\n",
      "71:\tlearn: 0.8480300\ttest: 0.7971014\tbest: 0.8270677 (57)\ttotal: 202ms\tremaining: 81.3ms\n",
      "72:\tlearn: 0.8448598\ttest: 0.7913669\tbest: 0.8270677 (57)\ttotal: 203ms\tremaining: 77.9ms\n",
      "73:\tlearn: 0.8470149\ttest: 0.7913669\tbest: 0.8270677 (57)\ttotal: 204ms\tremaining: 74.6ms\n",
      "74:\tlearn: 0.8485981\ttest: 0.7647059\tbest: 0.8270677 (57)\ttotal: 206ms\tremaining: 71.3ms\n",
      "75:\tlearn: 0.8533835\ttest: 0.7794118\tbest: 0.8270677 (57)\ttotal: 207ms\tremaining: 68.1ms\n",
      "76:\tlearn: 0.8484848\ttest: 0.7647059\tbest: 0.8270677 (57)\ttotal: 208ms\tremaining: 64.9ms\n",
      "77:\tlearn: 0.8462998\ttest: 0.7647059\tbest: 0.8270677 (57)\ttotal: 210ms\tremaining: 61.8ms\n",
      "78:\tlearn: 0.8506616\ttest: 0.7703704\tbest: 0.8270677 (57)\ttotal: 211ms\tremaining: 58.7ms\n",
      "79:\tlearn: 0.8506616\ttest: 0.7647059\tbest: 0.8270677 (57)\ttotal: 212ms\tremaining: 55.8ms\n",
      "80:\tlearn: 0.8522727\ttest: 0.7591241\tbest: 0.8270677 (57)\ttotal: 214ms\tremaining: 52.8ms\n",
      "81:\tlearn: 0.8522727\ttest: 0.7500000\tbest: 0.8270677 (57)\ttotal: 215ms\tremaining: 49.9ms\n",
      "82:\tlearn: 0.8522727\ttest: 0.7500000\tbest: 0.8270677 (57)\ttotal: 216ms\tremaining: 46.9ms\n",
      "83:\tlearn: 0.8522727\ttest: 0.7681159\tbest: 0.8270677 (57)\ttotal: 218ms\tremaining: 44.1ms\n",
      "84:\tlearn: 0.8538899\ttest: 0.7681159\tbest: 0.8270677 (57)\ttotal: 219ms\tremaining: 41.2ms\n",
      "85:\tlearn: 0.8560606\ttest: 0.7794118\tbest: 0.8270677 (57)\ttotal: 220ms\tremaining: 38.4ms\n",
      "86:\tlearn: 0.8560606\ttest: 0.7794118\tbest: 0.8270677 (57)\ttotal: 221ms\tremaining: 35.6ms\n",
      "87:\tlearn: 0.8544423\ttest: 0.7794118\tbest: 0.8270677 (57)\ttotal: 223ms\tremaining: 32.9ms\n",
      "88:\tlearn: 0.8544423\ttest: 0.7794118\tbest: 0.8270677 (57)\ttotal: 224ms\tremaining: 30.2ms\n",
      "89:\tlearn: 0.8592871\ttest: 0.7737226\tbest: 0.8270677 (57)\ttotal: 225ms\tremaining: 27.5ms\n",
      "90:\tlearn: 0.8592871\ttest: 0.7737226\tbest: 0.8270677 (57)\ttotal: 227ms\tremaining: 24.9ms\n",
      "91:\tlearn: 0.8592871\ttest: 0.7737226\tbest: 0.8270677 (57)\ttotal: 228ms\tremaining: 22.3ms\n",
      "92:\tlearn: 0.8592871\ttest: 0.7737226\tbest: 0.8270677 (57)\ttotal: 229ms\tremaining: 19.7ms\n",
      "93:\tlearn: 0.8641509\ttest: 0.7703704\tbest: 0.8270677 (57)\ttotal: 230ms\tremaining: 17.2ms\n",
      "94:\tlearn: 0.8641509\ttest: 0.7703704\tbest: 0.8270677 (57)\ttotal: 232ms\tremaining: 14.6ms\n",
      "95:\tlearn: 0.8700565\ttest: 0.7761194\tbest: 0.8270677 (57)\ttotal: 233ms\tremaining: 12.1ms\n",
      "96:\tlearn: 0.8733459\ttest: 0.7761194\tbest: 0.8270677 (57)\ttotal: 234ms\tremaining: 9.66ms\n",
      "97:\tlearn: 0.8750000\ttest: 0.7703704\tbest: 0.8270677 (57)\ttotal: 235ms\tremaining: 7.21ms\n",
      "98:\tlearn: 0.8750000\ttest: 0.7703704\tbest: 0.8270677 (57)\ttotal: 237ms\tremaining: 4.78ms\n",
      "99:\tlearn: 0.8750000\ttest: 0.7703704\tbest: 0.8270677 (57)\ttotal: 238ms\tremaining: 2.38ms\n",
      "100:\tlearn: 0.8733459\ttest: 0.7703704\tbest: 0.8270677 (57)\ttotal: 239ms\tremaining: 0us\n",
      "\n",
      "bestTest = 0.8270676692\n",
      "bestIteration = 57\n",
      "\n",
      "Training on fold [1/5]\n",
      "0:\tlearn: 0.7442681\ttest: 0.6805556\tbest: 0.6805556 (0)\ttotal: 1.58ms\tremaining: 158ms\n",
      "1:\tlearn: 0.7464789\ttest: 0.6805556\tbest: 0.6805556 (0)\ttotal: 2.95ms\tremaining: 146ms\n",
      "2:\tlearn: 0.7442681\ttest: 0.6805556\tbest: 0.6805556 (0)\ttotal: 4.36ms\tremaining: 142ms\n",
      "3:\tlearn: 0.7442681\ttest: 0.6805556\tbest: 0.6805556 (0)\ttotal: 5.91ms\tremaining: 143ms\n",
      "4:\tlearn: 0.7508897\ttest: 0.6760563\tbest: 0.6805556 (0)\ttotal: 7.45ms\tremaining: 143ms\n",
      "5:\tlearn: 0.7508897\ttest: 0.6760563\tbest: 0.6805556 (0)\ttotal: 8.99ms\tremaining: 142ms\n",
      "6:\tlearn: 0.7545788\ttest: 0.6666667\tbest: 0.6805556 (0)\ttotal: 10.3ms\tremaining: 138ms\n",
      "7:\tlearn: 0.7587549\ttest: 0.6614173\tbest: 0.6805556 (0)\ttotal: 11.8ms\tremaining: 137ms\n",
      "8:\tlearn: 0.7463918\ttest: 0.6451613\tbest: 0.6805556 (0)\ttotal: 13.4ms\tremaining: 137ms\n",
      "9:\tlearn: 0.7642586\ttest: 0.6821705\tbest: 0.6821705 (9)\ttotal: 15ms\tremaining: 136ms\n",
      "10:\tlearn: 0.7642586\ttest: 0.6821705\tbest: 0.6821705 (9)\ttotal: 16ms\tremaining: 131ms\n",
      "11:\tlearn: 0.7642586\ttest: 0.6717557\tbest: 0.6821705 (9)\ttotal: 17.4ms\tremaining: 129ms\n",
      "12:\tlearn: 0.7727273\ttest: 0.6917293\tbest: 0.6917293 (12)\ttotal: 19ms\tremaining: 129ms\n",
      "13:\tlearn: 0.7706767\ttest: 0.6865672\tbest: 0.6917293 (12)\ttotal: 20.5ms\tremaining: 128ms\n",
      "14:\tlearn: 0.7706767\ttest: 0.6865672\tbest: 0.6917293 (12)\ttotal: 22.1ms\tremaining: 127ms\n",
      "15:\tlearn: 0.7741935\ttest: 0.6865672\tbest: 0.6917293 (12)\ttotal: 23.6ms\tremaining: 126ms\n",
      "16:\tlearn: 0.7741935\ttest: 0.6865672\tbest: 0.6917293 (12)\ttotal: 24.7ms\tremaining: 122ms\n",
      "17:\tlearn: 0.7765152\ttest: 0.6865672\tbest: 0.6917293 (12)\ttotal: 26.2ms\tremaining: 121ms\n",
      "18:\tlearn: 0.7788280\ttest: 0.6865672\tbest: 0.6917293 (12)\ttotal: 27.7ms\tremaining: 119ms\n",
      "19:\tlearn: 0.7847619\ttest: 0.6969697\tbest: 0.6969697 (19)\ttotal: 29.2ms\tremaining: 118ms\n",
      "20:\tlearn: 0.7847619\ttest: 0.6969697\tbest: 0.6969697 (19)\ttotal: 30.1ms\tremaining: 115ms\n",
      "21:\tlearn: 0.7847619\ttest: 0.6969697\tbest: 0.6969697 (19)\ttotal: 31.3ms\tremaining: 113ms\n",
      "22:\tlearn: 0.7847619\ttest: 0.6969697\tbest: 0.6969697 (19)\ttotal: 32.8ms\tremaining: 111ms\n",
      "23:\tlearn: 0.7832700\ttest: 0.7067669\tbest: 0.7067669 (23)\ttotal: 34.8ms\tremaining: 112ms\n",
      "24:\tlearn: 0.7832700\ttest: 0.6917293\tbest: 0.7067669 (23)\ttotal: 36.5ms\tremaining: 111ms\n",
      "25:\tlearn: 0.7817837\ttest: 0.6917293\tbest: 0.7067669 (23)\ttotal: 38ms\tremaining: 109ms\n",
      "26:\tlearn: 0.7817837\ttest: 0.6870229\tbest: 0.7067669 (23)\ttotal: 39.3ms\tremaining: 108ms\n",
      "27:\tlearn: 0.7839388\ttest: 0.6870229\tbest: 0.7067669 (23)\ttotal: 41.7ms\tremaining: 109ms\n",
      "28:\tlearn: 0.7862595\ttest: 0.6870229\tbest: 0.7067669 (23)\ttotal: 44.4ms\tremaining: 110ms\n",
      "29:\tlearn: 0.7862595\ttest: 0.7022901\tbest: 0.7067669 (23)\ttotal: 46.5ms\tremaining: 110ms\n",
      "30:\tlearn: 0.7892720\ttest: 0.6923077\tbest: 0.7067669 (23)\ttotal: 47.7ms\tremaining: 108ms\n",
      "31:\tlearn: 0.7938931\ttest: 0.6821705\tbest: 0.7067669 (23)\ttotal: 49.8ms\tremaining: 107ms\n",
      "32:\tlearn: 0.8007590\ttest: 0.6821705\tbest: 0.7067669 (23)\ttotal: 51.6ms\tremaining: 106ms\n",
      "33:\tlearn: 0.8052930\ttest: 0.6821705\tbest: 0.7067669 (23)\ttotal: 52.9ms\tremaining: 104ms\n",
      "34:\tlearn: 0.8106061\ttest: 0.6821705\tbest: 0.7067669 (23)\ttotal: 54.2ms\tremaining: 102ms\n",
      "35:\tlearn: 0.8128544\ttest: 0.6821705\tbest: 0.7067669 (23)\ttotal: 55.6ms\tremaining: 100ms\n",
      "36:\tlearn: 0.8113208\ttest: 0.6821705\tbest: 0.7067669 (23)\ttotal: 57.4ms\tremaining: 99.3ms\n",
      "37:\tlearn: 0.8159393\ttest: 0.6821705\tbest: 0.7067669 (23)\ttotal: 58.7ms\tremaining: 97.4ms\n",
      "38:\tlearn: 0.8159393\ttest: 0.6821705\tbest: 0.7067669 (23)\ttotal: 60.2ms\tremaining: 95.7ms\n",
      "39:\tlearn: 0.8160920\ttest: 0.6821705\tbest: 0.7067669 (23)\ttotal: 61.6ms\tremaining: 93.9ms\n",
      "40:\tlearn: 0.8145315\ttest: 0.6821705\tbest: 0.7067669 (23)\ttotal: 62.9ms\tremaining: 92.1ms\n",
      "41:\tlearn: 0.8228571\ttest: 0.6923077\tbest: 0.7067669 (23)\ttotal: 64.4ms\tremaining: 90.5ms\n",
      "42:\tlearn: 0.8273245\ttest: 0.6923077\tbest: 0.7067669 (23)\ttotal: 65.6ms\tremaining: 88.5ms\n",
      "43:\tlearn: 0.8301887\ttest: 0.6976744\tbest: 0.7067669 (23)\ttotal: 66.8ms\tremaining: 86.6ms\n",
      "44:\tlearn: 0.8301887\ttest: 0.6976744\tbest: 0.7067669 (23)\ttotal: 68.1ms\tremaining: 84.7ms\n",
      "45:\tlearn: 0.8270677\ttest: 0.6976744\tbest: 0.7067669 (23)\ttotal: 69.3ms\tremaining: 82.8ms\n",
      "46:\tlearn: 0.8336449\ttest: 0.6923077\tbest: 0.7067669 (23)\ttotal: 70.8ms\tremaining: 81.3ms\n",
      "47:\tlearn: 0.8367730\ttest: 0.6923077\tbest: 0.7067669 (23)\ttotal: 72.4ms\tremaining: 80ms\n",
      "48:\tlearn: 0.8383459\ttest: 0.6923077\tbest: 0.7067669 (23)\ttotal: 74ms\tremaining: 78.5ms\n",
      "49:\tlearn: 0.8405253\ttest: 0.6976744\tbest: 0.7067669 (23)\ttotal: 75.5ms\tremaining: 77ms\n",
      "50:\tlearn: 0.8452830\ttest: 0.7031250\tbest: 0.7067669 (23)\ttotal: 78.8ms\tremaining: 77.2ms\n",
      "51:\tlearn: 0.8490566\ttest: 0.7031250\tbest: 0.7067669 (23)\ttotal: 80.7ms\tremaining: 76.1ms\n",
      "52:\tlearn: 0.8474576\ttest: 0.7031250\tbest: 0.7067669 (23)\ttotal: 82.1ms\tremaining: 74.3ms\n",
      "53:\tlearn: 0.8506616\ttest: 0.7031250\tbest: 0.7067669 (23)\ttotal: 83.7ms\tremaining: 72.9ms\n",
      "54:\tlearn: 0.8571429\ttest: 0.6923077\tbest: 0.7067669 (23)\ttotal: 85.4ms\tremaining: 71.4ms\n",
      "55:\tlearn: 0.8576850\ttest: 0.6923077\tbest: 0.7067669 (23)\ttotal: 86.9ms\tremaining: 69.8ms\n",
      "56:\tlearn: 0.8576850\ttest: 0.6923077\tbest: 0.7067669 (23)\ttotal: 88.3ms\tremaining: 68.1ms\n",
      "57:\tlearn: 0.8566038\ttest: 0.6923077\tbest: 0.7067669 (23)\ttotal: 89.9ms\tremaining: 66.7ms\n",
      "58:\tlearn: 0.8566038\ttest: 0.6821705\tbest: 0.7067669 (23)\ttotal: 91.1ms\tremaining: 64.9ms\n",
      "59:\tlearn: 0.8566038\ttest: 0.6821705\tbest: 0.7067669 (23)\ttotal: 92.5ms\tremaining: 63.2ms\n",
      "60:\tlearn: 0.8571429\ttest: 0.6821705\tbest: 0.7067669 (23)\ttotal: 93.9ms\tremaining: 61.6ms\n",
      "61:\tlearn: 0.8598848\ttest: 0.6821705\tbest: 0.7067669 (23)\ttotal: 95.2ms\tremaining: 59.9ms\n",
      "62:\tlearn: 0.8642447\ttest: 0.7022901\tbest: 0.7067669 (23)\ttotal: 96.5ms\tremaining: 58.2ms\n",
      "63:\tlearn: 0.8754717\ttest: 0.6969697\tbest: 0.7067669 (23)\ttotal: 98ms\tremaining: 56.7ms\n",
      "64:\tlearn: 0.8738230\ttest: 0.6969697\tbest: 0.7067669 (23)\ttotal: 99.3ms\tremaining: 55ms\n",
      "65:\tlearn: 0.8754717\ttest: 0.6969697\tbest: 0.7067669 (23)\ttotal: 101ms\tremaining: 53.4ms\n",
      "66:\tlearn: 0.8754717\ttest: 0.6969697\tbest: 0.7067669 (23)\ttotal: 102ms\tremaining: 51.8ms\n",
      "67:\tlearn: 0.8787879\ttest: 0.6969697\tbest: 0.7067669 (23)\ttotal: 103ms\tremaining: 50.1ms\n",
      "68:\tlearn: 0.8787879\ttest: 0.6969697\tbest: 0.7067669 (23)\ttotal: 105ms\tremaining: 48.6ms\n",
      "69:\tlearn: 0.8787879\ttest: 0.6969697\tbest: 0.7067669 (23)\ttotal: 106ms\tremaining: 47ms\n",
      "70:\tlearn: 0.8787879\ttest: 0.7076923\tbest: 0.7076923 (70)\ttotal: 107ms\tremaining: 45.4ms\n",
      "71:\tlearn: 0.8821293\ttest: 0.7175573\tbest: 0.7175573 (71)\ttotal: 109ms\tremaining: 43.8ms\n",
      "72:\tlearn: 0.8825758\ttest: 0.6929134\tbest: 0.7175573 (71)\ttotal: 110ms\tremaining: 42.2ms\n",
      "73:\tlearn: 0.8846881\ttest: 0.6929134\tbest: 0.7175573 (71)\ttotal: 111ms\tremaining: 40.7ms\n",
      "74:\tlearn: 0.8880455\ttest: 0.7031250\tbest: 0.7175573 (71)\ttotal: 113ms\tremaining: 39.1ms\n",
      "75:\tlearn: 0.8880455\ttest: 0.7031250\tbest: 0.7175573 (71)\ttotal: 114ms\tremaining: 37.6ms\n",
      "76:\tlearn: 0.8901515\ttest: 0.7031250\tbest: 0.7175573 (71)\ttotal: 116ms\tremaining: 36ms\n",
      "77:\tlearn: 0.8901515\ttest: 0.7031250\tbest: 0.7175573 (71)\ttotal: 117ms\tremaining: 34.5ms\n",
      "78:\tlearn: 0.8918406\ttest: 0.7031250\tbest: 0.7175573 (71)\ttotal: 118ms\tremaining: 32.9ms\n",
      "79:\tlearn: 0.8952381\ttest: 0.7031250\tbest: 0.7175573 (71)\ttotal: 120ms\tremaining: 31.4ms\n",
      "80:\tlearn: 0.8952381\ttest: 0.7031250\tbest: 0.7175573 (71)\ttotal: 121ms\tremaining: 29.8ms\n",
      "81:\tlearn: 0.8952381\ttest: 0.7031250\tbest: 0.7175573 (71)\ttotal: 122ms\tremaining: 28.3ms\n",
      "82:\tlearn: 0.8927203\ttest: 0.6929134\tbest: 0.7175573 (71)\ttotal: 123ms\tremaining: 26.8ms\n",
      "83:\tlearn: 0.8931298\ttest: 0.7086614\tbest: 0.7175573 (71)\ttotal: 125ms\tremaining: 25.2ms\n",
      "84:\tlearn: 0.8914286\ttest: 0.7031250\tbest: 0.7175573 (71)\ttotal: 126ms\tremaining: 23.7ms\n",
      "85:\tlearn: 0.8935361\ttest: 0.7031250\tbest: 0.7175573 (71)\ttotal: 127ms\tremaining: 22.2ms\n",
      "86:\tlearn: 0.8893130\ttest: 0.7031250\tbest: 0.7175573 (71)\ttotal: 129ms\tremaining: 20.7ms\n",
      "87:\tlearn: 0.8914286\ttest: 0.7230769\tbest: 0.7230769 (87)\ttotal: 130ms\tremaining: 19.2ms\n",
      "88:\tlearn: 0.8914286\ttest: 0.7230769\tbest: 0.7230769 (87)\ttotal: 131ms\tremaining: 17.7ms\n",
      "89:\tlearn: 0.8931298\ttest: 0.7230769\tbest: 0.7230769 (87)\ttotal: 133ms\tremaining: 16.2ms\n",
      "90:\tlearn: 0.8969466\ttest: 0.7230769\tbest: 0.7230769 (87)\ttotal: 134ms\tremaining: 14.7ms\n",
      "91:\tlearn: 0.8969466\ttest: 0.7230769\tbest: 0.7230769 (87)\ttotal: 136ms\tremaining: 13.3ms\n",
      "92:\tlearn: 0.8986616\ttest: 0.7424242\tbest: 0.7424242 (92)\ttotal: 137ms\tremaining: 11.8ms\n",
      "93:\tlearn: 0.8986616\ttest: 0.7424242\tbest: 0.7424242 (92)\ttotal: 138ms\tremaining: 10.3ms\n",
      "94:\tlearn: 0.9024857\ttest: 0.7424242\tbest: 0.7424242 (92)\ttotal: 139ms\tremaining: 8.79ms\n",
      "95:\tlearn: 0.9042146\ttest: 0.7424242\tbest: 0.7424242 (92)\ttotal: 140ms\tremaining: 7.31ms\n",
      "96:\tlearn: 0.9045802\ttest: 0.7424242\tbest: 0.7424242 (92)\ttotal: 142ms\tremaining: 5.84ms\n",
      "97:\tlearn: 0.9024857\ttest: 0.7424242\tbest: 0.7424242 (92)\ttotal: 143ms\tremaining: 4.37ms\n",
      "98:\tlearn: 0.9007634\ttest: 0.7424242\tbest: 0.7424242 (92)\ttotal: 144ms\tremaining: 2.91ms\n",
      "99:\tlearn: 0.9045802\ttest: 0.7480916\tbest: 0.7480916 (99)\ttotal: 145ms\tremaining: 1.45ms\n",
      "100:\tlearn: 0.9045802\ttest: 0.7384615\tbest: 0.7480916 (99)\ttotal: 146ms\tremaining: 0us\n",
      "\n",
      "bestTest = 0.7480916031\n",
      "bestIteration = 99\n",
      "\n",
      "Training on fold [2/5]\n",
      "0:\tlearn: 0.7203065\ttest: 0.6861314\tbest: 0.6861314 (0)\ttotal: 2.62ms\tremaining: 262ms\n",
      "1:\tlearn: 0.6835443\ttest: 0.6890756\tbest: 0.6890756 (1)\ttotal: 4ms\tremaining: 198ms\n",
      "2:\tlearn: 0.7262357\ttest: 0.7000000\tbest: 0.7000000 (2)\ttotal: 5.32ms\tremaining: 174ms\n",
      "3:\tlearn: 0.7265774\ttest: 0.6956522\tbest: 0.7000000 (2)\ttotal: 6.66ms\tremaining: 161ms\n",
      "4:\tlearn: 0.7310606\ttest: 0.6956522\tbest: 0.7000000 (2)\ttotal: 8.03ms\tremaining: 154ms\n",
      "5:\tlearn: 0.7380497\ttest: 0.7050360\tbest: 0.7050360 (5)\ttotal: 9.46ms\tremaining: 150ms\n",
      "6:\tlearn: 0.7394636\ttest: 0.7050360\tbest: 0.7050360 (5)\ttotal: 10.4ms\tremaining: 140ms\n",
      "7:\tlearn: 0.7148594\ttest: 0.6896552\tbest: 0.7050360 (5)\ttotal: 11.6ms\tremaining: 134ms\n",
      "8:\tlearn: 0.7448015\ttest: 0.6956522\tbest: 0.7050360 (5)\ttotal: 12.9ms\tremaining: 132ms\n",
      "9:\tlearn: 0.7448015\ttest: 0.6956522\tbest: 0.7050360 (5)\ttotal: 13.8ms\tremaining: 126ms\n",
      "10:\tlearn: 0.7509579\ttest: 0.6969697\tbest: 0.7050360 (5)\ttotal: 15.2ms\tremaining: 124ms\n",
      "11:\tlearn: 0.7533461\ttest: 0.6969697\tbest: 0.7050360 (5)\ttotal: 16.2ms\tremaining: 120ms\n",
      "12:\tlearn: 0.7490347\ttest: 0.6870229\tbest: 0.7050360 (5)\ttotal: 17.3ms\tremaining: 117ms\n",
      "13:\tlearn: 0.7466151\ttest: 0.6969697\tbest: 0.7050360 (5)\ttotal: 18.7ms\tremaining: 116ms\n",
      "14:\tlearn: 0.7466151\ttest: 0.6969697\tbest: 0.7050360 (5)\ttotal: 19.6ms\tremaining: 112ms\n",
      "15:\tlearn: 0.7421875\ttest: 0.6969697\tbest: 0.7050360 (5)\ttotal: 20.8ms\tremaining: 110ms\n",
      "16:\tlearn: 0.7456311\ttest: 0.6870229\tbest: 0.7050360 (5)\ttotal: 22ms\tremaining: 109ms\n",
      "17:\tlearn: 0.7514451\ttest: 0.6969697\tbest: 0.7050360 (5)\ttotal: 23.1ms\tremaining: 107ms\n",
      "18:\tlearn: 0.7338710\ttest: 0.6896552\tbest: 0.7050360 (5)\ttotal: 24.4ms\tremaining: 105ms\n",
      "19:\tlearn: 0.7380952\ttest: 0.6666667\tbest: 0.7050360 (5)\ttotal: 25.7ms\tremaining: 104ms\n",
      "20:\tlearn: 0.7547893\ttest: 0.6766917\tbest: 0.7050360 (5)\ttotal: 27.1ms\tremaining: 103ms\n",
      "21:\tlearn: 0.7562380\ttest: 0.6666667\tbest: 0.7050360 (5)\ttotal: 28.5ms\tremaining: 102ms\n",
      "22:\tlearn: 0.7633588\ttest: 0.6666667\tbest: 0.7050360 (5)\ttotal: 29.7ms\tremaining: 101ms\n",
      "23:\tlearn: 0.7609943\ttest: 0.6769231\tbest: 0.7050360 (5)\ttotal: 31ms\tremaining: 99.5ms\n",
      "24:\tlearn: 0.7648184\ttest: 0.6717557\tbest: 0.7050360 (5)\ttotal: 32.3ms\tremaining: 98.1ms\n",
      "25:\tlearn: 0.7648184\ttest: 0.6717557\tbest: 0.7050360 (5)\ttotal: 33.6ms\tremaining: 96.8ms\n",
      "26:\tlearn: 0.7633588\ttest: 0.6769231\tbest: 0.7050360 (5)\ttotal: 35ms\tremaining: 95.9ms\n",
      "27:\tlearn: 0.7703985\ttest: 0.6769231\tbest: 0.7050360 (5)\ttotal: 36.2ms\tremaining: 94.5ms\n",
      "28:\tlearn: 0.7709924\ttest: 0.6769231\tbest: 0.7050360 (5)\ttotal: 37.5ms\tremaining: 93.2ms\n",
      "29:\tlearn: 0.7695238\ttest: 0.6769231\tbest: 0.7050360 (5)\ttotal: 38.8ms\tremaining: 91.8ms\n",
      "30:\tlearn: 0.7695238\ttest: 0.6769231\tbest: 0.7050360 (5)\ttotal: 39.8ms\tremaining: 89.8ms\n",
      "31:\tlearn: 0.7668593\ttest: 0.6984127\tbest: 0.7050360 (5)\ttotal: 41.1ms\tremaining: 88.7ms\n",
      "32:\tlearn: 0.7701149\ttest: 0.7086614\tbest: 0.7086614 (32)\ttotal: 42.5ms\tremaining: 87.6ms\n",
      "33:\tlearn: 0.7762906\ttest: 0.6875000\tbest: 0.7086614 (32)\ttotal: 43.8ms\tremaining: 86.4ms\n",
      "34:\tlearn: 0.7786260\ttest: 0.6875000\tbest: 0.7086614 (32)\ttotal: 45.2ms\tremaining: 85.3ms\n",
      "35:\tlearn: 0.7863894\ttest: 0.6929134\tbest: 0.7086614 (32)\ttotal: 46.6ms\tremaining: 84.1ms\n",
      "36:\tlearn: 0.7849057\ttest: 0.6984127\tbest: 0.7086614 (32)\ttotal: 47.9ms\tremaining: 82.9ms\n",
      "37:\tlearn: 0.7878788\ttest: 0.6929134\tbest: 0.7086614 (32)\ttotal: 49.1ms\tremaining: 81.4ms\n",
      "38:\tlearn: 0.7870722\ttest: 0.6929134\tbest: 0.7086614 (32)\ttotal: 50.3ms\tremaining: 80ms\n",
      "39:\tlearn: 0.7915870\ttest: 0.6666667\tbest: 0.7086614 (32)\ttotal: 51.7ms\tremaining: 78.9ms\n",
      "40:\tlearn: 0.8015123\ttest: 0.6929134\tbest: 0.7086614 (32)\ttotal: 53ms\tremaining: 77.6ms\n",
      "41:\tlearn: 0.8052434\ttest: 0.7086614\tbest: 0.7086614 (32)\ttotal: 54.4ms\tremaining: 76.4ms\n",
      "42:\tlearn: 0.8082707\ttest: 0.7086614\tbest: 0.7086614 (32)\ttotal: 56ms\tremaining: 75.6ms\n",
      "43:\tlearn: 0.8097928\ttest: 0.7086614\tbest: 0.7086614 (32)\ttotal: 57.3ms\tremaining: 74.2ms\n",
      "44:\tlearn: 0.8150943\ttest: 0.7086614\tbest: 0.7086614 (32)\ttotal: 58.6ms\tremaining: 73ms\n",
      "45:\tlearn: 0.8173258\ttest: 0.7200000\tbest: 0.7200000 (45)\ttotal: 60ms\tremaining: 71.7ms\n",
      "46:\tlearn: 0.8173258\ttest: 0.7301587\tbest: 0.7301587 (46)\ttotal: 61.3ms\tremaining: 70.5ms\n",
      "47:\tlearn: 0.8257576\ttest: 0.7200000\tbest: 0.7301587 (46)\ttotal: 62.6ms\tremaining: 69.1ms\n",
      "48:\tlearn: 0.8279773\ttest: 0.7301587\tbest: 0.7301587 (46)\ttotal: 63.9ms\tremaining: 67.9ms\n",
      "49:\tlearn: 0.8279773\ttest: 0.7301587\tbest: 0.7301587 (46)\ttotal: 65.3ms\tremaining: 66.6ms\n",
      "50:\tlearn: 0.8317580\ttest: 0.7301587\tbest: 0.7301587 (46)\ttotal: 66.7ms\tremaining: 65.4ms\n",
      "51:\tlearn: 0.8339623\ttest: 0.7244094\tbest: 0.7301587 (46)\ttotal: 68ms\tremaining: 64.1ms\n",
      "52:\tlearn: 0.8308271\ttest: 0.7187500\tbest: 0.7301587 (46)\ttotal: 69.3ms\tremaining: 62.8ms\n",
      "53:\tlearn: 0.8292683\ttest: 0.7187500\tbest: 0.7301587 (46)\ttotal: 70.8ms\tremaining: 61.6ms\n",
      "54:\tlearn: 0.8361582\ttest: 0.7187500\tbest: 0.7301587 (46)\ttotal: 72ms\tremaining: 60.2ms\n",
      "55:\tlearn: 0.8468809\ttest: 0.7187500\tbest: 0.7301587 (46)\ttotal: 73.3ms\tremaining: 58.9ms\n",
      "56:\tlearn: 0.8377358\ttest: 0.7441860\tbest: 0.7441860 (56)\ttotal: 74.7ms\tremaining: 57.6ms\n",
      "57:\tlearn: 0.8377358\ttest: 0.7384615\tbest: 0.7441860 (56)\ttotal: 75.8ms\tremaining: 56.2ms\n",
      "58:\tlearn: 0.8421053\ttest: 0.7384615\tbest: 0.7441860 (56)\ttotal: 77.2ms\tremaining: 55ms\n",
      "59:\tlearn: 0.8452830\ttest: 0.7384615\tbest: 0.7441860 (56)\ttotal: 78.7ms\tremaining: 53.8ms\n",
      "60:\tlearn: 0.8496241\ttest: 0.7441860\tbest: 0.7441860 (56)\ttotal: 80.3ms\tremaining: 52.7ms\n",
      "61:\tlearn: 0.8474576\ttest: 0.7441860\tbest: 0.7441860 (56)\ttotal: 82.8ms\tremaining: 52.1ms\n",
      "62:\tlearn: 0.8512241\ttest: 0.7441860\tbest: 0.7441860 (56)\ttotal: 84.7ms\tremaining: 51.1ms\n",
      "63:\tlearn: 0.8555347\ttest: 0.7538462\tbest: 0.7538462 (63)\ttotal: 86.8ms\tremaining: 50.2ms\n",
      "64:\tlearn: 0.8571429\ttest: 0.7538462\tbest: 0.7538462 (63)\ttotal: 88.7ms\tremaining: 49.1ms\n",
      "65:\tlearn: 0.8571429\ttest: 0.7538462\tbest: 0.7538462 (63)\ttotal: 90.8ms\tremaining: 48.1ms\n",
      "66:\tlearn: 0.8587571\ttest: 0.7538462\tbest: 0.7538462 (63)\ttotal: 92.7ms\tremaining: 47ms\n",
      "67:\tlearn: 0.8544423\ttest: 0.7441860\tbest: 0.7538462 (63)\ttotal: 94.7ms\tremaining: 45.9ms\n",
      "68:\tlearn: 0.8528302\ttest: 0.7441860\tbest: 0.7538462 (63)\ttotal: 96.5ms\tremaining: 44.7ms\n",
      "69:\tlearn: 0.8544423\ttest: 0.7441860\tbest: 0.7538462 (63)\ttotal: 98.9ms\tremaining: 43.8ms\n",
      "70:\tlearn: 0.8544423\ttest: 0.7441860\tbest: 0.7538462 (63)\ttotal: 101ms\tremaining: 42.7ms\n",
      "71:\tlearn: 0.8566038\ttest: 0.7384615\tbest: 0.7538462 (63)\ttotal: 102ms\tremaining: 41.2ms\n",
      "72:\tlearn: 0.8522727\ttest: 0.7328244\tbest: 0.7538462 (63)\ttotal: 103ms\tremaining: 39.7ms\n",
      "73:\tlearn: 0.8538899\ttest: 0.7328244\tbest: 0.7538462 (63)\ttotal: 105ms\tremaining: 38.2ms\n",
      "74:\tlearn: 0.8582231\ttest: 0.7328244\tbest: 0.7538462 (63)\ttotal: 106ms\tremaining: 36.8ms\n",
      "75:\tlearn: 0.8603774\ttest: 0.7328244\tbest: 0.7538462 (63)\ttotal: 108ms\tremaining: 35.4ms\n",
      "76:\tlearn: 0.8603774\ttest: 0.7328244\tbest: 0.7538462 (63)\ttotal: 110ms\tremaining: 34.2ms\n",
      "77:\tlearn: 0.8582231\ttest: 0.7328244\tbest: 0.7538462 (63)\ttotal: 111ms\tremaining: 32.8ms\n",
      "78:\tlearn: 0.8603774\ttest: 0.7328244\tbest: 0.7538462 (63)\ttotal: 112ms\tremaining: 31.3ms\n",
      "79:\tlearn: 0.8587571\ttest: 0.7328244\tbest: 0.7538462 (63)\ttotal: 114ms\tremaining: 29.9ms\n",
      "80:\tlearn: 0.8625235\ttest: 0.7328244\tbest: 0.7538462 (63)\ttotal: 115ms\tremaining: 28.5ms\n",
      "81:\tlearn: 0.8620038\ttest: 0.7328244\tbest: 0.7538462 (63)\ttotal: 117ms\tremaining: 27.2ms\n",
      "82:\tlearn: 0.8674242\ttest: 0.7328244\tbest: 0.7538462 (63)\ttotal: 119ms\tremaining: 25.8ms\n",
      "83:\tlearn: 0.8641509\ttest: 0.7328244\tbest: 0.7538462 (63)\ttotal: 120ms\tremaining: 24.4ms\n",
      "84:\tlearn: 0.8641509\ttest: 0.7328244\tbest: 0.7538462 (63)\ttotal: 122ms\tremaining: 22.9ms\n",
      "85:\tlearn: 0.8641509\ttest: 0.7328244\tbest: 0.7538462 (63)\ttotal: 123ms\tremaining: 21.5ms\n",
      "86:\tlearn: 0.8674242\ttest: 0.7328244\tbest: 0.7538462 (63)\ttotal: 124ms\tremaining: 20ms\n",
      "87:\tlearn: 0.8712121\ttest: 0.7384615\tbest: 0.7538462 (63)\ttotal: 125ms\tremaining: 18.5ms\n",
      "88:\tlearn: 0.8695652\ttest: 0.7384615\tbest: 0.7538462 (63)\ttotal: 127ms\tremaining: 17.1ms\n",
      "89:\tlearn: 0.8733459\ttest: 0.7441860\tbest: 0.7538462 (63)\ttotal: 128ms\tremaining: 15.7ms\n",
      "90:\tlearn: 0.8771267\ttest: 0.7441860\tbest: 0.7538462 (63)\ttotal: 130ms\tremaining: 14.2ms\n",
      "91:\tlearn: 0.8754717\ttest: 0.7441860\tbest: 0.7538462 (63)\ttotal: 131ms\tremaining: 12.8ms\n",
      "92:\tlearn: 0.8792453\ttest: 0.7538462\tbest: 0.7538462 (63)\ttotal: 132ms\tremaining: 11.4ms\n",
      "93:\tlearn: 0.8830189\ttest: 0.7343750\tbest: 0.7538462 (63)\ttotal: 133ms\tremaining: 9.92ms\n",
      "94:\tlearn: 0.8830189\ttest: 0.7343750\tbest: 0.7538462 (63)\ttotal: 135ms\tremaining: 8.5ms\n",
      "95:\tlearn: 0.8867925\ttest: 0.7441860\tbest: 0.7538462 (63)\ttotal: 136ms\tremaining: 7.1ms\n",
      "96:\tlearn: 0.8851224\ttest: 0.7441860\tbest: 0.7538462 (63)\ttotal: 138ms\tremaining: 5.68ms\n",
      "97:\tlearn: 0.8855535\ttest: 0.7441860\tbest: 0.7538462 (63)\ttotal: 139ms\tremaining: 4.26ms\n",
      "98:\tlearn: 0.8872180\ttest: 0.7441860\tbest: 0.7538462 (63)\ttotal: 141ms\tremaining: 2.85ms\n",
      "99:\tlearn: 0.8872180\ttest: 0.7343750\tbest: 0.7538462 (63)\ttotal: 143ms\tremaining: 1.43ms\n",
      "100:\tlearn: 0.8813559\ttest: 0.7441860\tbest: 0.7538462 (63)\ttotal: 147ms\tremaining: 0us\n",
      "\n",
      "bestTest = 0.7538461538\n",
      "bestIteration = 63\n",
      "\n",
      "Training on fold [3/5]\n",
      "0:\tlearn: 0.6280193\ttest: 0.6857143\tbest: 0.6857143 (0)\ttotal: 2.01ms\tremaining: 201ms\n",
      "1:\tlearn: 0.6348449\ttest: 0.6792453\tbest: 0.6857143 (0)\ttotal: 3.29ms\tremaining: 163ms\n",
      "2:\tlearn: 0.6348449\ttest: 0.6792453\tbest: 0.6857143 (0)\ttotal: 4.4ms\tremaining: 144ms\n",
      "3:\tlearn: 0.6494118\ttest: 0.7155963\tbest: 0.7155963 (3)\ttotal: 5.73ms\tremaining: 139ms\n",
      "4:\tlearn: 0.6681034\ttest: 0.7288136\tbest: 0.7288136 (4)\ttotal: 6.92ms\tremaining: 133ms\n",
      "5:\tlearn: 0.6697248\ttest: 0.7090909\tbest: 0.7288136 (4)\ttotal: 8.28ms\tremaining: 131ms\n",
      "6:\tlearn: 0.7223382\ttest: 0.7666667\tbest: 0.7666667 (6)\ttotal: 9.87ms\tremaining: 132ms\n",
      "7:\tlearn: 0.7284211\ttest: 0.7768595\tbest: 0.7768595 (7)\ttotal: 11.1ms\tremaining: 129ms\n",
      "8:\tlearn: 0.7268908\ttest: 0.7768595\tbest: 0.7768595 (7)\ttotal: 12.4ms\tremaining: 127ms\n",
      "9:\tlearn: 0.7348643\ttest: 0.7768595\tbest: 0.7768595 (7)\ttotal: 14.8ms\tremaining: 134ms\n",
      "10:\tlearn: 0.7396694\ttest: 0.7768595\tbest: 0.7768595 (7)\ttotal: 16.2ms\tremaining: 133ms\n",
      "11:\tlearn: 0.7412008\ttest: 0.7768595\tbest: 0.7768595 (7)\ttotal: 17.2ms\tremaining: 128ms\n",
      "12:\tlearn: 0.7448560\ttest: 0.7768595\tbest: 0.7768595 (7)\ttotal: 18.4ms\tremaining: 124ms\n",
      "13:\tlearn: 0.7500000\ttest: 0.7768595\tbest: 0.7768595 (7)\ttotal: 19.5ms\tremaining: 121ms\n",
      "14:\tlearn: 0.7505155\ttest: 0.7768595\tbest: 0.7768595 (7)\ttotal: 20.8ms\tremaining: 119ms\n",
      "15:\tlearn: 0.7572016\ttest: 0.7768595\tbest: 0.7768595 (7)\ttotal: 22.2ms\tremaining: 118ms\n",
      "16:\tlearn: 0.7546392\ttest: 0.7768595\tbest: 0.7768595 (7)\ttotal: 23.6ms\tremaining: 117ms\n",
      "17:\tlearn: 0.7587629\ttest: 0.7768595\tbest: 0.7768595 (7)\ttotal: 24.8ms\tremaining: 114ms\n",
      "18:\tlearn: 0.7587629\ttest: 0.7768595\tbest: 0.7768595 (7)\ttotal: 26.2ms\tremaining: 113ms\n",
      "19:\tlearn: 0.7587629\ttest: 0.7768595\tbest: 0.7768595 (7)\ttotal: 27.6ms\tremaining: 112ms\n",
      "20:\tlearn: 0.7682927\ttest: 0.7768595\tbest: 0.7768595 (7)\ttotal: 28.9ms\tremaining: 110ms\n",
      "21:\tlearn: 0.7723577\ttest: 0.7768595\tbest: 0.7768595 (7)\ttotal: 30.3ms\tremaining: 109ms\n",
      "22:\tlearn: 0.7698574\ttest: 0.7768595\tbest: 0.7768595 (7)\ttotal: 31.7ms\tremaining: 107ms\n",
      "23:\tlearn: 0.7663934\ttest: 0.7768595\tbest: 0.7768595 (7)\ttotal: 33.3ms\tremaining: 107ms\n",
      "24:\tlearn: 0.7663934\ttest: 0.7768595\tbest: 0.7768595 (7)\ttotal: 35.2ms\tremaining: 107ms\n",
      "25:\tlearn: 0.7689162\ttest: 0.7768595\tbest: 0.7768595 (7)\ttotal: 36.5ms\tremaining: 105ms\n",
      "26:\tlearn: 0.7714286\ttest: 0.7768595\tbest: 0.7768595 (7)\ttotal: 37.9ms\tremaining: 104ms\n",
      "27:\tlearn: 0.7739308\ttest: 0.7868852\tbest: 0.7868852 (27)\ttotal: 39.2ms\tremaining: 102ms\n",
      "28:\tlearn: 0.7714286\ttest: 0.7868852\tbest: 0.7868852 (27)\ttotal: 40.3ms\tremaining: 100ms\n",
      "29:\tlearn: 0.7714286\ttest: 0.7868852\tbest: 0.7868852 (27)\ttotal: 41.4ms\tremaining: 97.9ms\n",
      "30:\tlearn: 0.7698574\ttest: 0.7933884\tbest: 0.7933884 (30)\ttotal: 42.6ms\tremaining: 96.3ms\n",
      "31:\tlearn: 0.7773279\ttest: 0.8032787\tbest: 0.8032787 (31)\ttotal: 43.8ms\tremaining: 94.5ms\n",
      "32:\tlearn: 0.7797980\ttest: 0.8032787\tbest: 0.8032787 (31)\ttotal: 45.2ms\tremaining: 93.1ms\n",
      "33:\tlearn: 0.7806841\ttest: 0.8032787\tbest: 0.8032787 (31)\ttotal: 46.4ms\tremaining: 91.4ms\n",
      "34:\tlearn: 0.7895792\ttest: 0.8099174\tbest: 0.8099174 (34)\ttotal: 47.7ms\tremaining: 90ms\n",
      "35:\tlearn: 0.7920000\ttest: 0.7967480\tbest: 0.8099174 (34)\ttotal: 48.9ms\tremaining: 88.3ms\n",
      "36:\tlearn: 0.7935872\ttest: 0.7967480\tbest: 0.8099174 (34)\ttotal: 50.3ms\tremaining: 86.9ms\n",
      "37:\tlearn: 0.7911647\ttest: 0.7967480\tbest: 0.8099174 (34)\ttotal: 51.6ms\tremaining: 85.6ms\n",
      "38:\tlearn: 0.8118812\ttest: 0.7967480\tbest: 0.8099174 (34)\ttotal: 52.9ms\tremaining: 84.1ms\n",
      "39:\tlearn: 0.8134921\ttest: 0.8160000\tbest: 0.8160000 (39)\ttotal: 54.2ms\tremaining: 82.6ms\n",
      "40:\tlearn: 0.8134921\ttest: 0.7967480\tbest: 0.8160000 (39)\ttotal: 55.4ms\tremaining: 81ms\n",
      "41:\tlearn: 0.8142292\ttest: 0.8032787\tbest: 0.8160000 (39)\ttotal: 56.6ms\tremaining: 79.5ms\n",
      "42:\tlearn: 0.8165680\ttest: 0.8130081\tbest: 0.8160000 (39)\ttotal: 57.9ms\tremaining: 78.1ms\n",
      "43:\tlearn: 0.8149606\ttest: 0.8064516\tbest: 0.8160000 (39)\ttotal: 59.1ms\tremaining: 76.6ms\n",
      "44:\tlearn: 0.8172888\ttest: 0.8064516\tbest: 0.8160000 (39)\ttotal: 60.6ms\tremaining: 75.4ms\n",
      "45:\tlearn: 0.8251473\ttest: 0.8064516\tbest: 0.8160000 (39)\ttotal: 61.8ms\tremaining: 73.9ms\n",
      "46:\tlearn: 0.8251473\ttest: 0.8064516\tbest: 0.8160000 (39)\ttotal: 63ms\tremaining: 72.4ms\n",
      "47:\tlearn: 0.8251473\ttest: 0.8160000\tbest: 0.8160000 (39)\ttotal: 64.2ms\tremaining: 70.9ms\n",
      "48:\tlearn: 0.8297456\ttest: 0.8160000\tbest: 0.8160000 (39)\ttotal: 65.5ms\tremaining: 69.5ms\n",
      "49:\tlearn: 0.8274510\ttest: 0.8160000\tbest: 0.8160000 (39)\ttotal: 66.8ms\tremaining: 68.2ms\n",
      "50:\tlearn: 0.8326848\ttest: 0.8160000\tbest: 0.8160000 (39)\ttotal: 68ms\tremaining: 66.7ms\n",
      "51:\tlearn: 0.8326848\ttest: 0.8160000\tbest: 0.8160000 (39)\ttotal: 69.3ms\tremaining: 65.3ms\n",
      "52:\tlearn: 0.8394584\ttest: 0.8125000\tbest: 0.8160000 (39)\ttotal: 70.6ms\tremaining: 63.9ms\n",
      "53:\tlearn: 0.8394584\ttest: 0.8217054\tbest: 0.8217054 (53)\ttotal: 71.9ms\tremaining: 62.5ms\n",
      "54:\tlearn: 0.8394584\ttest: 0.8217054\tbest: 0.8217054 (53)\ttotal: 73.3ms\tremaining: 61.3ms\n",
      "55:\tlearn: 0.8416988\ttest: 0.8125000\tbest: 0.8217054 (53)\ttotal: 74.6ms\tremaining: 60ms\n",
      "56:\tlearn: 0.8433269\ttest: 0.8125000\tbest: 0.8217054 (53)\ttotal: 75.9ms\tremaining: 58.6ms\n",
      "57:\tlearn: 0.8466019\ttest: 0.8188976\tbest: 0.8217054 (53)\ttotal: 77.1ms\tremaining: 57.2ms\n",
      "58:\tlearn: 0.8466019\ttest: 0.8188976\tbest: 0.8217054 (53)\ttotal: 78.3ms\tremaining: 55.8ms\n",
      "59:\tlearn: 0.8482490\ttest: 0.8125000\tbest: 0.8217054 (53)\ttotal: 79.7ms\tremaining: 54.5ms\n",
      "60:\tlearn: 0.8466019\ttest: 0.8125000\tbest: 0.8217054 (53)\ttotal: 81ms\tremaining: 53.1ms\n",
      "61:\tlearn: 0.8466019\ttest: 0.8125000\tbest: 0.8217054 (53)\ttotal: 82.3ms\tremaining: 51.7ms\n",
      "62:\tlearn: 0.8494208\ttest: 0.8153846\tbest: 0.8217054 (53)\ttotal: 83.6ms\tremaining: 50.4ms\n",
      "63:\tlearn: 0.8494208\ttest: 0.8153846\tbest: 0.8217054 (53)\ttotal: 84.8ms\tremaining: 49ms\n",
      "64:\tlearn: 0.8510638\ttest: 0.8062016\tbest: 0.8217054 (53)\ttotal: 86.2ms\tremaining: 47.7ms\n",
      "65:\tlearn: 0.8510638\ttest: 0.8062016\tbest: 0.8217054 (53)\ttotal: 87.6ms\tremaining: 46.4ms\n",
      "66:\tlearn: 0.8488372\ttest: 0.8062016\tbest: 0.8217054 (53)\ttotal: 88.8ms\tremaining: 45.1ms\n",
      "67:\tlearn: 0.8516378\ttest: 0.8062016\tbest: 0.8217054 (53)\ttotal: 90.2ms\tremaining: 43.8ms\n",
      "68:\tlearn: 0.8554913\ttest: 0.8062016\tbest: 0.8217054 (53)\ttotal: 91.6ms\tremaining: 42.5ms\n",
      "69:\tlearn: 0.8527132\ttest: 0.8062016\tbest: 0.8217054 (53)\ttotal: 92.8ms\tremaining: 41.1ms\n",
      "70:\tlearn: 0.8527132\ttest: 0.8062016\tbest: 0.8217054 (53)\ttotal: 94.2ms\tremaining: 39.8ms\n",
      "71:\tlearn: 0.8527132\ttest: 0.8062016\tbest: 0.8217054 (53)\ttotal: 95.6ms\tremaining: 38.5ms\n",
      "72:\tlearn: 0.8582524\ttest: 0.8062016\tbest: 0.8217054 (53)\ttotal: 96.9ms\tremaining: 37.2ms\n",
      "73:\tlearn: 0.8604651\ttest: 0.8062016\tbest: 0.8217054 (53)\ttotal: 98.3ms\tremaining: 35.9ms\n",
      "74:\tlearn: 0.8604651\ttest: 0.8062016\tbest: 0.8217054 (53)\ttotal: 99.7ms\tremaining: 34.5ms\n",
      "75:\tlearn: 0.8604651\ttest: 0.8062016\tbest: 0.8217054 (53)\ttotal: 101ms\tremaining: 33.2ms\n",
      "76:\tlearn: 0.8588008\ttest: 0.8062016\tbest: 0.8217054 (53)\ttotal: 103ms\tremaining: 32.1ms\n",
      "77:\tlearn: 0.8610039\ttest: 0.8062016\tbest: 0.8217054 (53)\ttotal: 104ms\tremaining: 30.8ms\n",
      "78:\tlearn: 0.8670520\ttest: 0.8062016\tbest: 0.8217054 (53)\ttotal: 106ms\tremaining: 29.4ms\n",
      "79:\tlearn: 0.8670520\ttest: 0.8062016\tbest: 0.8217054 (53)\ttotal: 107ms\tremaining: 28.1ms\n",
      "80:\tlearn: 0.8692308\ttest: 0.8062016\tbest: 0.8217054 (53)\ttotal: 108ms\tremaining: 26.8ms\n",
      "81:\tlearn: 0.8692308\ttest: 0.8062016\tbest: 0.8217054 (53)\ttotal: 110ms\tremaining: 25.4ms\n",
      "82:\tlearn: 0.8709056\ttest: 0.8062016\tbest: 0.8217054 (53)\ttotal: 111ms\tremaining: 24.1ms\n",
      "83:\tlearn: 0.8687259\ttest: 0.8062016\tbest: 0.8217054 (53)\ttotal: 112ms\tremaining: 22.7ms\n",
      "84:\tlearn: 0.8754864\ttest: 0.8125000\tbest: 0.8217054 (53)\ttotal: 114ms\tremaining: 21.4ms\n",
      "85:\tlearn: 0.8810916\ttest: 0.7936508\tbest: 0.8217054 (53)\ttotal: 115ms\tremaining: 20.1ms\n",
      "86:\tlearn: 0.8793774\ttest: 0.7936508\tbest: 0.8217054 (53)\ttotal: 116ms\tremaining: 18.7ms\n",
      "87:\tlearn: 0.8793774\ttest: 0.7936508\tbest: 0.8217054 (53)\ttotal: 117ms\tremaining: 17.3ms\n",
      "88:\tlearn: 0.8793774\ttest: 0.7936508\tbest: 0.8217054 (53)\ttotal: 119ms\tremaining: 16ms\n",
      "89:\tlearn: 0.8793774\ttest: 0.8031496\tbest: 0.8217054 (53)\ttotal: 120ms\tremaining: 14.7ms\n",
      "90:\tlearn: 0.8793774\ttest: 0.8031496\tbest: 0.8217054 (53)\ttotal: 121ms\tremaining: 13.3ms\n",
      "91:\tlearn: 0.8837209\ttest: 0.8031496\tbest: 0.8217054 (53)\ttotal: 123ms\tremaining: 12ms\n",
      "92:\tlearn: 0.8837209\ttest: 0.8031496\tbest: 0.8217054 (53)\ttotal: 124ms\tremaining: 10.7ms\n",
      "93:\tlearn: 0.8798450\ttest: 0.8031496\tbest: 0.8217054 (53)\ttotal: 126ms\tremaining: 9.35ms\n",
      "94:\tlearn: 0.8798450\ttest: 0.8031496\tbest: 0.8217054 (53)\ttotal: 127ms\tremaining: 8.02ms\n",
      "95:\tlearn: 0.8841699\ttest: 0.8031496\tbest: 0.8217054 (53)\ttotal: 128ms\tremaining: 6.69ms\n",
      "96:\tlearn: 0.8824663\ttest: 0.8031496\tbest: 0.8217054 (53)\ttotal: 130ms\tremaining: 5.37ms\n",
      "97:\tlearn: 0.8846154\ttest: 0.7968750\tbest: 0.8217054 (53)\ttotal: 132ms\tremaining: 4.05ms\n",
      "98:\tlearn: 0.8867562\ttest: 0.8031496\tbest: 0.8217054 (53)\ttotal: 134ms\tremaining: 2.7ms\n",
      "99:\tlearn: 0.8884615\ttest: 0.8031496\tbest: 0.8217054 (53)\ttotal: 135ms\tremaining: 1.35ms\n",
      "100:\tlearn: 0.8884615\ttest: 0.8031496\tbest: 0.8217054 (53)\ttotal: 137ms\tremaining: 0us\n",
      "\n",
      "bestTest = 0.8217054264\n",
      "bestIteration = 53\n",
      "\n",
      "Training on fold [4/5]\n",
      "0:\tlearn: 0.7123810\ttest: 0.7022901\tbest: 0.7022901 (0)\ttotal: 1.23ms\tremaining: 123ms\n",
      "1:\tlearn: 0.7123810\ttest: 0.7022901\tbest: 0.7022901 (0)\ttotal: 2.59ms\tremaining: 128ms\n",
      "2:\tlearn: 0.7134725\ttest: 0.7022901\tbest: 0.7022901 (0)\ttotal: 4.09ms\tremaining: 134ms\n",
      "3:\tlearn: 0.7159091\ttest: 0.7022901\tbest: 0.7022901 (0)\ttotal: 5.45ms\tremaining: 132ms\n",
      "4:\tlearn: 0.7249071\ttest: 0.7022901\tbest: 0.7022901 (0)\ttotal: 6.79ms\tremaining: 130ms\n",
      "5:\tlearn: 0.7366483\ttest: 0.6962963\tbest: 0.7022901 (0)\ttotal: 8.07ms\tremaining: 128ms\n",
      "6:\tlearn: 0.7343173\ttest: 0.6962963\tbest: 0.7022901 (0)\ttotal: 9.61ms\tremaining: 129ms\n",
      "7:\tlearn: 0.7343173\ttest: 0.6962963\tbest: 0.7022901 (0)\ttotal: 11.1ms\tremaining: 129ms\n",
      "8:\tlearn: 0.7356747\ttest: 0.6962963\tbest: 0.7022901 (0)\ttotal: 12.5ms\tremaining: 127ms\n",
      "9:\tlearn: 0.7346939\ttest: 0.6962963\tbest: 0.7022901 (0)\ttotal: 13.5ms\tremaining: 123ms\n",
      "10:\tlearn: 0.7518519\ttest: 0.7121212\tbest: 0.7121212 (10)\ttotal: 14.9ms\tremaining: 122ms\n",
      "11:\tlearn: 0.7504621\ttest: 0.7121212\tbest: 0.7121212 (10)\ttotal: 16.5ms\tremaining: 122ms\n",
      "12:\tlearn: 0.7527675\ttest: 0.7121212\tbest: 0.7121212 (10)\ttotal: 18ms\tremaining: 122ms\n",
      "13:\tlearn: 0.7518519\ttest: 0.7121212\tbest: 0.7121212 (10)\ttotal: 19.6ms\tremaining: 122ms\n",
      "14:\tlearn: 0.7532468\ttest: 0.7121212\tbest: 0.7121212 (10)\ttotal: 21.7ms\tremaining: 125ms\n",
      "15:\tlearn: 0.7532468\ttest: 0.7121212\tbest: 0.7121212 (10)\ttotal: 22.8ms\tremaining: 121ms\n",
      "16:\tlearn: 0.7620818\ttest: 0.7121212\tbest: 0.7121212 (10)\ttotal: 23.8ms\tremaining: 118ms\n",
      "17:\tlearn: 0.7675277\ttest: 0.7121212\tbest: 0.7121212 (10)\ttotal: 24.8ms\tremaining: 114ms\n",
      "18:\tlearn: 0.7675277\ttest: 0.7121212\tbest: 0.7121212 (10)\ttotal: 25.8ms\tremaining: 112ms\n",
      "19:\tlearn: 0.7652495\ttest: 0.7121212\tbest: 0.7121212 (10)\ttotal: 27ms\tremaining: 109ms\n",
      "20:\tlearn: 0.7792208\ttest: 0.7121212\tbest: 0.7121212 (10)\ttotal: 28.4ms\tremaining: 108ms\n",
      "21:\tlearn: 0.7761194\ttest: 0.7218045\tbest: 0.7218045 (21)\ttotal: 29.6ms\tremaining: 106ms\n",
      "22:\tlearn: 0.7769517\ttest: 0.7218045\tbest: 0.7218045 (21)\ttotal: 30.9ms\tremaining: 105ms\n",
      "23:\tlearn: 0.7792208\ttest: 0.7218045\tbest: 0.7218045 (21)\ttotal: 32.3ms\tremaining: 104ms\n",
      "24:\tlearn: 0.7792208\ttest: 0.7218045\tbest: 0.7218045 (21)\ttotal: 33.3ms\tremaining: 101ms\n",
      "25:\tlearn: 0.7813084\ttest: 0.7218045\tbest: 0.7218045 (21)\ttotal: 34.6ms\tremaining: 99.7ms\n",
      "26:\tlearn: 0.7850467\ttest: 0.7164179\tbest: 0.7218045 (21)\ttotal: 35.8ms\tremaining: 98.2ms\n",
      "27:\tlearn: 0.7850467\ttest: 0.7164179\tbest: 0.7218045 (21)\ttotal: 37.1ms\tremaining: 96.7ms\n",
      "28:\tlearn: 0.7835821\ttest: 0.7218045\tbest: 0.7218045 (21)\ttotal: 38.3ms\tremaining: 95.2ms\n",
      "29:\tlearn: 0.7873134\ttest: 0.7164179\tbest: 0.7218045 (21)\ttotal: 39.7ms\tremaining: 93.9ms\n",
      "30:\tlearn: 0.7873134\ttest: 0.7111111\tbest: 0.7218045 (21)\ttotal: 41ms\tremaining: 92.7ms\n",
      "31:\tlearn: 0.7925234\ttest: 0.7111111\tbest: 0.7218045 (21)\ttotal: 42.6ms\tremaining: 91.8ms\n",
      "32:\tlearn: 0.7910448\ttest: 0.7164179\tbest: 0.7218045 (21)\ttotal: 44.1ms\tremaining: 90.9ms\n",
      "33:\tlearn: 0.8022388\ttest: 0.7164179\tbest: 0.7218045 (21)\ttotal: 45.6ms\tremaining: 90ms\n",
      "34:\tlearn: 0.7970480\ttest: 0.7164179\tbest: 0.7218045 (21)\ttotal: 47.1ms\tremaining: 88.8ms\n",
      "35:\tlearn: 0.8000000\ttest: 0.7164179\tbest: 0.7218045 (21)\ttotal: 49.2ms\tremaining: 88.8ms\n",
      "36:\tlearn: 0.8044280\ttest: 0.7164179\tbest: 0.7218045 (21)\ttotal: 50.7ms\tremaining: 87.6ms\n",
      "37:\tlearn: 0.8111111\ttest: 0.7218045\tbest: 0.7218045 (21)\ttotal: 52ms\tremaining: 86.2ms\n",
      "38:\tlearn: 0.8111111\ttest: 0.7218045\tbest: 0.7218045 (21)\ttotal: 54.2ms\tremaining: 86.1ms\n",
      "39:\tlearn: 0.8111111\ttest: 0.7218045\tbest: 0.7218045 (21)\ttotal: 56.6ms\tremaining: 86.4ms\n",
      "40:\tlearn: 0.8111111\ttest: 0.7218045\tbest: 0.7218045 (21)\ttotal: 58.8ms\tremaining: 86ms\n",
      "41:\tlearn: 0.8126160\ttest: 0.7218045\tbest: 0.7218045 (21)\ttotal: 60.8ms\tremaining: 85.4ms\n",
      "42:\tlearn: 0.8141264\ttest: 0.7218045\tbest: 0.7218045 (21)\ttotal: 62.7ms\tremaining: 84.5ms\n",
      "43:\tlearn: 0.8141264\ttest: 0.7218045\tbest: 0.7218045 (21)\ttotal: 64.6ms\tremaining: 83.7ms\n",
      "44:\tlearn: 0.8119181\ttest: 0.7272727\tbest: 0.7272727 (44)\ttotal: 66.6ms\tremaining: 82.9ms\n",
      "45:\tlearn: 0.8119181\ttest: 0.7272727\tbest: 0.7272727 (44)\ttotal: 69.7ms\tremaining: 83.3ms\n",
      "46:\tlearn: 0.8239700\ttest: 0.7218045\tbest: 0.7272727 (44)\ttotal: 71.4ms\tremaining: 82ms\n",
      "47:\tlearn: 0.8224299\ttest: 0.7218045\tbest: 0.7272727 (44)\ttotal: 72.8ms\tremaining: 80.4ms\n",
      "48:\tlearn: 0.8246269\ttest: 0.7218045\tbest: 0.7272727 (44)\ttotal: 74ms\tremaining: 78.6ms\n",
      "49:\tlearn: 0.8289963\ttest: 0.7218045\tbest: 0.7272727 (44)\ttotal: 75.4ms\tremaining: 77ms\n",
      "50:\tlearn: 0.8289963\ttest: 0.7218045\tbest: 0.7272727 (44)\ttotal: 76.7ms\tremaining: 75.2ms\n",
      "51:\tlearn: 0.8320896\ttest: 0.7218045\tbest: 0.7272727 (44)\ttotal: 77.9ms\tremaining: 73.4ms\n",
      "52:\tlearn: 0.8352060\ttest: 0.7259259\tbest: 0.7272727 (44)\ttotal: 79.9ms\tremaining: 72.4ms\n",
      "53:\tlearn: 0.8367730\ttest: 0.7259259\tbest: 0.7272727 (44)\ttotal: 81.4ms\tremaining: 70.8ms\n",
      "54:\tlearn: 0.8421053\ttest: 0.7259259\tbest: 0.7272727 (44)\ttotal: 82.8ms\tremaining: 69.2ms\n",
      "55:\tlearn: 0.8405253\ttest: 0.7313433\tbest: 0.7313433 (55)\ttotal: 84.2ms\tremaining: 67.6ms\n",
      "56:\tlearn: 0.8442777\ttest: 0.7313433\tbest: 0.7313433 (55)\ttotal: 86ms\tremaining: 66.4ms\n",
      "57:\tlearn: 0.8474576\ttest: 0.7205882\tbest: 0.7313433 (55)\ttotal: 87.6ms\tremaining: 65ms\n",
      "58:\tlearn: 0.8474576\ttest: 0.7205882\tbest: 0.7313433 (55)\ttotal: 88.9ms\tremaining: 63.3ms\n",
      "59:\tlearn: 0.8452830\ttest: 0.7299270\tbest: 0.7313433 (55)\ttotal: 90.3ms\tremaining: 61.7ms\n",
      "60:\tlearn: 0.8431002\ttest: 0.7205882\tbest: 0.7313433 (55)\ttotal: 91.6ms\tremaining: 60.1ms\n",
      "61:\tlearn: 0.8431002\ttest: 0.7205882\tbest: 0.7313433 (55)\ttotal: 93.1ms\tremaining: 58.6ms\n",
      "62:\tlearn: 0.8431002\ttest: 0.7205882\tbest: 0.7313433 (55)\ttotal: 94.6ms\tremaining: 57ms\n",
      "63:\tlearn: 0.8474576\ttest: 0.7205882\tbest: 0.7313433 (55)\ttotal: 95.9ms\tremaining: 55.5ms\n",
      "64:\tlearn: 0.8517824\ttest: 0.7111111\tbest: 0.7313433 (55)\ttotal: 97.3ms\tremaining: 53.9ms\n",
      "65:\tlearn: 0.8533835\ttest: 0.7164179\tbest: 0.7313433 (55)\ttotal: 98.7ms\tremaining: 52.4ms\n",
      "66:\tlearn: 0.8490566\ttest: 0.7230769\tbest: 0.7313433 (55)\ttotal: 100ms\tremaining: 50.8ms\n",
      "67:\tlearn: 0.8592871\ttest: 0.7121212\tbest: 0.7313433 (55)\ttotal: 101ms\tremaining: 49.2ms\n",
      "68:\tlearn: 0.8667917\ttest: 0.7272727\tbest: 0.7313433 (55)\ttotal: 103ms\tremaining: 47.6ms\n",
      "69:\tlearn: 0.8646617\ttest: 0.7272727\tbest: 0.7313433 (55)\ttotal: 104ms\tremaining: 46.1ms\n",
      "70:\tlearn: 0.8742964\ttest: 0.7328244\tbest: 0.7328244 (70)\ttotal: 105ms\tremaining: 44.5ms\n",
      "71:\tlearn: 0.8742964\ttest: 0.7328244\tbest: 0.7328244 (70)\ttotal: 107ms\tremaining: 43ms\n",
      "72:\tlearn: 0.8738230\ttest: 0.7286822\tbest: 0.7328244 (70)\ttotal: 108ms\tremaining: 41.5ms\n",
      "73:\tlearn: 0.8766603\ttest: 0.7244094\tbest: 0.7328244 (70)\ttotal: 110ms\tremaining: 40ms\n",
      "74:\tlearn: 0.8773946\ttest: 0.7187500\tbest: 0.7328244 (70)\ttotal: 111ms\tremaining: 38.4ms\n",
      "75:\tlearn: 0.8778626\ttest: 0.7401575\tbest: 0.7401575 (75)\ttotal: 112ms\tremaining: 36.9ms\n",
      "76:\tlearn: 0.8800000\ttest: 0.7343750\tbest: 0.7401575 (75)\ttotal: 113ms\tremaining: 35.3ms\n",
      "77:\tlearn: 0.8800000\ttest: 0.7343750\tbest: 0.7401575 (75)\ttotal: 115ms\tremaining: 33.8ms\n",
      "78:\tlearn: 0.8795411\ttest: 0.7187500\tbest: 0.7401575 (75)\ttotal: 116ms\tremaining: 32.3ms\n",
      "79:\tlearn: 0.8816794\ttest: 0.7131783\tbest: 0.7401575 (75)\ttotal: 117ms\tremaining: 30.7ms\n",
      "80:\tlearn: 0.8816794\ttest: 0.7131783\tbest: 0.7401575 (75)\ttotal: 120ms\tremaining: 29.6ms\n",
      "81:\tlearn: 0.8795411\ttest: 0.7384615\tbest: 0.7401575 (75)\ttotal: 122ms\tremaining: 28.2ms\n",
      "82:\tlearn: 0.8783270\ttest: 0.7384615\tbest: 0.7401575 (75)\ttotal: 124ms\tremaining: 26.8ms\n",
      "83:\tlearn: 0.8825758\ttest: 0.7441860\tbest: 0.7441860 (83)\ttotal: 142ms\tremaining: 28.8ms\n",
      "84:\tlearn: 0.8842505\ttest: 0.7328244\tbest: 0.7441860 (83)\ttotal: 146ms\tremaining: 27.4ms\n",
      "85:\tlearn: 0.8863636\ttest: 0.7328244\tbest: 0.7441860 (83)\ttotal: 147ms\tremaining: 25.6ms\n",
      "86:\tlearn: 0.8884688\ttest: 0.7328244\tbest: 0.7441860 (83)\ttotal: 148ms\tremaining: 23.8ms\n",
      "87:\tlearn: 0.8884688\ttest: 0.7328244\tbest: 0.7441860 (83)\ttotal: 150ms\tremaining: 22.1ms\n",
      "88:\tlearn: 0.8922495\ttest: 0.7328244\tbest: 0.7441860 (83)\ttotal: 156ms\tremaining: 21ms\n",
      "89:\tlearn: 0.8922495\ttest: 0.7328244\tbest: 0.7441860 (83)\ttotal: 157ms\tremaining: 19.2ms\n",
      "90:\tlearn: 0.8960302\ttest: 0.7328244\tbest: 0.7441860 (83)\ttotal: 159ms\tremaining: 17.4ms\n",
      "91:\tlearn: 0.8960302\ttest: 0.7328244\tbest: 0.7441860 (83)\ttotal: 160ms\tremaining: 15.6ms\n",
      "92:\tlearn: 0.8960302\ttest: 0.7328244\tbest: 0.7441860 (83)\ttotal: 161ms\tremaining: 13.9ms\n",
      "93:\tlearn: 0.9018868\ttest: 0.7384615\tbest: 0.7441860 (83)\ttotal: 162ms\tremaining: 12.1ms\n",
      "94:\tlearn: 0.8977273\ttest: 0.7384615\tbest: 0.7441860 (83)\ttotal: 164ms\tremaining: 10.3ms\n",
      "95:\tlearn: 0.9015152\ttest: 0.7384615\tbest: 0.7441860 (83)\ttotal: 165ms\tremaining: 8.59ms\n",
      "96:\tlearn: 0.9015152\ttest: 0.7384615\tbest: 0.7441860 (83)\ttotal: 166ms\tremaining: 6.86ms\n",
      "97:\tlearn: 0.9015152\ttest: 0.7384615\tbest: 0.7441860 (83)\ttotal: 169ms\tremaining: 5.17ms\n",
      "98:\tlearn: 0.9032258\ttest: 0.7384615\tbest: 0.7441860 (83)\ttotal: 170ms\tremaining: 3.44ms\n",
      "99:\tlearn: 0.9028571\ttest: 0.7384615\tbest: 0.7441860 (83)\ttotal: 172ms\tremaining: 1.72ms\n",
      "100:\tlearn: 0.9045802\ttest: 0.7384615\tbest: 0.7441860 (83)\ttotal: 173ms\tremaining: 0us\n",
      "\n",
      "bestTest = 0.7441860465\n",
      "bestIteration = 83\n",
      "\n"
     ]
    }
   ],
   "source": [
    "from ARISA_DSML.train import train_cv\n",
    "import joblib\n",
    "\n",
    "params = joblib.load(best_params_path)\n",
    "n_folds = 5\n",
    "cv_output_path = train_cv(X_train, y_train, categorical_indices, params, n=n_folds)"
   ]
  },
  {
   "cell_type": "markdown",
   "id": "9c2f4247-6cbf-4528-ba59-bf4f375dad64",
   "metadata": {
    "editable": false,
    "slideshow": {
     "slide_type": "slide"
    },
    "tags": []
   },
   "source": [
    "And get the performance plots:"
   ]
  },
  {
   "cell_type": "code",
   "execution_count": 25,
   "id": "64beb22b",
   "metadata": {},
   "outputs": [
    {
     "data": {
      "application/vnd.plotly.v1+json": {
       "config": {
        "plotlyServerURL": "https://plot.ly"
       },
       "data": [
        {
         "line": {
          "color": "blue"
         },
         "mode": "lines",
         "name": "Mean F1 Score",
         "type": "scatter",
         "x": {
          "bdata": "AAECAwQFBgcICQoLDA0ODxAREhMUFRYXGBkaGxwdHh8gISIjJCUmJygpKissLS4vMDEyMzQ1Njc4OTo7PD0+P0BBQkNERUZHSElKS0xNTk9QUVJTVFVWV1hZWltcXV5fYGFiY2RlZmdoaWprbG1ub3BxcnN0dXZ3eHl6",
          "dtype": "i1"
         },
         "y": {
          "bdata": "GettUAhm5z8BOyIXE67nP6IC74HD4Oc/6sINvPMS6D8vv9ASgQHoP0cVJ8jfnOc/tHO1sgGG5z9yN1048GnnP+tbqbk3Vec/tj9eEss75z/SXK/nxH3nP0wYXrbbZec/CCnDscN+5z9dnGpBWITnPzgtvi9bbec/bVjDqRRq5z9DKSIyFp7nP2KMfLDcluc/hE9wR0uf5z9u1ELXZbDnP8rVz+drkOc/rXuMhlaM5z9lnSq0tJPnPxXA9fVGkuc/8nJzXmZ35z8NLAV6H4nnP53WjMUWjuc/ndaMxRaO5z/LCIQflXrnP/uLgzPIcuc/I66gqsR55z8jrqCqxHnnPyOuoKrEeec/XCUvuoB55z/GQkGlUHLnP8oWrsxIp+c/yEh3yUOL5z+oBsRS5YrnP6gGxFLliuc/9NDFn5mS5z/3XH4kBJTnP//wbqArnec/MSQ2w1+85z/SjXDU+LbnP5PuNNwFqec/i1pEYN6f5z+6ul3Pnp7nP1CkM0z7rec/jgWDJA+k5z8DYLB488jnP0YBAaEH0+c/rKc9ADHO5z/LyEj5f8/nP8kYhdxCxec/yRiF3ELF5z+dwQoivKLnP8vISPl/z+c/9Xl9mn6d5z81awqmVZ3nP53BCiK8ouc/hnc0tC675z/t7jrt78/nPyCW+1LJruc/SpPpb5uU5z9Kk+lvm5TnP4Yo0i7vnec/zAvF/1eF5z9T+WHsknvnPx6mMFiQcuc/8Ggra3N95z8lvFz/dYbnP/hYXjNDoOc/+FheM0Og5z/4WF4zQ6DnPy8aSGSHyOc/PQ6VwrrX5z919PLUeN/nP0Tz2cdlz+c/7uoqbODe5z823UVT6dTnP0Tz2cdlz+c/k+cguKq+5z919PLUeN/nP2cApnZF0Oc/7hlO0nXo5z/uO5XovtPnPzHd5RDT3ec/29Q2tU3t5z+lJ7ni1LvnPyC7YQiym+c/dtSDW0e95z9RpHoPRarnP7cK4XWrkOc/UaR6D0Wq5z+gmMH/iZnnP7cK4XWrkOc/3hkR4J2R5z/KmrKmrKnnP1cQSXcFkec/VxBJdwWR5z/+/NjYz4/nP+gL+oK+oOc/nxbb+Gmx5z/cfKBRKLHnP9x8oFEosec/3HygUSix5z/p3NYcKZfnPxre7yk8p+c/Gt7vKTyn5z8a3u8pPKfnP/6wQdJlt+c/AmzQsxqw5z8CbNCzGrDnPwJs0LMasOc/AmzQsxqw5z9te5c8m77nP217lzybvuc/D2XKnATh5z/D7eZPdPDnPzdoiRN6AOg/jr8+zDsb6D99eqxg5BLoP316rGDkEug/",
          "dtype": "f8"
         }
        },
        {
         "fill": "toself",
         "fillcolor": "rgba(0, 0, 255, 0.2)",
         "line": {
          "color": "rgba(255, 255, 255, 0)"
         },
         "showlegend": false,
         "type": "scatter",
         "x": {
          "bdata": "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",
          "dtype": "f8"
         },
         "y": {
          "bdata": "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",
          "dtype": "f8"
         }
        }
       ],
       "layout": {
        "template": {
         "data": {
          "bar": [
           {
            "error_x": {
             "color": "#2a3f5f"
            },
            "error_y": {
             "color": "#2a3f5f"
            },
            "marker": {
             "line": {
              "color": "white",
              "width": 0.5
             },
             "pattern": {
              "fillmode": "overlay",
              "size": 10,
              "solidity": 0.2
             }
            },
            "type": "bar"
           }
          ],
          "barpolar": [
           {
            "marker": {
             "line": {
              "color": "white",
              "width": 0.5
             },
             "pattern": {
              "fillmode": "overlay",
              "size": 10,
              "solidity": 0.2
             }
            },
            "type": "barpolar"
           }
          ],
          "carpet": [
           {
            "aaxis": {
             "endlinecolor": "#2a3f5f",
             "gridcolor": "#C8D4E3",
             "linecolor": "#C8D4E3",
             "minorgridcolor": "#C8D4E3",
             "startlinecolor": "#2a3f5f"
            },
            "baxis": {
             "endlinecolor": "#2a3f5f",
             "gridcolor": "#C8D4E3",
             "linecolor": "#C8D4E3",
             "minorgridcolor": "#C8D4E3",
             "startlinecolor": "#2a3f5f"
            },
            "type": "carpet"
           }
          ],
          "choropleth": [
           {
            "colorbar": {
             "outlinewidth": 0,
             "ticks": ""
            },
            "type": "choropleth"
           }
          ],
          "contour": [
           {
            "colorbar": {
             "outlinewidth": 0,
             "ticks": ""
            },
            "colorscale": [
             [
              0,
              "#0d0887"
             ],
             [
              0.1111111111111111,
              "#46039f"
             ],
             [
              0.2222222222222222,
              "#7201a8"
             ],
             [
              0.3333333333333333,
              "#9c179e"
             ],
             [
              0.4444444444444444,
              "#bd3786"
             ],
             [
              0.5555555555555556,
              "#d8576b"
             ],
             [
              0.6666666666666666,
              "#ed7953"
             ],
             [
              0.7777777777777778,
              "#fb9f3a"
             ],
             [
              0.8888888888888888,
              "#fdca26"
             ],
             [
              1,
              "#f0f921"
             ]
            ],
            "type": "contour"
           }
          ],
          "contourcarpet": [
           {
            "colorbar": {
             "outlinewidth": 0,
             "ticks": ""
            },
            "type": "contourcarpet"
           }
          ],
          "heatmap": [
           {
            "colorbar": {
             "outlinewidth": 0,
             "ticks": ""
            },
            "colorscale": [
             [
              0,
              "#0d0887"
             ],
             [
              0.1111111111111111,
              "#46039f"
             ],
             [
              0.2222222222222222,
              "#7201a8"
             ],
             [
              0.3333333333333333,
              "#9c179e"
             ],
             [
              0.4444444444444444,
              "#bd3786"
             ],
             [
              0.5555555555555556,
              "#d8576b"
             ],
             [
              0.6666666666666666,
              "#ed7953"
             ],
             [
              0.7777777777777778,
              "#fb9f3a"
             ],
             [
              0.8888888888888888,
              "#fdca26"
             ],
             [
              1,
              "#f0f921"
             ]
            ],
            "type": "heatmap"
           }
          ],
          "histogram": [
           {
            "marker": {
             "pattern": {
              "fillmode": "overlay",
              "size": 10,
              "solidity": 0.2
             }
            },
            "type": "histogram"
           }
          ],
          "histogram2d": [
           {
            "colorbar": {
             "outlinewidth": 0,
             "ticks": ""
            },
            "colorscale": [
             [
              0,
              "#0d0887"
             ],
             [
              0.1111111111111111,
              "#46039f"
             ],
             [
              0.2222222222222222,
              "#7201a8"
             ],
             [
              0.3333333333333333,
              "#9c179e"
             ],
             [
              0.4444444444444444,
              "#bd3786"
             ],
             [
              0.5555555555555556,
              "#d8576b"
             ],
             [
              0.6666666666666666,
              "#ed7953"
             ],
             [
              0.7777777777777778,
              "#fb9f3a"
             ],
             [
              0.8888888888888888,
              "#fdca26"
             ],
             [
              1,
              "#f0f921"
             ]
            ],
            "type": "histogram2d"
           }
          ],
          "histogram2dcontour": [
           {
            "colorbar": {
             "outlinewidth": 0,
             "ticks": ""
            },
            "colorscale": [
             [
              0,
              "#0d0887"
             ],
             [
              0.1111111111111111,
              "#46039f"
             ],
             [
              0.2222222222222222,
              "#7201a8"
             ],
             [
              0.3333333333333333,
              "#9c179e"
             ],
             [
              0.4444444444444444,
              "#bd3786"
             ],
             [
              0.5555555555555556,
              "#d8576b"
             ],
             [
              0.6666666666666666,
              "#ed7953"
             ],
             [
              0.7777777777777778,
              "#fb9f3a"
             ],
             [
              0.8888888888888888,
              "#fdca26"
             ],
             [
              1,
              "#f0f921"
             ]
            ],
            "type": "histogram2dcontour"
           }
          ],
          "mesh3d": [
           {
            "colorbar": {
             "outlinewidth": 0,
             "ticks": ""
            },
            "type": "mesh3d"
           }
          ],
          "parcoords": [
           {
            "line": {
             "colorbar": {
              "outlinewidth": 0,
              "ticks": ""
             }
            },
            "type": "parcoords"
           }
          ],
          "pie": [
           {
            "automargin": true,
            "type": "pie"
           }
          ],
          "scatter": [
           {
            "fillpattern": {
             "fillmode": "overlay",
             "size": 10,
             "solidity": 0.2
            },
            "type": "scatter"
           }
          ],
          "scatter3d": [
           {
            "line": {
             "colorbar": {
              "outlinewidth": 0,
              "ticks": ""
             }
            },
            "marker": {
             "colorbar": {
              "outlinewidth": 0,
              "ticks": ""
             }
            },
            "type": "scatter3d"
           }
          ],
          "scattercarpet": [
           {
            "marker": {
             "colorbar": {
              "outlinewidth": 0,
              "ticks": ""
             }
            },
            "type": "scattercarpet"
           }
          ],
          "scattergeo": [
           {
            "marker": {
             "colorbar": {
              "outlinewidth": 0,
              "ticks": ""
             }
            },
            "type": "scattergeo"
           }
          ],
          "scattergl": [
           {
            "marker": {
             "colorbar": {
              "outlinewidth": 0,
              "ticks": ""
             }
            },
            "type": "scattergl"
           }
          ],
          "scattermap": [
           {
            "marker": {
             "colorbar": {
              "outlinewidth": 0,
              "ticks": ""
             }
            },
            "type": "scattermap"
           }
          ],
          "scattermapbox": [
           {
            "marker": {
             "colorbar": {
              "outlinewidth": 0,
              "ticks": ""
             }
            },
            "type": "scattermapbox"
           }
          ],
          "scatterpolar": [
           {
            "marker": {
             "colorbar": {
              "outlinewidth": 0,
              "ticks": ""
             }
            },
            "type": "scatterpolar"
           }
          ],
          "scatterpolargl": [
           {
            "marker": {
             "colorbar": {
              "outlinewidth": 0,
              "ticks": ""
             }
            },
            "type": "scatterpolargl"
           }
          ],
          "scatterternary": [
           {
            "marker": {
             "colorbar": {
              "outlinewidth": 0,
              "ticks": ""
             }
            },
            "type": "scatterternary"
           }
          ],
          "surface": [
           {
            "colorbar": {
             "outlinewidth": 0,
             "ticks": ""
            },
            "colorscale": [
             [
              0,
              "#0d0887"
             ],
             [
              0.1111111111111111,
              "#46039f"
             ],
             [
              0.2222222222222222,
              "#7201a8"
             ],
             [
              0.3333333333333333,
              "#9c179e"
             ],
             [
              0.4444444444444444,
              "#bd3786"
             ],
             [
              0.5555555555555556,
              "#d8576b"
             ],
             [
              0.6666666666666666,
              "#ed7953"
             ],
             [
              0.7777777777777778,
              "#fb9f3a"
             ],
             [
              0.8888888888888888,
              "#fdca26"
             ],
             [
              1,
              "#f0f921"
             ]
            ],
            "type": "surface"
           }
          ],
          "table": [
           {
            "cells": {
             "fill": {
              "color": "#EBF0F8"
             },
             "line": {
              "color": "white"
             }
            },
            "header": {
             "fill": {
              "color": "#C8D4E3"
             },
             "line": {
              "color": "white"
             }
            },
            "type": "table"
           }
          ]
         },
         "layout": {
          "annotationdefaults": {
           "arrowcolor": "#2a3f5f",
           "arrowhead": 0,
           "arrowwidth": 1
          },
          "autotypenumbers": "strict",
          "coloraxis": {
           "colorbar": {
            "outlinewidth": 0,
            "ticks": ""
           }
          },
          "colorscale": {
           "diverging": [
            [
             0,
             "#8e0152"
            ],
            [
             0.1,
             "#c51b7d"
            ],
            [
             0.2,
             "#de77ae"
            ],
            [
             0.3,
             "#f1b6da"
            ],
            [
             0.4,
             "#fde0ef"
            ],
            [
             0.5,
             "#f7f7f7"
            ],
            [
             0.6,
             "#e6f5d0"
            ],
            [
             0.7,
             "#b8e186"
            ],
            [
             0.8,
             "#7fbc41"
            ],
            [
             0.9,
             "#4d9221"
            ],
            [
             1,
             "#276419"
            ]
           ],
           "sequential": [
            [
             0,
             "#0d0887"
            ],
            [
             0.1111111111111111,
             "#46039f"
            ],
            [
             0.2222222222222222,
             "#7201a8"
            ],
            [
             0.3333333333333333,
             "#9c179e"
            ],
            [
             0.4444444444444444,
             "#bd3786"
            ],
            [
             0.5555555555555556,
             "#d8576b"
            ],
            [
             0.6666666666666666,
             "#ed7953"
            ],
            [
             0.7777777777777778,
             "#fb9f3a"
            ],
            [
             0.8888888888888888,
             "#fdca26"
            ],
            [
             1,
             "#f0f921"
            ]
           ],
           "sequentialminus": [
            [
             0,
             "#0d0887"
            ],
            [
             0.1111111111111111,
             "#46039f"
            ],
            [
             0.2222222222222222,
             "#7201a8"
            ],
            [
             0.3333333333333333,
             "#9c179e"
            ],
            [
             0.4444444444444444,
             "#bd3786"
            ],
            [
             0.5555555555555556,
             "#d8576b"
            ],
            [
             0.6666666666666666,
             "#ed7953"
            ],
            [
             0.7777777777777778,
             "#fb9f3a"
            ],
            [
             0.8888888888888888,
             "#fdca26"
            ],
            [
             1,
             "#f0f921"
            ]
           ]
          },
          "colorway": [
           "#636efa",
           "#EF553B",
           "#00cc96",
           "#ab63fa",
           "#FFA15A",
           "#19d3f3",
           "#FF6692",
           "#B6E880",
           "#FF97FF",
           "#FECB52"
          ],
          "font": {
           "color": "#2a3f5f"
          },
          "geo": {
           "bgcolor": "white",
           "lakecolor": "white",
           "landcolor": "white",
           "showlakes": true,
           "showland": true,
           "subunitcolor": "#C8D4E3"
          },
          "hoverlabel": {
           "align": "left"
          },
          "hovermode": "closest",
          "mapbox": {
           "style": "light"
          },
          "paper_bgcolor": "white",
          "plot_bgcolor": "white",
          "polar": {
           "angularaxis": {
            "gridcolor": "#EBF0F8",
            "linecolor": "#EBF0F8",
            "ticks": ""
           },
           "bgcolor": "white",
           "radialaxis": {
            "gridcolor": "#EBF0F8",
            "linecolor": "#EBF0F8",
            "ticks": ""
           }
          },
          "scene": {
           "xaxis": {
            "backgroundcolor": "white",
            "gridcolor": "#DFE8F3",
            "gridwidth": 2,
            "linecolor": "#EBF0F8",
            "showbackground": true,
            "ticks": "",
            "zerolinecolor": "#EBF0F8"
           },
           "yaxis": {
            "backgroundcolor": "white",
            "gridcolor": "#DFE8F3",
            "gridwidth": 2,
            "linecolor": "#EBF0F8",
            "showbackground": true,
            "ticks": "",
            "zerolinecolor": "#EBF0F8"
           },
           "zaxis": {
            "backgroundcolor": "white",
            "gridcolor": "#DFE8F3",
            "gridwidth": 2,
            "linecolor": "#EBF0F8",
            "showbackground": true,
            "ticks": "",
            "zerolinecolor": "#EBF0F8"
           }
          },
          "shapedefaults": {
           "line": {
            "color": "#2a3f5f"
           }
          },
          "ternary": {
           "aaxis": {
            "gridcolor": "#DFE8F3",
            "linecolor": "#A2B1C6",
            "ticks": ""
           },
           "baxis": {
            "gridcolor": "#DFE8F3",
            "linecolor": "#A2B1C6",
            "ticks": ""
           },
           "bgcolor": "white",
           "caxis": {
            "gridcolor": "#DFE8F3",
            "linecolor": "#A2B1C6",
            "ticks": ""
           }
          },
          "title": {
           "x": 0.05
          },
          "xaxis": {
           "automargin": true,
           "gridcolor": "#EBF0F8",
           "linecolor": "#EBF0F8",
           "ticks": "",
           "title": {
            "standoff": 15
           },
           "zerolinecolor": "#EBF0F8",
           "zerolinewidth": 2
          },
          "yaxis": {
           "automargin": true,
           "gridcolor": "#EBF0F8",
           "linecolor": "#EBF0F8",
           "ticks": "",
           "title": {
            "standoff": 15
           },
           "zerolinecolor": "#EBF0F8",
           "zerolinewidth": 2
          }
         }
        },
        "title": {
         "text": "Cross-Validation (N=5) Mean F1 score with Error Bands"
        },
        "xaxis": {
         "title": {
          "text": "Training Steps"
         }
        },
        "yaxis": {
         "range": [
          0.5,
          1
         ],
         "title": {
          "text": "Performance Score"
         }
        }
       }
      }
     },
     "metadata": {},
     "output_type": "display_data"
    }
   ],
   "source": [
    "from ARISA_DSML.train import plot_error_scatter\n",
    "\n",
    "cv_results = pd.read_csv(cv_output_path)\n",
    "plot_error_scatter(\n",
    "    df_plot=cv_results,\n",
    "    name=\"Mean F1 Score\",\n",
    "    title=\"Cross-Validation (N=5) Mean F1 score with Error Bands\",\n",
    "    xtitle=\"Training Steps\",\n",
    "    ytitle=\"Performance Score\",\n",
    "    yaxis_range=[0.5, 1],\n",
    ")"
   ]
  },
  {
   "cell_type": "code",
   "execution_count": 26,
   "id": "d77edfd5",
   "metadata": {},
   "outputs": [
    {
     "data": {
      "application/vnd.plotly.v1+json": {
       "config": {
        "plotlyServerURL": "https://plot.ly"
       },
       "data": [
        {
         "line": {
          "color": "blue"
         },
         "mode": "lines",
         "name": "Mean logloss",
         "type": "scatter",
         "x": {
          "bdata": "AAECAwQFBgcICQoLDA0ODxAREhMUFRYXGBkaGxwdHh8gISIjJCUmJygpKissLS4vMDEyMzQ1Njc4OTo7PD0+P0BBQkNERUZHSElKS0xNTk9QUVJTVFVWV1hZWltcXV5fYGFiY2RlZmdoaWprbG1ub3BxcnN0dXZ3eHl6",
          "dtype": "i1"
         },
         "y": {
          "bdata": "5vg1o7eq4z9yuULWi//hP1rDSD8puOA/jRSK1lXP3z+yuiXyFm3eP7d5vDZuet0/tZaT/8i83D8UGNTqIFjcP2UfRMoNPNw/+qGx7t352z+hiqPrK9jbPzHZdpvut9s/enKjGDSv2z/egTAg+I3bPyG9DFBIdNs/cc7Utw9z2z+1fx6xhWTbP2gH2m1NUts/9f2kw0NH2z/sDXRJL0zbP9mOu43oR9s/AgXkoaNA2z9KP4JKU1DbPxnpsWAzSts/lMiteE1f2z+I1VkxvVjbP8eFk7/4TNs/vvVZA7VS2z/9fZ51g2nbP5nws9OgXts/HsbDVaFk2z+bLLMUUWXbPwrqW0siYts/mKQs0pFh2z+GzK4iTV3bP+bIIiKcUts/1gl/pftl2z9G+khaRV3bPxY/gQWYZds/XYMrRBxs2z+UhO7nb2TbPwOkN8LibNs/DfseW/x92z+PHHTD8IvbP2WYcV7Ahds/L2W9j1eH2z/qlcog+4zbP6MzOGTZlNs/yVv9+imU2z8Fp0C7uKLbP3T/ofu0rds/TGT3P0mw2z87C6n8+7rbP4KkKkN7vts/U76XOaiz2z8NO/PWTq/bPyI2jLgewds/HTeFMZ/F2z/Ahnx3l9TbP2x1H68Ly9s/3d96wXXA2z+/2UpR58LbP2j1JJOgz9s/ok4yJJzS2z/KsOFOGODbP4mbR7lT0ts/0N2nZmna2z+gC0SH4tnbP0KMurEW3Ns/tYk0yGrb2z+AYVnJVdTbP3ToeFELxds/HEY49XbS2z85GVBILNHbP6Uat4aSzds/cP82jDvL2z+8a5EztM3bP2qzdwS5yds/EGCRdRXX2z+BdU2C8NzbP8DnHAp/3Ns/JO0O2czX2z+V6gmM0tnbPwVb7eDh29s/wwNqs2Tf2z9tFkehyOfbP8j6rZA23ds/CnbrpLzj2z9O8hwM1+jbP62QlKwP5ts/8UPuJ1Hj2z8Pgw8ZMOfbP8afT+o02ts/5YPVxovc2z9dawFdKO7bP0RjfQ1Y9Ns/eJ0Lv7r52z/cDM11b/7bP+wc13vh/ds/oGbQFjIE3D+1A1ZX2QTcP6NYSGm0CNw/RQdDRNwC3D9mefPttAbcP4B6Afn6B9w/2vwJTD0T3D96zAvElh7cP3vSt5VSLNw/E7gymawp3D/SfBHGuyXcP5OFTK4+Htw/Soo9n0sg3D8+ryjbGRncPzS2Pjh5HNw/bjt5cfMf3D+8YopbBRncP5l/618TJdw/r/BnSssh3D/ePxkRaivcP4pWvmVLM9w/i+wUvPwz3D8zBqsXDTzcP6ipCkHPLtw/",
          "dtype": "f8"
         }
        },
        {
         "fill": "toself",
         "fillcolor": "rgba(0, 0, 255, 0.2)",
         "line": {
          "color": "rgba(255, 255, 255, 0)"
         },
         "showlegend": false,
         "type": "scatter",
         "x": {
          "bdata": "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",
          "dtype": "f8"
         },
         "y": {
          "bdata": "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",
          "dtype": "f8"
         }
        }
       ],
       "layout": {
        "template": {
         "data": {
          "bar": [
           {
            "error_x": {
             "color": "#2a3f5f"
            },
            "error_y": {
             "color": "#2a3f5f"
            },
            "marker": {
             "line": {
              "color": "white",
              "width": 0.5
             },
             "pattern": {
              "fillmode": "overlay",
              "size": 10,
              "solidity": 0.2
             }
            },
            "type": "bar"
           }
          ],
          "barpolar": [
           {
            "marker": {
             "line": {
              "color": "white",
              "width": 0.5
             },
             "pattern": {
              "fillmode": "overlay",
              "size": 10,
              "solidity": 0.2
             }
            },
            "type": "barpolar"
           }
          ],
          "carpet": [
           {
            "aaxis": {
             "endlinecolor": "#2a3f5f",
             "gridcolor": "#C8D4E3",
             "linecolor": "#C8D4E3",
             "minorgridcolor": "#C8D4E3",
             "startlinecolor": "#2a3f5f"
            },
            "baxis": {
             "endlinecolor": "#2a3f5f",
             "gridcolor": "#C8D4E3",
             "linecolor": "#C8D4E3",
             "minorgridcolor": "#C8D4E3",
             "startlinecolor": "#2a3f5f"
            },
            "type": "carpet"
           }
          ],
          "choropleth": [
           {
            "colorbar": {
             "outlinewidth": 0,
             "ticks": ""
            },
            "type": "choropleth"
           }
          ],
          "contour": [
           {
            "colorbar": {
             "outlinewidth": 0,
             "ticks": ""
            },
            "colorscale": [
             [
              0,
              "#0d0887"
             ],
             [
              0.1111111111111111,
              "#46039f"
             ],
             [
              0.2222222222222222,
              "#7201a8"
             ],
             [
              0.3333333333333333,
              "#9c179e"
             ],
             [
              0.4444444444444444,
              "#bd3786"
             ],
             [
              0.5555555555555556,
              "#d8576b"
             ],
             [
              0.6666666666666666,
              "#ed7953"
             ],
             [
              0.7777777777777778,
              "#fb9f3a"
             ],
             [
              0.8888888888888888,
              "#fdca26"
             ],
             [
              1,
              "#f0f921"
             ]
            ],
            "type": "contour"
           }
          ],
          "contourcarpet": [
           {
            "colorbar": {
             "outlinewidth": 0,
             "ticks": ""
            },
            "type": "contourcarpet"
           }
          ],
          "heatmap": [
           {
            "colorbar": {
             "outlinewidth": 0,
             "ticks": ""
            },
            "colorscale": [
             [
              0,
              "#0d0887"
             ],
             [
              0.1111111111111111,
              "#46039f"
             ],
             [
              0.2222222222222222,
              "#7201a8"
             ],
             [
              0.3333333333333333,
              "#9c179e"
             ],
             [
              0.4444444444444444,
              "#bd3786"
             ],
             [
              0.5555555555555556,
              "#d8576b"
             ],
             [
              0.6666666666666666,
              "#ed7953"
             ],
             [
              0.7777777777777778,
              "#fb9f3a"
             ],
             [
              0.8888888888888888,
              "#fdca26"
             ],
             [
              1,
              "#f0f921"
             ]
            ],
            "type": "heatmap"
           }
          ],
          "histogram": [
           {
            "marker": {
             "pattern": {
              "fillmode": "overlay",
              "size": 10,
              "solidity": 0.2
             }
            },
            "type": "histogram"
           }
          ],
          "histogram2d": [
           {
            "colorbar": {
             "outlinewidth": 0,
             "ticks": ""
            },
            "colorscale": [
             [
              0,
              "#0d0887"
             ],
             [
              0.1111111111111111,
              "#46039f"
             ],
             [
              0.2222222222222222,
              "#7201a8"
             ],
             [
              0.3333333333333333,
              "#9c179e"
             ],
             [
              0.4444444444444444,
              "#bd3786"
             ],
             [
              0.5555555555555556,
              "#d8576b"
             ],
             [
              0.6666666666666666,
              "#ed7953"
             ],
             [
              0.7777777777777778,
              "#fb9f3a"
             ],
             [
              0.8888888888888888,
              "#fdca26"
             ],
             [
              1,
              "#f0f921"
             ]
            ],
            "type": "histogram2d"
           }
          ],
          "histogram2dcontour": [
           {
            "colorbar": {
             "outlinewidth": 0,
             "ticks": ""
            },
            "colorscale": [
             [
              0,
              "#0d0887"
             ],
             [
              0.1111111111111111,
              "#46039f"
             ],
             [
              0.2222222222222222,
              "#7201a8"
             ],
             [
              0.3333333333333333,
              "#9c179e"
             ],
             [
              0.4444444444444444,
              "#bd3786"
             ],
             [
              0.5555555555555556,
              "#d8576b"
             ],
             [
              0.6666666666666666,
              "#ed7953"
             ],
             [
              0.7777777777777778,
              "#fb9f3a"
             ],
             [
              0.8888888888888888,
              "#fdca26"
             ],
             [
              1,
              "#f0f921"
             ]
            ],
            "type": "histogram2dcontour"
           }
          ],
          "mesh3d": [
           {
            "colorbar": {
             "outlinewidth": 0,
             "ticks": ""
            },
            "type": "mesh3d"
           }
          ],
          "parcoords": [
           {
            "line": {
             "colorbar": {
              "outlinewidth": 0,
              "ticks": ""
             }
            },
            "type": "parcoords"
           }
          ],
          "pie": [
           {
            "automargin": true,
            "type": "pie"
           }
          ],
          "scatter": [
           {
            "fillpattern": {
             "fillmode": "overlay",
             "size": 10,
             "solidity": 0.2
            },
            "type": "scatter"
           }
          ],
          "scatter3d": [
           {
            "line": {
             "colorbar": {
              "outlinewidth": 0,
              "ticks": ""
             }
            },
            "marker": {
             "colorbar": {
              "outlinewidth": 0,
              "ticks": ""
             }
            },
            "type": "scatter3d"
           }
          ],
          "scattercarpet": [
           {
            "marker": {
             "colorbar": {
              "outlinewidth": 0,
              "ticks": ""
             }
            },
            "type": "scattercarpet"
           }
          ],
          "scattergeo": [
           {
            "marker": {
             "colorbar": {
              "outlinewidth": 0,
              "ticks": ""
             }
            },
            "type": "scattergeo"
           }
          ],
          "scattergl": [
           {
            "marker": {
             "colorbar": {
              "outlinewidth": 0,
              "ticks": ""
             }
            },
            "type": "scattergl"
           }
          ],
          "scattermap": [
           {
            "marker": {
             "colorbar": {
              "outlinewidth": 0,
              "ticks": ""
             }
            },
            "type": "scattermap"
           }
          ],
          "scattermapbox": [
           {
            "marker": {
             "colorbar": {
              "outlinewidth": 0,
              "ticks": ""
             }
            },
            "type": "scattermapbox"
           }
          ],
          "scatterpolar": [
           {
            "marker": {
             "colorbar": {
              "outlinewidth": 0,
              "ticks": ""
             }
            },
            "type": "scatterpolar"
           }
          ],
          "scatterpolargl": [
           {
            "marker": {
             "colorbar": {
              "outlinewidth": 0,
              "ticks": ""
             }
            },
            "type": "scatterpolargl"
           }
          ],
          "scatterternary": [
           {
            "marker": {
             "colorbar": {
              "outlinewidth": 0,
              "ticks": ""
             }
            },
            "type": "scatterternary"
           }
          ],
          "surface": [
           {
            "colorbar": {
             "outlinewidth": 0,
             "ticks": ""
            },
            "colorscale": [
             [
              0,
              "#0d0887"
             ],
             [
              0.1111111111111111,
              "#46039f"
             ],
             [
              0.2222222222222222,
              "#7201a8"
             ],
             [
              0.3333333333333333,
              "#9c179e"
             ],
             [
              0.4444444444444444,
              "#bd3786"
             ],
             [
              0.5555555555555556,
              "#d8576b"
             ],
             [
              0.6666666666666666,
              "#ed7953"
             ],
             [
              0.7777777777777778,
              "#fb9f3a"
             ],
             [
              0.8888888888888888,
              "#fdca26"
             ],
             [
              1,
              "#f0f921"
             ]
            ],
            "type": "surface"
           }
          ],
          "table": [
           {
            "cells": {
             "fill": {
              "color": "#EBF0F8"
             },
             "line": {
              "color": "white"
             }
            },
            "header": {
             "fill": {
              "color": "#C8D4E3"
             },
             "line": {
              "color": "white"
             }
            },
            "type": "table"
           }
          ]
         },
         "layout": {
          "annotationdefaults": {
           "arrowcolor": "#2a3f5f",
           "arrowhead": 0,
           "arrowwidth": 1
          },
          "autotypenumbers": "strict",
          "coloraxis": {
           "colorbar": {
            "outlinewidth": 0,
            "ticks": ""
           }
          },
          "colorscale": {
           "diverging": [
            [
             0,
             "#8e0152"
            ],
            [
             0.1,
             "#c51b7d"
            ],
            [
             0.2,
             "#de77ae"
            ],
            [
             0.3,
             "#f1b6da"
            ],
            [
             0.4,
             "#fde0ef"
            ],
            [
             0.5,
             "#f7f7f7"
            ],
            [
             0.6,
             "#e6f5d0"
            ],
            [
             0.7,
             "#b8e186"
            ],
            [
             0.8,
             "#7fbc41"
            ],
            [
             0.9,
             "#4d9221"
            ],
            [
             1,
             "#276419"
            ]
           ],
           "sequential": [
            [
             0,
             "#0d0887"
            ],
            [
             0.1111111111111111,
             "#46039f"
            ],
            [
             0.2222222222222222,
             "#7201a8"
            ],
            [
             0.3333333333333333,
             "#9c179e"
            ],
            [
             0.4444444444444444,
             "#bd3786"
            ],
            [
             0.5555555555555556,
             "#d8576b"
            ],
            [
             0.6666666666666666,
             "#ed7953"
            ],
            [
             0.7777777777777778,
             "#fb9f3a"
            ],
            [
             0.8888888888888888,
             "#fdca26"
            ],
            [
             1,
             "#f0f921"
            ]
           ],
           "sequentialminus": [
            [
             0,
             "#0d0887"
            ],
            [
             0.1111111111111111,
             "#46039f"
            ],
            [
             0.2222222222222222,
             "#7201a8"
            ],
            [
             0.3333333333333333,
             "#9c179e"
            ],
            [
             0.4444444444444444,
             "#bd3786"
            ],
            [
             0.5555555555555556,
             "#d8576b"
            ],
            [
             0.6666666666666666,
             "#ed7953"
            ],
            [
             0.7777777777777778,
             "#fb9f3a"
            ],
            [
             0.8888888888888888,
             "#fdca26"
            ],
            [
             1,
             "#f0f921"
            ]
           ]
          },
          "colorway": [
           "#636efa",
           "#EF553B",
           "#00cc96",
           "#ab63fa",
           "#FFA15A",
           "#19d3f3",
           "#FF6692",
           "#B6E880",
           "#FF97FF",
           "#FECB52"
          ],
          "font": {
           "color": "#2a3f5f"
          },
          "geo": {
           "bgcolor": "white",
           "lakecolor": "white",
           "landcolor": "white",
           "showlakes": true,
           "showland": true,
           "subunitcolor": "#C8D4E3"
          },
          "hoverlabel": {
           "align": "left"
          },
          "hovermode": "closest",
          "mapbox": {
           "style": "light"
          },
          "paper_bgcolor": "white",
          "plot_bgcolor": "white",
          "polar": {
           "angularaxis": {
            "gridcolor": "#EBF0F8",
            "linecolor": "#EBF0F8",
            "ticks": ""
           },
           "bgcolor": "white",
           "radialaxis": {
            "gridcolor": "#EBF0F8",
            "linecolor": "#EBF0F8",
            "ticks": ""
           }
          },
          "scene": {
           "xaxis": {
            "backgroundcolor": "white",
            "gridcolor": "#DFE8F3",
            "gridwidth": 2,
            "linecolor": "#EBF0F8",
            "showbackground": true,
            "ticks": "",
            "zerolinecolor": "#EBF0F8"
           },
           "yaxis": {
            "backgroundcolor": "white",
            "gridcolor": "#DFE8F3",
            "gridwidth": 2,
            "linecolor": "#EBF0F8",
            "showbackground": true,
            "ticks": "",
            "zerolinecolor": "#EBF0F8"
           },
           "zaxis": {
            "backgroundcolor": "white",
            "gridcolor": "#DFE8F3",
            "gridwidth": 2,
            "linecolor": "#EBF0F8",
            "showbackground": true,
            "ticks": "",
            "zerolinecolor": "#EBF0F8"
           }
          },
          "shapedefaults": {
           "line": {
            "color": "#2a3f5f"
           }
          },
          "ternary": {
           "aaxis": {
            "gridcolor": "#DFE8F3",
            "linecolor": "#A2B1C6",
            "ticks": ""
           },
           "baxis": {
            "gridcolor": "#DFE8F3",
            "linecolor": "#A2B1C6",
            "ticks": ""
           },
           "bgcolor": "white",
           "caxis": {
            "gridcolor": "#DFE8F3",
            "linecolor": "#A2B1C6",
            "ticks": ""
           }
          },
          "title": {
           "x": 0.05
          },
          "xaxis": {
           "automargin": true,
           "gridcolor": "#EBF0F8",
           "linecolor": "#EBF0F8",
           "ticks": "",
           "title": {
            "standoff": 15
           },
           "zerolinecolor": "#EBF0F8",
           "zerolinewidth": 2
          },
          "yaxis": {
           "automargin": true,
           "gridcolor": "#EBF0F8",
           "linecolor": "#EBF0F8",
           "ticks": "",
           "title": {
            "standoff": 15
           },
           "zerolinecolor": "#EBF0F8",
           "zerolinewidth": 2
          }
         }
        },
        "title": {
         "text": "Cross-Validation (N=5) Mean Logloss with Error Bands"
        },
        "xaxis": {
         "title": {
          "text": "Training Steps"
         }
        },
        "yaxis": {
         "title": {
          "text": "Logloss"
         }
        }
       }
      }
     },
     "metadata": {},
     "output_type": "display_data"
    }
   ],
   "source": [
    "plot_error_scatter(\n",
    "    cv_results,\n",
    "    x=\"iterations\",\n",
    "    y=\"test-Logloss-mean\",\n",
    "    err=\"test-Logloss-std\",\n",
    "    name=\"Mean logloss\",\n",
    "    title=\"Cross-Validation (N=5) Mean Logloss with Error Bands\",\n",
    "    xtitle=\"Training Steps\",\n",
    "    ytitle=\"Logloss\",\n",
    ")\n"
   ]
  },
  {
   "cell_type": "markdown",
   "id": "660b208e-b2b8-4bd2-ae70-6f75b550d65d",
   "metadata": {
    "editable": false,
    "slideshow": {
     "slide_type": "slide"
    },
    "tags": []
   },
   "source": [
    "Fit model on full dataset:"
   ]
  },
  {
   "cell_type": "code",
   "execution_count": null,
   "id": "a8059c1d-ee28-4580-9d5d-9a9c4eb91a4b",
   "metadata": {
    "editable": true,
    "scrolled": true,
    "slideshow": {
     "slide_type": "subslide"
    },
    "tags": []
   },
   "outputs": [
    {
     "data": {
      "application/vnd.jupyter.widget-view+json": {
       "model_id": "86a77cc7fa6949c8964637b606ec5a0a",
       "version_major": 2,
       "version_minor": 0
      },
      "text/plain": [
       "MetricVisualizer(layout=Layout(align_self='stretch', height='500px'))"
      ]
     },
     "metadata": {},
     "output_type": "display_data"
    },
    {
     "name": "stdout",
     "output_type": "stream",
     "text": [
      "0:\tlearn: 0.6118112\ttotal: 872us\tremaining: 87.2ms\n",
      "50:\tlearn: 0.3648257\ttotal: 22.5ms\tremaining: 22.1ms\n",
      "100:\tlearn: 0.3026029\ttotal: 43.8ms\tremaining: 0us\n"
     ]
    },
    {
     "name": "stderr",
     "output_type": "stream",
     "text": [
      "/home/vscode/.local/lib/python3.11/site-packages/mlflow/types/utils.py:394: UserWarning: Hint: Inferred schema contains integer column(s). Integer columns in Python cannot represent missing values. If your input data contains missing values at inference time, it will be encoded as floats and will cause a schema enforcement error. The best way to avoid this problem is to infer the model schema based on a realistic data sample (training dataset) that includes missing values. Alternatively, you can declare integer columns as doubles (float64) whenever these columns may have missing values. See `Handling Integers With Missing Values <https://www.mlflow.org/docs/latest/models.html#handling-integers-with-missing-values>`_ for more details.\n",
      "  warnings.warn(\n",
      "Successfully registered model 'titanic-surv-bclass'.\n",
      "2025/03/11 19:13:44 INFO mlflow.store.model_registry.abstract_store: Waiting up to 300 seconds for model version to finish creation. Model name: titanic-surv-bclass, version 1\n",
      "Created version '1' of model 'titanic-surv-bclass'.\n",
      "/workspaces/ARISA-MLOps/ARISA_DSML/train.py:143: FutureWarning: ``mlflow.tracking.client.MlflowClient.get_latest_versions`` is deprecated since 2.9.0. Model registry stages will be removed in a future major release. To learn more about the deprecation of model registry stages, see our migration guide here: https://mlflow.org/docs/2.12.1/model-registry.html#migrating-from-stages\n",
      "  model_info = client.get_latest_versions(MODEL_NAME)[0]\n"
     ]
    }
   ],
   "source": [
    "from ARISA_DSML.train import train\n",
    "\n",
    "params = joblib.load(best_params_path)\n",
    "experiment_id = get_or_create_experiment(\"titanic_full_training\")\n",
    "mlflow.set_experiment(experiment_id=experiment_id)\n",
    "cv_results = pd.read_csv(cv_output_path)\n",
    "model_path, model_params_path = train(X_train, y_train, categorical_indices, params, cv_results=cv_results)"
   ]
  },
  {
   "cell_type": "markdown",
   "id": "11d6658f-ac2b-4a8f-a872-b66bbcf4b19b",
   "metadata": {
    "editable": false,
    "slideshow": {
     "slide_type": "slide"
    },
    "tags": []
   },
   "source": [
    "And now for the test set, because of our refactor, we don't need to copy paste anymore:"
   ]
  },
  {
   "cell_type": "code",
   "execution_count": 32,
   "id": "ea7b6f53-6b16-453f-b0b8-336f0b8ceee1",
   "metadata": {
    "editable": true,
    "slideshow": {
     "slide_type": "subslide"
    },
    "tags": []
   },
   "outputs": [
    {
     "data": {
      "text/html": [
       "<div>\n",
       "<style scoped>\n",
       "    .dataframe tbody tr th:only-of-type {\n",
       "        vertical-align: middle;\n",
       "    }\n",
       "\n",
       "    .dataframe tbody tr th {\n",
       "        vertical-align: top;\n",
       "    }\n",
       "\n",
       "    .dataframe thead th {\n",
       "        text-align: right;\n",
       "    }\n",
       "</style>\n",
       "<table border=\"1\" class=\"dataframe\">\n",
       "  <thead>\n",
       "    <tr style=\"text-align: right;\">\n",
       "      <th></th>\n",
       "      <th>PassengerId</th>\n",
       "      <th>Pclass</th>\n",
       "      <th>Sex</th>\n",
       "      <th>Age</th>\n",
       "      <th>SibSp</th>\n",
       "      <th>Parch</th>\n",
       "      <th>Fare</th>\n",
       "      <th>Embarked</th>\n",
       "      <th>Title</th>\n",
       "      <th>Deck</th>\n",
       "      <th>CabinNumber</th>\n",
       "    </tr>\n",
       "  </thead>\n",
       "  <tbody>\n",
       "    <tr>\n",
       "      <th>0</th>\n",
       "      <td>892</td>\n",
       "      <td>3</td>\n",
       "      <td>male</td>\n",
       "      <td>34.5</td>\n",
       "      <td>0</td>\n",
       "      <td>0</td>\n",
       "      <td>7.8292</td>\n",
       "      <td>Q</td>\n",
       "      <td>Mr</td>\n",
       "      <td>N</td>\n",
       "      <td>47</td>\n",
       "    </tr>\n",
       "    <tr>\n",
       "      <th>1</th>\n",
       "      <td>893</td>\n",
       "      <td>3</td>\n",
       "      <td>female</td>\n",
       "      <td>47.0</td>\n",
       "      <td>1</td>\n",
       "      <td>0</td>\n",
       "      <td>7.0000</td>\n",
       "      <td>S</td>\n",
       "      <td>Mrs</td>\n",
       "      <td>N</td>\n",
       "      <td>47</td>\n",
       "    </tr>\n",
       "    <tr>\n",
       "      <th>2</th>\n",
       "      <td>894</td>\n",
       "      <td>2</td>\n",
       "      <td>male</td>\n",
       "      <td>62.0</td>\n",
       "      <td>0</td>\n",
       "      <td>0</td>\n",
       "      <td>9.6875</td>\n",
       "      <td>Q</td>\n",
       "      <td>Mr</td>\n",
       "      <td>N</td>\n",
       "      <td>47</td>\n",
       "    </tr>\n",
       "    <tr>\n",
       "      <th>3</th>\n",
       "      <td>895</td>\n",
       "      <td>3</td>\n",
       "      <td>male</td>\n",
       "      <td>27.0</td>\n",
       "      <td>0</td>\n",
       "      <td>0</td>\n",
       "      <td>8.6625</td>\n",
       "      <td>S</td>\n",
       "      <td>Mr</td>\n",
       "      <td>N</td>\n",
       "      <td>47</td>\n",
       "    </tr>\n",
       "    <tr>\n",
       "      <th>4</th>\n",
       "      <td>896</td>\n",
       "      <td>3</td>\n",
       "      <td>female</td>\n",
       "      <td>22.0</td>\n",
       "      <td>1</td>\n",
       "      <td>1</td>\n",
       "      <td>12.2875</td>\n",
       "      <td>S</td>\n",
       "      <td>Mrs</td>\n",
       "      <td>N</td>\n",
       "      <td>47</td>\n",
       "    </tr>\n",
       "  </tbody>\n",
       "</table>\n",
       "</div>"
      ],
      "text/plain": [
       "   PassengerId  Pclass     Sex   Age  SibSp  Parch     Fare Embarked Title  \\\n",
       "0          892       3    male  34.5      0      0   7.8292        Q    Mr   \n",
       "1          893       3  female  47.0      1      0   7.0000        S   Mrs   \n",
       "2          894       2    male  62.0      0      0   9.6875        Q    Mr   \n",
       "3          895       3    male  27.0      0      0   8.6625        S    Mr   \n",
       "4          896       3  female  22.0      1      1  12.2875        S   Mrs   \n",
       "\n",
       "  Deck  CabinNumber  \n",
       "0    N           47  \n",
       "1    N           47  \n",
       "2    N           47  \n",
       "3    N           47  \n",
       "4    N           47  "
      ]
     },
     "execution_count": 32,
     "metadata": {},
     "output_type": "execute_result"
    }
   ],
   "source": [
    "dataset_test_path = RAW_DATA_DIR / \"test.csv\"\n",
    "preprocced_test_path = preprocess_df(dataset_test_path)\n",
    "df_test = pd.read_csv(preprocced_test_path)\n",
    "df_test[\"Title\"].unique()\n",
    "\n",
    "df_test.head()"
   ]
  },
  {
   "cell_type": "code",
   "execution_count": 33,
   "id": "c0576580",
   "metadata": {},
   "outputs": [
    {
     "data": {
      "text/html": [
       "<div>\n",
       "<style scoped>\n",
       "    .dataframe tbody tr th:only-of-type {\n",
       "        vertical-align: middle;\n",
       "    }\n",
       "\n",
       "    .dataframe tbody tr th {\n",
       "        vertical-align: top;\n",
       "    }\n",
       "\n",
       "    .dataframe thead th {\n",
       "        text-align: right;\n",
       "    }\n",
       "</style>\n",
       "<table border=\"1\" class=\"dataframe\">\n",
       "  <thead>\n",
       "    <tr style=\"text-align: right;\">\n",
       "      <th></th>\n",
       "      <th>PassengerId</th>\n",
       "      <th>Pclass</th>\n",
       "      <th>Sex</th>\n",
       "      <th>Age</th>\n",
       "      <th>SibSp</th>\n",
       "      <th>Parch</th>\n",
       "      <th>Fare</th>\n",
       "      <th>Embarked</th>\n",
       "      <th>Title</th>\n",
       "      <th>Deck</th>\n",
       "      <th>CabinNumber</th>\n",
       "    </tr>\n",
       "  </thead>\n",
       "  <tbody>\n",
       "    <tr>\n",
       "      <th>0</th>\n",
       "      <td>1</td>\n",
       "      <td>3</td>\n",
       "      <td>male</td>\n",
       "      <td>22.0</td>\n",
       "      <td>1</td>\n",
       "      <td>0</td>\n",
       "      <td>7.2500</td>\n",
       "      <td>S</td>\n",
       "      <td>Mr</td>\n",
       "      <td>N</td>\n",
       "      <td>50</td>\n",
       "    </tr>\n",
       "    <tr>\n",
       "      <th>1</th>\n",
       "      <td>2</td>\n",
       "      <td>1</td>\n",
       "      <td>female</td>\n",
       "      <td>38.0</td>\n",
       "      <td>1</td>\n",
       "      <td>0</td>\n",
       "      <td>71.2833</td>\n",
       "      <td>C</td>\n",
       "      <td>Mrs</td>\n",
       "      <td>C</td>\n",
       "      <td>85</td>\n",
       "    </tr>\n",
       "    <tr>\n",
       "      <th>2</th>\n",
       "      <td>3</td>\n",
       "      <td>3</td>\n",
       "      <td>female</td>\n",
       "      <td>26.0</td>\n",
       "      <td>0</td>\n",
       "      <td>0</td>\n",
       "      <td>7.9250</td>\n",
       "      <td>S</td>\n",
       "      <td>Miss</td>\n",
       "      <td>N</td>\n",
       "      <td>50</td>\n",
       "    </tr>\n",
       "    <tr>\n",
       "      <th>3</th>\n",
       "      <td>4</td>\n",
       "      <td>1</td>\n",
       "      <td>female</td>\n",
       "      <td>35.0</td>\n",
       "      <td>1</td>\n",
       "      <td>0</td>\n",
       "      <td>53.1000</td>\n",
       "      <td>S</td>\n",
       "      <td>Mrs</td>\n",
       "      <td>C</td>\n",
       "      <td>123</td>\n",
       "    </tr>\n",
       "    <tr>\n",
       "      <th>4</th>\n",
       "      <td>5</td>\n",
       "      <td>3</td>\n",
       "      <td>male</td>\n",
       "      <td>35.0</td>\n",
       "      <td>0</td>\n",
       "      <td>0</td>\n",
       "      <td>8.0500</td>\n",
       "      <td>S</td>\n",
       "      <td>Mr</td>\n",
       "      <td>N</td>\n",
       "      <td>50</td>\n",
       "    </tr>\n",
       "  </tbody>\n",
       "</table>\n",
       "</div>"
      ],
      "text/plain": [
       "   PassengerId  Pclass     Sex   Age  SibSp  Parch     Fare Embarked Title  \\\n",
       "0            1       3    male  22.0      1      0   7.2500        S    Mr   \n",
       "1            2       1  female  38.0      1      0  71.2833        C   Mrs   \n",
       "2            3       3  female  26.0      0      0   7.9250        S  Miss   \n",
       "3            4       1  female  35.0      1      0  53.1000        S   Mrs   \n",
       "4            5       3    male  35.0      0      0   8.0500        S    Mr   \n",
       "\n",
       "  Deck  CabinNumber  \n",
       "0    N           50  \n",
       "1    C           85  \n",
       "2    N           50  \n",
       "3    C          123  \n",
       "4    N           50  "
      ]
     },
     "execution_count": 33,
     "metadata": {},
     "output_type": "execute_result"
    }
   ],
   "source": [
    "df_train.head()"
   ]
  },
  {
   "cell_type": "markdown",
   "id": "bae031a2",
   "metadata": {},
   "source": [
    "Get predictions and shap plot:"
   ]
  },
  {
   "cell_type": "code",
   "execution_count": null,
   "id": "3f9e330a",
   "metadata": {},
   "outputs": [
    {
     "name": "stderr",
     "output_type": "stream",
     "text": [
      "C:\\Users\\claus\\AppData\\Local\\Temp\\ipykernel_6160\\1105794690.py:6: FutureWarning:\n",
      "\n",
      "``mlflow.tracking.client.MlflowClient.get_latest_versions`` is deprecated since 2.9.0. Model registry stages will be removed in a future major release. To learn more about the deprecation of model registry stages, see our migration guide here: https://mlflow.org/docs/2.12.1/model-registry.html#migrating-from-stages\n",
      "\n",
      "C:\\Users\\claus\\AppData\\Local\\Temp\\ipykernel_6160\\1105794690.py:14: FutureWarning:\n",
      "\n",
      "``mlflow.tracking.client.MlflowClient.get_latest_versions`` is deprecated since 2.9.0. Model registry stages will be removed in a future major release. To learn more about the deprecation of model registry stages, see our migration guide here: https://mlflow.org/docs/2.12.1/model-registry.html#migrating-from-stages\n",
      "\n"
     ]
    },
    {
     "data": {
      "application/vnd.jupyter.widget-view+json": {
       "model_id": "d88159ef61e24403aea68e518dfa7863",
       "version_major": 2,
       "version_minor": 0
      },
      "text/plain": [
       "Downloading artifacts:   0%|          | 0/10 [00:00<?, ?it/s]"
      ]
     },
     "metadata": {},
     "output_type": "display_data"
    },
    {
     "name": "stderr",
     "output_type": "stream",
     "text": [
      "2025/03/08 21:06:57 INFO mlflow.store.artifact.artifact_repo: The progress bar can be disabled by setting the environment variable MLFLOW_ENABLE_ARTIFACTS_PROGRESS_BAR to false\n"
     ]
    },
    {
     "data": {
      "image/png": "[encoded data removed]",
      "text/plain": [
       "<Figure size 800x590 with 2 Axes>"
      ]
     },
     "metadata": {},
     "output_type": "display_data"
    }
   ],
   "source": [
    "import json\n",
    "\n",
    "from ARISA_DSML.predict import predict\n",
    "from mlflow.client import MlflowClient\n",
    "\n",
    "client = MlflowClient(mlflow.get_tracking_uri())\n",
    "model_info = client.get_latest_versions(\"titanic-surv-bclass\")[0]\n",
    "\n",
    "# extract params/metrics data for run `test_run_id` in a single dict\n",
    "run_data_dict = client.get_run(model_info.run_id).data.to_dictionary()\n",
    "run = client.get_run(model_info.run_id)\n",
    "log_model_meta = json.loads(run.data.tags[\"mlflow.log-model.history\"])\n",
    "log_model_meta[0][\"signature\"]\n",
    "\n",
    "latest_model = client.get_latest_versions(\"titanic-surv-bclass\")\n",
    "\n",
    "_, artifact_folder = os.path.split(latest_model[0].source)\n",
    "model_uri = f\"runs:/{latest_model[0].run_id}/{artifact_folder}\"\n",
    "loaded_model = mlflow.catboost.load_model(model_uri)\n",
    "\n",
    "params = run_data_dict[\"params\"]\n",
    "params[\"feature_columns\"] = [inp[\"name\"] for inp in json.loads(log_model_meta[0][\"signature\"][\"inputs\"])]\n",
    "preds_path = predict(loaded_model, df_test, params)\n"
   ]
  },
  {
   "cell_type": "markdown",
   "id": "75af8422",
   "metadata": {},
   "source": [
    "And that's it for the Mlflow demo.  "
   ]
  },
  {
   "cell_type": "code",
   "execution_count": 59,
   "id": "96edcf46",
   "metadata": {},
   "outputs": [],
   "source": [
    "from ARISA_DSML.resolve import get_model_by_alias\n",
    "\n",
    "client = MlflowClient(mlflow.get_tracking_uri())\n",
    "champ_mv = get_model_by_alias(client)\n",
    "chall_mv = get_model_by_alias(client, alias=\"challenger\")"
   ]
  },
  {
   "cell_type": "code",
   "execution_count": 80,
   "id": "112b34d8",
   "metadata": {},
   "outputs": [
    {
     "name": "stdout",
     "output_type": "stream",
     "text": [
      "runs:/474b922058b84f099df1dfd25ccc8f93/model\n"
     ]
    },
    {
     "data": {
      "application/vnd.jupyter.widget-view+json": {
       "model_id": "4225431b85f649af87686bdfe90d11ed",
       "version_major": 2,
       "version_minor": 0
      },
      "text/plain": [
       "Downloading artifacts:   0%|          | 0/10 [00:00<?, ?it/s]"
      ]
     },
     "metadata": {},
     "output_type": "display_data"
    },
    {
     "name": "stderr",
     "output_type": "stream",
     "text": [
      "2025/03/08 22:22:39 INFO mlflow.store.artifact.artifact_repo: The progress bar can be disabled by setting the environment variable MLFLOW_ENABLE_ARTIFACTS_PROGRESS_BAR to false\n"
     ]
    },
    {
     "data": {
      "image/png": "[encoded data removed]",
      "text/plain": [
       "<Figure size 800x590 with 2 Axes>"
      ]
     },
     "metadata": {},
     "output_type": "display_data"
    }
   ],
   "source": [
    "from ARISA_DSML.config import MODEL_NAME\n",
    "\n",
    "client = MlflowClient(mlflow.get_tracking_uri())\n",
    "model_info = get_model_by_alias(client, alias=\"champion\")\n",
    "if model_info is None:\n",
    "    model_info = client.get_latest_versions(MODEL_NAME)[0]\n",
    "\n",
    "# extract params/metrics data for run `test_run_id` in a single dict\n",
    "run_data_dict = client.get_run(model_info.run_id).data.to_dictionary()\n",
    "run = client.get_run(model_info.run_id)\n",
    "log_model_meta = json.loads(run.data.tags[\"mlflow.log-model.history\"])\n",
    "log_model_meta[0][\"signature\"]\n",
    "\n",
    "\n",
    "_, artifact_folder = os.path.split(model_info.source)\n",
    "model_uri = f\"runs:/{model_info.run_id}/{artifact_folder}\"\n",
    "loaded_model = mlflow.catboost.load_model(model_uri)\n",
    "\n",
    "params = run_data_dict[\"params\"]\n",
    "params[\"feature_columns\"] = [inp[\"name\"] for inp in json.loads(log_model_meta[0][\"signature\"][\"inputs\"])]\n",
    "preds_path = predict(loaded_model, df_test, params)\n"
   ]
  },
  {
   "cell_type": "code",
   "execution_count": null,
   "id": "f191b4f2",
   "metadata": {},
   "outputs": [],
   "source": [
    "\n",
    "\n"
   ]
  }
 ],
 "metadata": {
  "kernelspec": {
   "display_name": "Python 3",
   "language": "python",
   "name": "python3"
  },
  "language_info": {
   "codemirror_mode": {
    "name": "ipython",
    "version": 3
   },
   "file_extension": ".py",
   "mimetype": "text/x-python",
   "name": "python",
   "nbconvert_exporter": "python",
   "pygments_lexer": "ipython3",
   "version": "3.11.11"
  }
 },
 "nbformat": 4,
 "nbformat_minor": 5
}
